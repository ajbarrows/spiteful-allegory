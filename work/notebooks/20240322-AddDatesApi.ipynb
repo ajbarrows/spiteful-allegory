{
 "cells": [
  {
   "cell_type": "code",
   "execution_count": null,
   "metadata": {},
   "outputs": [],
   "source": [
    "%reload_kedro"
   ]
  },
  {
   "cell_type": "code",
   "execution_count": null,
   "metadata": {},
   "outputs": [],
   "source": [
    "import pandas as pd\n",
    "\n",
    "from io import StringIO\n",
    "import requests\n",
    "\n",
    "import os\n",
    "import pickle\n",
    "import gzip"
   ]
  },
  {
   "cell_type": "code",
   "execution_count": null,
   "metadata": {},
   "outputs": [],
   "source": [
    "ns = catalog.load('neurosynth_ds')"
   ]
  },
  {
   "cell_type": "code",
   "execution_count": null,
   "metadata": {},
   "outputs": [],
   "source": [
    "ns.texts"
   ]
  },
  {
   "cell_type": "code",
   "execution_count": null,
   "metadata": {},
   "outputs": [],
   "source": [
    "def _join_metadata(texts, metadata):\n",
    "\n",
    "    idx = ['id', 'study_id', 'contrast_id']\n",
    "    return (texts\n",
    "            .set_index(idx)\n",
    "            .join(metadata.set_index(idx))\n",
    "            .reset_index()\n",
    "        )\n",
    "\n",
    "_join_metadata(ns.texts, ns.metadata)"
   ]
  },
  {
   "cell_type": "code",
   "execution_count": null,
   "metadata": {},
   "outputs": [],
   "source": [
    "ns = catalog.load('neurosynth_ds')\n",
    "ns\n"
   ]
  },
  {
   "cell_type": "code",
   "execution_count": null,
   "metadata": {},
   "outputs": [],
   "source": [
    "neurosynth_text = catalog.load('neurosynth_text')\n",
    "neurosynth_text['source'] = 'neurosynth'\n",
    "\n",
    "neuroquery_text = catalog.load('neuroquery_text')\n",
    "neuroquery_text['source'] = 'neuroquery'\n",
    "\n",
    "text = pd.concat([neurosynth_text, neuroquery_text])\n",
    "text.head()"
   ]
  },
  {
   "cell_type": "code",
   "execution_count": null,
   "metadata": {},
   "outputs": [],
   "source": [
    "# service_root = ' https://www.ncbi.nlm.nih.gov/pmc/utils/idconv/v1.0/'\n",
    "# email = catalog.load('params:email')\n",
    "# tool = 'spiteful-allegory'\n",
    "# format = 'csv'\n",
    "# id_type = 'pmcid'\n",
    "\n",
    "# MAX_IDS=5\n",
    "# id_type='pmcid'\n",
    "\n",
    "# id_subset = text['study_id'][:MAX_IDS].astype('str')\n",
    "# id_str = id_subset.str.cat(sep=',')\n",
    "\n",
    "\n",
    "# # compose query\n",
    "\n",
    "# req = f'{service_root}?tool={tool}&email={email}&ids={id_str}&idtype={id_type}&format={format}'\n",
    "\n",
    "# resp = requests.get(req)\n",
    "# resp.text"
   ]
  },
  {
   "cell_type": "code",
   "execution_count": null,
   "metadata": {},
   "outputs": [],
   "source": [
    "# pd.read_csv(StringIO(resp.text))\n"
   ]
  },
  {
   "cell_type": "markdown",
   "metadata": {},
   "source": [
    "Well that ain't gonna work. No date!"
   ]
  },
  {
   "cell_type": "code",
   "execution_count": null,
   "metadata": {},
   "outputs": [],
   "source": [
    "pmc = pd.read_csv('../data/01_raw/PMC-ids.csv')\n",
    "pmc = pmc.rename(columns={'PMID': 'study_id'})\n",
    "pmc['study_id'] = pd.to_numeric(pmc['study_id'], downcast='signed')\n",
    "pmc.head()"
   ]
  },
  {
   "cell_type": "code",
   "execution_count": null,
   "metadata": {},
   "outputs": [],
   "source": [
    "(text\n",
    " .set_index('study_id')\n",
    " .join(pmc.set_index('study_id')))"
   ]
  },
  {
   "cell_type": "code",
   "execution_count": null,
   "metadata": {},
   "outputs": [],
   "source": [
    "text"
   ]
  }
 ],
 "metadata": {
  "kernelspec": {
   "display_name": "Kedro (work)",
   "language": "python",
   "name": "kedro_work"
  },
  "language_info": {
   "codemirror_mode": {
    "name": "ipython",
    "version": 3
   },
   "file_extension": ".py",
   "mimetype": "text/x-python",
   "name": "python",
   "nbconvert_exporter": "python",
   "pygments_lexer": "ipython3",
   "version": "3.8.18"
  }
 },
 "nbformat": 4,
 "nbformat_minor": 2
}
