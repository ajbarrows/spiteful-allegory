{
 "cells": [
  {
   "cell_type": "code",
   "execution_count": 3,
   "metadata": {},
   "outputs": [],
   "source": [
    "import convokit\n",
    "from convokit import Corpus, download"
   ]
  },
  {
   "cell_type": "code",
   "execution_count": 4,
   "metadata": {},
   "outputs": [
    {
     "name": "stdout",
     "output_type": "stream",
     "text": [
      "Downloading supreme-corpus to /Users/tony/Documents/phd/courses/PoCS2/spiteful-allegory/work/data/01_raw/supreme-corpus\n",
      "Downloading supreme-corpus from http://zissou.infosci.cornell.edu/convokit/datasets/supreme-corpus/supreme-corpus.zip (1255.8MB)... Done\n",
      "No configuration file found at /Users/tony/.convokit/config.yml; writing with contents: \n",
      "# Default Backend Parameters\n",
      "db_host: localhost:27017\n",
      "data_directory: ~/.convokit/saved-corpora\n",
      "default_backend: mem\n"
     ]
    }
   ],
   "source": [
    "dataset = 'supreme-corpus'\n",
    "supreme = Corpus(download(dataset, data_dir='../data/01_raw/'))"
   ]
  },
  {
   "cell_type": "code",
   "execution_count": 6,
   "metadata": {},
   "outputs": [
    {
     "name": "stdout",
     "output_type": "stream",
     "text": [
      "Number of Speakers: 8979\n",
      "Number of Utterances: 1700789\n",
      "Number of Conversations: 7817\n"
     ]
    }
   ],
   "source": [
    "supreme.print_summary_stats()"
   ]
  },
  {
   "cell_type": "code",
   "execution_count": 10,
   "metadata": {},
   "outputs": [
    {
     "data": {
      "text/html": [
       "<pre style=\"white-space:pre;overflow-x:auto;line-height:normal;font-family:Menlo,'DejaVu Sans Mono',consolas,'Courier New',monospace\"></pre>\n"
      ],
      "text/plain": []
     },
     "metadata": {},
     "output_type": "display_data"
    },
    {
     "data": {
      "text/plain": [
       "\n",
       "\u001b[1m{\u001b[0m\n",
       "    \u001b[32m'obj_type'\u001b[0m: \u001b[32m'conversation'\u001b[0m,\n",
       "    \u001b[32m'_owner'\u001b[0m: \u001b[1m<\u001b[0m\u001b[1;95mconvokit.model.corpus.Corpus\u001b[0m\u001b[39m object at \u001b[0m\u001b[1;36m0x12158e680\u001b[0m\u001b[1m>\u001b[0m,\n",
       "    \u001b[32m'_id'\u001b[0m: \u001b[32m'18661'\u001b[0m,\n",
       "    \u001b[32m'vectors'\u001b[0m: \u001b[1m[\u001b[0m\u001b[1m]\u001b[0m,\n",
       "    \u001b[32m'_meta'\u001b[0m: \u001b[1;35mConvoKitMeta\u001b[0m\u001b[1m(\u001b[0m\u001b[1m{\u001b[0m\u001b[32m'case_id'\u001b[0m: \u001b[32m'1983_82-1448'\u001b[0m, \u001b[32m'advocates'\u001b[0m: \u001b[1m{\u001b[0m\u001b[32m'louis_f_claiborne'\u001b[0m: \u001b[1m{\u001b[0m\u001b[32m'side'\u001b[0m: \u001b[1;36m1\u001b[0m, \u001b[32m'role'\u001b[0m: \u001b[32m'on behalf of Petitioner'\u001b[0m\u001b[1m}\u001b[0m, \u001b[32m'charles_f_lettow'\u001b[0m: \u001b[1m{\u001b[0m\u001b[32m'side'\u001b[0m: \u001b[1;36m0\u001b[0m, \u001b[32m'role'\u001b[0m: \u001b[32m'on behalf of Respondent'\u001b[0m\u001b[1m}\u001b[0m\u001b[1m}\u001b[0m, \u001b[32m'win_side'\u001b[0m: \u001b[1;36m0\u001b[0m, \u001b[32m'votes_side'\u001b[0m: \u001b[1m{\u001b[0m\u001b[32m'j__warren_e_burger'\u001b[0m: \u001b[1;36m0\u001b[0m, \u001b[32m'j__william_j_brennan_jr'\u001b[0m: \u001b[1;36m0\u001b[0m, \u001b[32m'j__byron_r_white'\u001b[0m: \u001b[1;36m0\u001b[0m, \u001b[32m'j__thurgood_marshall'\u001b[0m: \u001b[1;36m0\u001b[0m, \u001b[32m'j__harry_a_blackmun'\u001b[0m: \u001b[1;36m0\u001b[0m, \u001b[32m'j__lewis_f_powell_jr'\u001b[0m: \u001b[1;36m0\u001b[0m, \u001b[32m'j__william_h_rehnquist'\u001b[0m: \u001b[1;36m0\u001b[0m, \u001b[32m'j__john_paul_stevens'\u001b[0m: \u001b[1;36m0\u001b[0m, \u001b[32m'j__sandra_day_oconnor'\u001b[0m: \u001b[1;36m0\u001b[0m\u001b[1m}\u001b[0m\u001b[1m}\u001b[0m\u001b[1m)\u001b[0m,\n",
       "    \u001b[32m'_utterance_ids'\u001b[0m: \u001b[1m[\u001b[0m\n",
       "        \u001b[32m'18661__0_000'\u001b[0m,\n",
       "        \u001b[32m'18661__0_001'\u001b[0m,\n",
       "        \u001b[32m'18661__0_002'\u001b[0m,\n",
       "        \u001b[32m'18661__0_003'\u001b[0m,\n",
       "        \u001b[32m'18661__0_004'\u001b[0m,\n",
       "        \u001b[32m'18661__0_005'\u001b[0m,\n",
       "        \u001b[32m'18661__0_006'\u001b[0m,\n",
       "        \u001b[32m'18661__0_007'\u001b[0m,\n",
       "        \u001b[32m'18661__0_008'\u001b[0m,\n",
       "        \u001b[32m'18661__0_009'\u001b[0m,\n",
       "        \u001b[32m'18661__0_010'\u001b[0m,\n",
       "        \u001b[32m'18661__0_011'\u001b[0m,\n",
       "        \u001b[32m'18661__0_012'\u001b[0m,\n",
       "        \u001b[32m'18661__0_013'\u001b[0m,\n",
       "        \u001b[32m'18661__0_014'\u001b[0m,\n",
       "        \u001b[32m'18661__0_015'\u001b[0m,\n",
       "        \u001b[32m'18661__0_016'\u001b[0m,\n",
       "        \u001b[32m'18661__0_017'\u001b[0m,\n",
       "        \u001b[32m'18661__0_018'\u001b[0m,\n",
       "        \u001b[32m'18661__0_019'\u001b[0m,\n",
       "        \u001b[32m'18661__0_020'\u001b[0m,\n",
       "        \u001b[32m'18661__0_021'\u001b[0m,\n",
       "        \u001b[32m'18661__0_022'\u001b[0m,\n",
       "        \u001b[32m'18661__0_023'\u001b[0m,\n",
       "        \u001b[32m'18661__0_024'\u001b[0m,\n",
       "        \u001b[32m'18661__0_025'\u001b[0m,\n",
       "        \u001b[32m'18661__0_026'\u001b[0m,\n",
       "        \u001b[32m'18661__0_027'\u001b[0m,\n",
       "        \u001b[32m'18661__0_028'\u001b[0m,\n",
       "        \u001b[32m'18661__0_029'\u001b[0m,\n",
       "        \u001b[32m'18661__0_030'\u001b[0m,\n",
       "        \u001b[32m'18661__0_031'\u001b[0m,\n",
       "        \u001b[32m'18661__0_032'\u001b[0m,\n",
       "        \u001b[32m'18661__0_033'\u001b[0m,\n",
       "        \u001b[32m'18661__0_034'\u001b[0m,\n",
       "        \u001b[32m'18661__0_035'\u001b[0m,\n",
       "        \u001b[32m'18661__0_036'\u001b[0m,\n",
       "        \u001b[32m'18661__0_037'\u001b[0m,\n",
       "        \u001b[32m'18661__0_038'\u001b[0m,\n",
       "        \u001b[32m'18661__0_039'\u001b[0m,\n",
       "        \u001b[32m'18661__0_040'\u001b[0m,\n",
       "        \u001b[32m'18661__0_041'\u001b[0m,\n",
       "        \u001b[32m'18661__0_042'\u001b[0m,\n",
       "        \u001b[32m'18661__0_043'\u001b[0m,\n",
       "        \u001b[32m'18661__0_044'\u001b[0m,\n",
       "        \u001b[32m'18661__1_000'\u001b[0m,\n",
       "        \u001b[32m'18661__1_001'\u001b[0m,\n",
       "        \u001b[32m'18661__1_002'\u001b[0m,\n",
       "        \u001b[32m'18661__1_003'\u001b[0m,\n",
       "        \u001b[32m'18661__1_004'\u001b[0m,\n",
       "        \u001b[32m'18661__1_005'\u001b[0m,\n",
       "        \u001b[32m'18661__1_006'\u001b[0m,\n",
       "        \u001b[32m'18661__1_007'\u001b[0m,\n",
       "        \u001b[32m'18661__1_008'\u001b[0m,\n",
       "        \u001b[32m'18661__1_009'\u001b[0m,\n",
       "        \u001b[32m'18661__1_010'\u001b[0m,\n",
       "        \u001b[32m'18661__1_011'\u001b[0m,\n",
       "        \u001b[32m'18661__1_012'\u001b[0m,\n",
       "        \u001b[32m'18661__1_013'\u001b[0m,\n",
       "        \u001b[32m'18661__1_014'\u001b[0m,\n",
       "        \u001b[32m'18661__1_015'\u001b[0m,\n",
       "        \u001b[32m'18661__1_016'\u001b[0m,\n",
       "        \u001b[32m'18661__1_017'\u001b[0m,\n",
       "        \u001b[32m'18661__1_018'\u001b[0m,\n",
       "        \u001b[32m'18661__1_019'\u001b[0m,\n",
       "        \u001b[32m'18661__1_020'\u001b[0m,\n",
       "        \u001b[32m'18661__1_021'\u001b[0m,\n",
       "        \u001b[32m'18661__1_022'\u001b[0m,\n",
       "        \u001b[32m'18661__1_023'\u001b[0m,\n",
       "        \u001b[32m'18661__1_024'\u001b[0m,\n",
       "        \u001b[32m'18661__1_025'\u001b[0m,\n",
       "        \u001b[32m'18661__1_026'\u001b[0m,\n",
       "        \u001b[32m'18661__1_027'\u001b[0m,\n",
       "        \u001b[32m'18661__1_028'\u001b[0m,\n",
       "        \u001b[32m'18661__1_029'\u001b[0m,\n",
       "        \u001b[32m'18661__1_030'\u001b[0m,\n",
       "        \u001b[32m'18661__1_031'\u001b[0m,\n",
       "        \u001b[32m'18661__1_032'\u001b[0m,\n",
       "        \u001b[32m'18661__1_033'\u001b[0m,\n",
       "        \u001b[32m'18661__1_034'\u001b[0m,\n",
       "        \u001b[32m'18661__1_035'\u001b[0m,\n",
       "        \u001b[32m'18661__1_036'\u001b[0m,\n",
       "        \u001b[32m'18661__1_037'\u001b[0m,\n",
       "        \u001b[32m'18661__1_038'\u001b[0m,\n",
       "        \u001b[32m'18661__1_039'\u001b[0m,\n",
       "        \u001b[32m'18661__1_040'\u001b[0m,\n",
       "        \u001b[32m'18661__1_041'\u001b[0m,\n",
       "        \u001b[32m'18661__1_042'\u001b[0m,\n",
       "        \u001b[32m'18661__1_043'\u001b[0m,\n",
       "        \u001b[32m'18661__1_044'\u001b[0m,\n",
       "        \u001b[32m'18661__1_045'\u001b[0m,\n",
       "        \u001b[32m'18661__1_046'\u001b[0m,\n",
       "        \u001b[32m'18661__1_047'\u001b[0m,\n",
       "        \u001b[32m'18661__1_048'\u001b[0m,\n",
       "        \u001b[32m'18661__1_049'\u001b[0m,\n",
       "        \u001b[32m'18661__1_050'\u001b[0m,\n",
       "        \u001b[32m'18661__1_051'\u001b[0m,\n",
       "        \u001b[32m'18661__1_052'\u001b[0m,\n",
       "        \u001b[32m'18661__1_053'\u001b[0m,\n",
       "        \u001b[32m'18661__1_054'\u001b[0m,\n",
       "        \u001b[32m'18661__1_055'\u001b[0m,\n",
       "        \u001b[32m'18661__1_056'\u001b[0m,\n",
       "        \u001b[32m'18661__1_057'\u001b[0m,\n",
       "        \u001b[32m'18661__1_058'\u001b[0m,\n",
       "        \u001b[32m'18661__1_059'\u001b[0m,\n",
       "        \u001b[32m'18661__1_060'\u001b[0m,\n",
       "        \u001b[32m'18661__1_061'\u001b[0m,\n",
       "        \u001b[32m'18661__1_062'\u001b[0m,\n",
       "        \u001b[32m'18661__1_063'\u001b[0m,\n",
       "        \u001b[32m'18661__1_064'\u001b[0m,\n",
       "        \u001b[32m'18661__1_065'\u001b[0m,\n",
       "        \u001b[32m'18661__1_066'\u001b[0m,\n",
       "        \u001b[32m'18661__1_067'\u001b[0m,\n",
       "        \u001b[32m'18661__1_068'\u001b[0m,\n",
       "        \u001b[32m'18661__1_069'\u001b[0m,\n",
       "        \u001b[32m'18661__1_070'\u001b[0m,\n",
       "        \u001b[32m'18661__1_071'\u001b[0m,\n",
       "        \u001b[32m'18661__1_072'\u001b[0m,\n",
       "        \u001b[32m'18661__1_073'\u001b[0m,\n",
       "        \u001b[32m'18661__1_074'\u001b[0m,\n",
       "        \u001b[32m'18661__1_075'\u001b[0m,\n",
       "        \u001b[32m'18661__1_076'\u001b[0m,\n",
       "        \u001b[32m'18661__1_077'\u001b[0m\n",
       "    \u001b[1m]\u001b[0m,\n",
       "    \u001b[32m'_speaker_ids'\u001b[0m: \u001b[3;35mNone\u001b[0m,\n",
       "    \u001b[32m'tree'\u001b[0m: \u001b[3;35mNone\u001b[0m\n",
       "\u001b[1m}\u001b[0m"
      ]
     },
     "execution_count": 10,
     "metadata": {},
     "output_type": "execute_result"
    }
   ],
   "source": [
    "rnd = supreme.random_conversation()\n",
    "rnd.__dict__"
   ]
  }
 ],
 "metadata": {
  "kernelspec": {
   "display_name": "Kedro (work)",
   "language": "python",
   "name": "kedro_work"
  },
  "language_info": {
   "codemirror_mode": {
    "name": "ipython",
    "version": 3
   },
   "file_extension": ".py",
   "mimetype": "text/x-python",
   "name": "python",
   "nbconvert_exporter": "python",
   "pygments_lexer": "ipython3",
   "version": "3.10.13"
  }
 },
 "nbformat": 4,
 "nbformat_minor": 2
}
