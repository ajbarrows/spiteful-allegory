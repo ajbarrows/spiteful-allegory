{
 "cells": [
  {
   "cell_type": "code",
   "execution_count": 1,
   "metadata": {},
   "outputs": [],
   "source": [
    "import os\n",
    "import Bio\n",
    "import numpy as np\n",
    "import pandas as pd\n",
    "\n",
    "from nimare.extract import download_abstracts, fetch_neuroquery, fetch_neurosynth\n",
    "from nimare.io import convert_neurosynth_to_dataset\n"
   ]
  },
  {
   "cell_type": "code",
   "execution_count": 2,
   "metadata": {},
   "outputs": [],
   "source": [
    "def establish_download_directory():\n",
    "\n",
    "    out_dir = os.path.abspath(\"../data/01_raw/neuro-text/\")\n",
    "    os.makedirs(out_dir, exist_ok=True)\n",
    "\n",
    "    return out_dir\n",
    "\n",
    "out_dir = establish_download_directory()"
   ]
  },
  {
   "cell_type": "code",
   "execution_count": 8,
   "metadata": {},
   "outputs": [
    {
     "name": "stdout",
     "output_type": "stream",
     "text": [
      "Downloading data-neurosynth_version-7_coordinates.tsv.gz\n",
      "File exists and overwrite is False. Skipping.\n",
      "Downloading data-neurosynth_version-7_metadata.tsv.gz\n",
      "File exists and overwrite is False. Skipping.\n",
      "Downloading data-neurosynth_version-7_vocab-terms_source-abstract_type-tfidf_features.npz\n",
      "File exists and overwrite is False. Skipping.\n",
      "Downloading data-neurosynth_version-7_vocab-terms_vocabulary.txt\n",
      "File exists and overwrite is False. Skipping.\n"
     ]
    },
    {
     "data": {
      "text/html": [
       "<pre style=\"white-space:pre;overflow-x:auto;line-height:normal;font-family:Menlo,'DejaVu Sans Mono',consolas,'Courier New',monospace\"></pre>\n"
      ],
      "text/plain": []
     },
     "metadata": {},
     "output_type": "display_data"
    },
    {
     "data": {
      "text/plain": [
       "\n",
       "\u001b[1m[\u001b[0m\n",
       "    \u001b[1m{\u001b[0m\n",
       "        \u001b[32m'coordinates'\u001b[0m: \u001b[32m'/Users/tony/Documents/phd/courses/PoCS2/spiteful-allegory/work/data/01_raw/neuro-text/neurosynth/data-neurosynth_version-7_coordinates.tsv.gz'\u001b[0m,\n",
       "        \u001b[32m'metadata'\u001b[0m: \u001b[32m'/Users/tony/Documents/phd/courses/PoCS2/spiteful-allegory/work/data/01_raw/neuro-text/neurosynth/data-neurosynth_version-7_metadata.tsv.gz'\u001b[0m,\n",
       "        \u001b[32m'features'\u001b[0m: \u001b[1m[\u001b[0m\n",
       "            \u001b[1m{\u001b[0m\n",
       "                \u001b[32m'features'\u001b[0m: \u001b[32m'/Users/tony/Documents/phd/courses/PoCS2/spiteful-allegory/work/data/01_raw/neuro-text/neurosynth/data-neurosynth_version-7_vocab-terms_source-abstract_type-tfidf_features.npz'\u001b[0m,\n",
       "                \u001b[32m'vocabulary'\u001b[0m: \u001b[32m'/Users/tony/Documents/phd/courses/PoCS2/spiteful-allegory/work/data/01_raw/neuro-text/neurosynth/data-neurosynth_version-7_vocab-terms_vocabulary.txt'\u001b[0m\n",
       "            \u001b[1m}\u001b[0m\n",
       "        \u001b[1m]\u001b[0m\n",
       "    \u001b[1m}\u001b[0m\n",
       "\u001b[1m]\u001b[0m"
      ]
     },
     "execution_count": 8,
     "metadata": {},
     "output_type": "execute_result"
    }
   ],
   "source": [
    "files = fetch_neurosynth(\n",
    "    data_dir=out_dir,\n",
    "    version=\"7\",\n",
    "    overwrite=False,\n",
    "    source=\"abstract\",\n",
    "    vocab=\"terms\",\n",
    ")\n",
    "\n",
    "files\n",
    "# ndb = files[0]\n",
    "\n",
    "# n_dset = convert_neurosynth_to_dataset(\n",
    "#     coordinates_file=ndb[\"coordinates\"],\n",
    "#     metadata_file=ndb[\"metadata\"],\n",
    "#     annotations_files=ndb[\"features\"],\n",
    "#     )\n"
   ]
  }
 ],
 "metadata": {
  "kernelspec": {
   "display_name": "Kedro (work)",
   "language": "python",
   "name": "kedro_work"
  },
  "language_info": {
   "codemirror_mode": {
    "name": "ipython",
    "version": 3
   },
   "file_extension": ".py",
   "mimetype": "text/x-python",
   "name": "python",
   "nbconvert_exporter": "python",
   "pygments_lexer": "ipython3",
   "version": "3.8.18"
  }
 },
 "nbformat": 4,
 "nbformat_minor": 2
}
