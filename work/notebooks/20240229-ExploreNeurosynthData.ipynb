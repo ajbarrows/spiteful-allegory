{
 "cells": [
  {
   "cell_type": "code",
   "execution_count": 34,
   "metadata": {},
   "outputs": [],
   "source": [
    "import os\n",
    "import Bio\n",
    "import numpy as np\n",
    "import pandas as pd\n",
    "\n",
    "from nimare.extract import download_abstracts, fetch_neuroquery, fetch_neurosynth\n",
    "from nimare.io import convert_neurosynth_to_dataset\n",
    "\n"
   ]
  },
  {
   "cell_type": "markdown",
   "metadata": {},
   "source": [
    "Donwloda NeuroSynth and NeuroQuery datasets (meant for imaging meta analyis) so we can then grab the abstracts for pub med-associated studies. Code taken from:\n",
    "\n",
    "https://nimare.readthedocs.io/en/latest/auto_examples/01_datasets/02_download_neurosynth.html#sphx-glr-auto-examples-01-datasets-02-download-neurosynth-py"
   ]
  },
  {
   "cell_type": "code",
   "execution_count": 35,
   "metadata": {},
   "outputs": [],
   "source": [
    "def establish_download_directory():\n",
    "\n",
    "    out_dir = os.path.abspath(\"../data/01_raw/neuro-text/\")\n",
    "    os.makedirs(out_dir, exist_ok=True)\n",
    "\n",
    "    return out_dir\n",
    "\n",
    "out_dir = establish_download_directory()"
   ]
  },
  {
   "cell_type": "code",
   "execution_count": 36,
   "metadata": {},
   "outputs": [],
   "source": [
    "def download_and_convert_neurodata(out_dir, dataset:str, email=\"example@example.edu\"):\n",
    "    '''Save full dataset but return abstracts.'''\n",
    "\n",
    "    if dataset == \"neurosynth\":\n",
    "        files = fetch_neurosynth(\n",
    "            data_dir=out_dir,\n",
    "            version=\"7\",\n",
    "            overwrite=False,\n",
    "            source=\"abstract\",\n",
    "            vocab=\"terms\",\n",
    "        )\n",
    "    elif dataset == \"neuroquery\": \n",
    "        files = fetch_neuroquery(\n",
    "            data_dir=out_dir,\n",
    "            version=\"1\",\n",
    "            overwrite=False,\n",
    "            source=\"combined\",\n",
    "            vocab=\"neuroquery6308\",\n",
    "            type=\"tfidf\",\n",
    "        )\n",
    "    ndb = files[0]\n",
    "\n",
    "    n_dset = convert_neurosynth_to_dataset(\n",
    "        coordinates_file=ndb[\"coordinates\"],\n",
    "        metadata_file=ndb[\"metadata\"],\n",
    "        annotations_files=ndb[\"features\"],\n",
    "        )\n",
    "    n_dset = download_abstracts(n_dset, email)\n",
    "\n",
    "    # save full dataset\n",
    "    fname = f\"{dataset}_dataset_with_abstracts.pkl.gz\"\n",
    "    n_dset.save(os.path.join(out_dir, fname))\n",
    "\n",
    "    return n_dset.texts"
   ]
  },
  {
   "cell_type": "code",
   "execution_count": 37,
   "metadata": {},
   "outputs": [],
   "source": [
    "# neurosynth_texts = download_and_convert_neurodata(out_dir, 'neurosynth')\n",
    "# neuroquery_texts = download_and_convert_neurodata(out_dir, 'neuroquery')"
   ]
  },
  {
   "cell_type": "code",
   "execution_count": 42,
   "metadata": {},
   "outputs": [
    {
     "data": {
      "text/html": [
       "<pre style=\"white-space:pre;overflow-x:auto;line-height:normal;font-family:Menlo,'DejaVu Sans Mono',consolas,'Courier New',monospace\"><span style=\"color: #7fbfbf; text-decoration-color: #7fbfbf\">[02/29/24 14:51:09] </span><span style=\"color: #000080; text-decoration-color: #000080\">INFO    </span> Loading data from <span style=\"color: #008000; text-decoration-color: #008000\">'neurosynth_text'</span> <span style=\"font-weight: bold\">(</span>CSVDataset<span style=\"font-weight: bold\">)</span><span style=\"color: #808000; text-decoration-color: #808000\">...</span>                <a href=\"file:///Users/tony/anaconda3/envs/pocs/lib/python3.8/site-packages/kedro/io/data_catalog.py\" target=\"_blank\"><span style=\"color: #7f7f7f; text-decoration-color: #7f7f7f\">data_catalog.py</span></a><span style=\"color: #7f7f7f; text-decoration-color: #7f7f7f\">:</span><a href=\"file:///Users/tony/anaconda3/envs/pocs/lib/python3.8/site-packages/kedro/io/data_catalog.py#502\" target=\"_blank\"><span style=\"color: #7f7f7f; text-decoration-color: #7f7f7f\">502</span></a>\n",
       "</pre>\n"
      ],
      "text/plain": [
       "\u001b[2;36m[02/29/24 14:51:09]\u001b[0m\u001b[2;36m \u001b[0m\u001b[34mINFO    \u001b[0m Loading data from \u001b[32m'neurosynth_text'\u001b[0m \u001b[1m(\u001b[0mCSVDataset\u001b[1m)\u001b[0m\u001b[33m...\u001b[0m                \u001b]8;id=887506;file:///Users/tony/anaconda3/envs/pocs/lib/python3.8/site-packages/kedro/io/data_catalog.py\u001b\\\u001b[2mdata_catalog.py\u001b[0m\u001b]8;;\u001b\\\u001b[2m:\u001b[0m\u001b]8;id=118704;file:///Users/tony/anaconda3/envs/pocs/lib/python3.8/site-packages/kedro/io/data_catalog.py#502\u001b\\\u001b[2m502\u001b[0m\u001b]8;;\u001b\\\n"
      ]
     },
     "metadata": {},
     "output_type": "display_data"
    }
   ],
   "source": [
    "neurosynth_text = catalog.load('neurosynth_text')\n",
    "neurosynth_text['source'] = 'neurosynth'\n",
    "\n",
    "# neuroquery_text = catalog.load('neuroquery_text')\n",
    "# neuroquery_text['source'] = 'neueroquety"
   ]
  },
  {
   "cell_type": "code",
   "execution_count": 43,
   "metadata": {},
   "outputs": [
    {
     "data": {
      "text/html": [
       "<pre style=\"white-space:pre;overflow-x:auto;line-height:normal;font-family:Menlo,'DejaVu Sans Mono',consolas,'Courier New',monospace\"></pre>\n"
      ],
      "text/plain": []
     },
     "metadata": {},
     "output_type": "display_data"
    },
    {
     "data": {
      "text/html": [
       "<div>\n",
       "<style scoped>\n",
       "    .dataframe tbody tr th:only-of-type {\n",
       "        vertical-align: middle;\n",
       "    }\n",
       "\n",
       "    .dataframe tbody tr th {\n",
       "        vertical-align: top;\n",
       "    }\n",
       "\n",
       "    .dataframe thead th {\n",
       "        text-align: right;\n",
       "    }\n",
       "</style>\n",
       "<table border=\"1\" class=\"dataframe\">\n",
       "  <thead>\n",
       "    <tr style=\"text-align: right;\">\n",
       "      <th></th>\n",
       "      <th>id</th>\n",
       "      <th>study_id</th>\n",
       "      <th>contrast_id</th>\n",
       "      <th>abstract</th>\n",
       "    </tr>\n",
       "  </thead>\n",
       "  <tbody>\n",
       "    <tr>\n",
       "      <th>0</th>\n",
       "      <td>10022492-1</td>\n",
       "      <td>10022492</td>\n",
       "      <td>1</td>\n",
       "      <td>A fundamental characteristic of working memory...</td>\n",
       "    </tr>\n",
       "    <tr>\n",
       "      <th>1</th>\n",
       "      <td>10022494-1</td>\n",
       "      <td>10022494</td>\n",
       "      <td>1</td>\n",
       "      <td>Electrophysiological studies on monkeys have b...</td>\n",
       "    </tr>\n",
       "    <tr>\n",
       "      <th>2</th>\n",
       "      <td>10022496-1</td>\n",
       "      <td>10022496</td>\n",
       "      <td>1</td>\n",
       "      <td>Most functional imaging studies of the auditor...</td>\n",
       "    </tr>\n",
       "    <tr>\n",
       "      <th>3</th>\n",
       "      <td>10051677-1</td>\n",
       "      <td>10051677</td>\n",
       "      <td>1</td>\n",
       "      <td>Positron emission tomography studies were cond...</td>\n",
       "    </tr>\n",
       "    <tr>\n",
       "      <th>4</th>\n",
       "      <td>10191322-1</td>\n",
       "      <td>10191322</td>\n",
       "      <td>1</td>\n",
       "      <td>The cortical organization of language in bilin...</td>\n",
       "    </tr>\n",
       "    <tr>\n",
       "      <th>...</th>\n",
       "      <td>...</td>\n",
       "      <td>...</td>\n",
       "      <td>...</td>\n",
       "      <td>...</td>\n",
       "    </tr>\n",
       "    <tr>\n",
       "      <th>14366</th>\n",
       "      <td>9819274-1</td>\n",
       "      <td>9819274</td>\n",
       "      <td>1</td>\n",
       "      <td>The cortical processing of vestibular informat...</td>\n",
       "    </tr>\n",
       "    <tr>\n",
       "      <th>14367</th>\n",
       "      <td>9838166-1</td>\n",
       "      <td>9838166</td>\n",
       "      <td>1</td>\n",
       "      <td>An impaired ability to recite highly automated...</td>\n",
       "    </tr>\n",
       "    <tr>\n",
       "      <th>14368</th>\n",
       "      <td>9862924-1</td>\n",
       "      <td>9862924</td>\n",
       "      <td>1</td>\n",
       "      <td>Temporal and intensity coding of pain in human...</td>\n",
       "    </tr>\n",
       "    <tr>\n",
       "      <th>14369</th>\n",
       "      <td>9886448-1</td>\n",
       "      <td>9886448</td>\n",
       "      <td>1</td>\n",
       "      <td>OBJECTIVES: To report on a patient with a lacu...</td>\n",
       "    </tr>\n",
       "    <tr>\n",
       "      <th>14370</th>\n",
       "      <td>9990082-1</td>\n",
       "      <td>9990082</td>\n",
       "      <td>1</td>\n",
       "      <td>Visual areas of the occipitotemporal pathway a...</td>\n",
       "    </tr>\n",
       "  </tbody>\n",
       "</table>\n",
       "<p>14371 rows × 4 columns</p>\n",
       "</div>"
      ],
      "text/plain": [
       "\n",
       "               id  study_id  contrast_id  \\\n",
       "\u001b[1;36m0\u001b[0m      \u001b[1;36m10022492\u001b[0m-\u001b[1;36m1\u001b[0m  \u001b[1;36m10022492\u001b[0m            \u001b[1;36m1\u001b[0m   \n",
       "\u001b[1;36m1\u001b[0m      \u001b[1;36m10022494\u001b[0m-\u001b[1;36m1\u001b[0m  \u001b[1;36m10022494\u001b[0m            \u001b[1;36m1\u001b[0m   \n",
       "\u001b[1;36m2\u001b[0m      \u001b[1;36m10022496\u001b[0m-\u001b[1;36m1\u001b[0m  \u001b[1;36m10022496\u001b[0m            \u001b[1;36m1\u001b[0m   \n",
       "\u001b[1;36m3\u001b[0m      \u001b[1;36m10051677\u001b[0m-\u001b[1;36m1\u001b[0m  \u001b[1;36m10051677\u001b[0m            \u001b[1;36m1\u001b[0m   \n",
       "\u001b[1;36m4\u001b[0m      \u001b[1;36m10191322\u001b[0m-\u001b[1;36m1\u001b[0m  \u001b[1;36m10191322\u001b[0m            \u001b[1;36m1\u001b[0m   \n",
       "\u001b[33m...\u001b[0m           \u001b[33m...\u001b[0m       \u001b[33m...\u001b[0m          \u001b[33m...\u001b[0m   \n",
       "\u001b[1;36m14366\u001b[0m   \u001b[1;36m9819274\u001b[0m-\u001b[1;36m1\u001b[0m   \u001b[1;36m9819274\u001b[0m            \u001b[1;36m1\u001b[0m   \n",
       "\u001b[1;36m14367\u001b[0m   \u001b[1;36m9838166\u001b[0m-\u001b[1;36m1\u001b[0m   \u001b[1;36m9838166\u001b[0m            \u001b[1;36m1\u001b[0m   \n",
       "\u001b[1;36m14368\u001b[0m   \u001b[1;36m9862924\u001b[0m-\u001b[1;36m1\u001b[0m   \u001b[1;36m9862924\u001b[0m            \u001b[1;36m1\u001b[0m   \n",
       "\u001b[1;36m14369\u001b[0m   \u001b[1;36m9886448\u001b[0m-\u001b[1;36m1\u001b[0m   \u001b[1;36m9886448\u001b[0m            \u001b[1;36m1\u001b[0m   \n",
       "\u001b[1;36m14370\u001b[0m   \u001b[1;36m9990082\u001b[0m-\u001b[1;36m1\u001b[0m   \u001b[1;36m9990082\u001b[0m            \u001b[1;36m1\u001b[0m   \n",
       "\n",
       "                                                abstract  \n",
       "\u001b[1;36m0\u001b[0m      A fundamental characteristic of working memory\u001b[33m...\u001b[0m  \n",
       "\u001b[1;36m1\u001b[0m      Electrophysiological studies on monkeys have b\u001b[33m...\u001b[0m  \n",
       "\u001b[1;36m2\u001b[0m      Most functional imaging studies of the auditor\u001b[33m...\u001b[0m  \n",
       "\u001b[1;36m3\u001b[0m      Positron emission tomography studies were cond\u001b[33m...\u001b[0m  \n",
       "\u001b[1;36m4\u001b[0m      The cortical organization of language in bilin\u001b[33m...\u001b[0m  \n",
       "\u001b[33m...\u001b[0m                                                  \u001b[33m...\u001b[0m  \n",
       "\u001b[1;36m14366\u001b[0m  The cortical processing of vestibular informat\u001b[33m...\u001b[0m  \n",
       "\u001b[1;36m14367\u001b[0m  An impaired ability to recite highly automated\u001b[33m...\u001b[0m  \n",
       "\u001b[1;36m14368\u001b[0m  Temporal and intensity coding of pain in human\u001b[33m...\u001b[0m  \n",
       "\u001b[1;36m14369\u001b[0m  OBJECTIVES: To report on a patient with a lacu\u001b[33m...\u001b[0m  \n",
       "\u001b[1;36m14370\u001b[0m  Visual areas of the occipitotemporal pathway a\u001b[33m...\u001b[0m  \n",
       "\n",
       "\u001b[1m[\u001b[0m\u001b[1;36m14371\u001b[0m rows x \u001b[1;36m4\u001b[0m columns\u001b[1m]\u001b[0m"
      ]
     },
     "execution_count": 43,
     "metadata": {},
     "output_type": "execute_result"
    }
   ],
   "source": [
    "neurosynth_text"
   ]
  },
  {
   "cell_type": "code",
   "execution_count": null,
   "metadata": {},
   "outputs": [],
   "source": []
  }
 ],
 "metadata": {
  "kernelspec": {
   "display_name": "Kedro (work)",
   "language": "python",
   "name": "kedro_work"
  },
  "language_info": {
   "codemirror_mode": {
    "name": "ipython",
    "version": 3
   },
   "file_extension": ".py",
   "mimetype": "text/x-python",
   "name": "python",
   "nbconvert_exporter": "python",
   "pygments_lexer": "ipython3",
   "version": "3.8.18"
  }
 },
 "nbformat": 4,
 "nbformat_minor": 2
}
