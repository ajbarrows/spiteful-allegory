{
 "cells": [
  {
   "cell_type": "markdown",
   "metadata": {},
   "source": [
    "# PoCS2 Assignment 13\n",
    "## Tony Barrows"
   ]
  },
  {
   "cell_type": "code",
   "execution_count": 179,
   "metadata": {},
   "outputs": [],
   "source": [
    "import requests\n",
    "import re\n",
    "import pandas as pd\n",
    "import matplotlib.pyplot as plt\n",
    "import seaborn as sns\n",
    "\n",
    "from collections import Counter\n",
    "from IPython.core.display import HTML"
   ]
  },
  {
   "cell_type": "markdown",
   "metadata": {},
   "source": [
    "## Download Gutenberg text files."
   ]
  },
  {
   "cell_type": "code",
   "execution_count": 19,
   "metadata": {},
   "outputs": [],
   "source": [
    "text_urls = {\n",
    "    'pride_prej': 'https://www.gutenberg.org/ebooks/1342.txt.utf-8',\n",
    "    'frankenstein': 'https://www.gutenberg.org/cache/epub/84/pg84.txt',\n",
    "    'moby_dick': 'https://www.gutenberg.org/cache/epub/2701/pg2701.txt'\n",
    "}\n",
    "\n",
    "def download_gutenberg(text_urls: dict, download_dir = '../data/01_raw/gutenberg/') -> None:\n",
    "\n",
    "    query_parameters = {'downloadformat': 'txt'}\n",
    "    for name, url in text_urls.items():\n",
    "        response = requests.get(url, params=query_parameters)\n",
    "        \n",
    "        # write to disk\n",
    "        outfile = download_dir + name + '.txt'\n",
    "        with open(outfile, mode='w') as file:\n",
    "            file.write(response.text)\n",
    "\n",
    "download_gutenberg()"
   ]
  },
  {
   "cell_type": "markdown",
   "metadata": {},
   "source": [
    "Move to text editor for some manual work."
   ]
  },
  {
   "cell_type": "code",
   "execution_count": 142,
   "metadata": {},
   "outputs": [],
   "source": [
    "def load_gutenberg(text_urls: dict, dir = '../data/02_intermediate/gutenberg_edited/') -> dict:\n",
    "\n",
    "    def _read_file(fname, dir):\n",
    "        fpath = dir + fname\n",
    "\n",
    "        with open(fpath, mode='r', encoding='utf-8-sig') as file:\n",
    "            txt = file.read()\n",
    "        \n",
    "        return txt\n",
    "\n",
    "    texts = {}\n",
    "    for key in text_urls.keys():\n",
    "        fname = key + '_edited.txt'\n",
    "        texts[key] = _read_file(fname, dir)\n",
    "\n",
    "    return texts\n",
    "\n",
    "texts = load_gutenberg(text_urls)"
   ]
  },
  {
   "cell_type": "code",
   "execution_count": 143,
   "metadata": {},
   "outputs": [],
   "source": [
    "# quick helper function for displaying text in a legible way\n",
    "\n",
    "def format(s, N=5000):\n",
    "    '''Return first N characters as formatted text.'''\n",
    "    s = s[0:N]\n",
    "    return HTML(s)"
   ]
  },
  {
   "cell_type": "markdown",
   "metadata": {},
   "source": [
    "## Parse Text Files\n",
    "\n",
    "Let's start with Frankenstein"
   ]
  },
  {
   "cell_type": "code",
   "execution_count": 145,
   "metadata": {},
   "outputs": [
    {
     "data": {
      "text/html": [
       "<pre style=\"white-space:pre;overflow-x:auto;line-height:normal;font-family:Menlo,'DejaVu Sans Mono',consolas,'Courier New',monospace\"></pre>\n"
      ],
      "text/plain": []
     },
     "metadata": {},
     "output_type": "display_data"
    },
    {
     "data": {
      "text/html": [
       "Letter 1\n",
       "\n",
       "_To Mrs. Saville, England._\n",
       "\n",
       "\n",
       "St. Petersburgh, Dec. 11th, 17—.\n",
       "\n",
       "\n",
       "You will rejoice to hear that no disaster has accompanied the\n",
       "commencement of an enterprise which you have regarded with such evil\n",
       "forebodings. I arrived here yesterday, and my first task is to assure\n",
       "my dear sister of my welfare and increasing confidence in the success\n",
       "of my undertaking.\n",
       "\n",
       "I am already far north of London, and as I walk in the streets of\n",
       "Petersburgh, I feel a cold northern breeze play upon my cheeks, which\n",
       "braces my nerves and fills me with delight. Do you understand this\n",
       "feeling? This breeze, which has travelled from the regions towards\n",
       "which I am advancing, gives me a foretaste of those icy climes.\n",
       "Inspirited by this wind of promise, my daydreams become more fervent\n",
       "and vivid. I try in vain to be persuaded that the pole is the seat of\n",
       "frost and desolation; it ever presents itself to my imagination as the\n",
       "region of beauty and delight. There, Margaret, the sun is for ever\n",
       "visible, its broad disk"
      ],
      "text/plain": [
       "\u001b[1m<\u001b[0m\u001b[1;95mIPython.core.display.HTML\u001b[0m\u001b[39m object\u001b[0m\u001b[1m>\u001b[0m"
      ]
     },
     "execution_count": 145,
     "metadata": {},
     "output_type": "execute_result"
    }
   ],
   "source": [
    "t = texts['frankenstein']\n",
    "format(t, N=1000)"
   ]
  },
  {
   "cell_type": "markdown",
   "metadata": {},
   "source": [
    "Basic goal: separate the whole text into a list of 1-grams composed of words, punctuation, and numbers."
   ]
  },
  {
   "cell_type": "code",
   "execution_count": 160,
   "metadata": {},
   "outputs": [],
   "source": [
    "def parse_text(t):\n",
    "    '''Return text corpus separated into 1-grams.'''\n",
    "\n",
    "    # Frankenstein thing\n",
    "    t = re.sub(r'D--n', r'Damn', t)\n",
    "\n",
    "    # remove dashes with a period following\n",
    "    t = re.sub(r'—.', r'', t)\n",
    "\n",
    "    # separate punctuation\n",
    "    t = re.sub(r'(?=[.,!?:;])', r' ', t)\n",
    "\n",
    "    # deal with brackets and such\n",
    "    t = re.sub(r'(?<=[\\(\\[])', r' ', t)\n",
    "    t = re.sub(r'(?=[\\)\\]])', r' ', t)\n",
    "\n",
    "    # deal with quotes\n",
    "    t = re.sub(r'(?=[”])', r' ', t)\n",
    "    t = re.sub(r'(?<=[“\\'])', r' ', t)\n",
    "    t = re.sub(r'\\'s', ' \\'s', t) # possession\n",
    "\n",
    "    # dash madness\n",
    "    t = re.sub(r'----', r' --- ', t)\n",
    "    t = re.sub(r'--', r' --- ', t)\n",
    "    t = re.sub(r';-', r' --- ', t)\n",
    "    t = re.sub(r'—', r' --- ', t)\n",
    "\n",
    "    ## TODO make this handle \"Mr\" and \"Mrs\" with no period\n",
    "    # handle specific salutations\n",
    "    t = re.sub(r'Mr .', r'Mr.', t)\n",
    "    t = re.sub(r'Mrs .', r'Mrs.', t)\n",
    "    t = re.sub(r'Dr .', r'Dr.', t)\n",
    "\n",
    "    # remove underscores used for emphasis\n",
    "    t = re.sub(r'_', r'', t)\n",
    "\n",
    "    # remove string control\n",
    "    t = re.sub(r'[\\n\\r\\t]', ' ' , t)\n",
    "\n",
    "    # remove additional whitespaces\n",
    "    t = re.sub(r'\\s+', ' ', t)\n",
    "\n",
    "    return t\n",
    "\n",
    "def write_parsed(t, fname, dir = '../data/02_intermediate/gutenberg_parsed/'):\n",
    "\n",
    "    fpath = dir + fname\n",
    "    with open(fpath, mode='w', encoding='utf-8-sig') as file:\n",
    "        file.write(t)\n",
    "\n",
    "def make_parsed_files(texts: dict, write_sample=True, n_samples=5000):\n",
    "\n",
    "    parsed_text = {}\n",
    "    for k, v in texts.items():\n",
    "\n",
    "        fname = k + '_parsed.txt'\n",
    "        parsed_text[k] = parse_text(v)\n",
    "\n",
    "        # output a few examples\n",
    "        if write_sample:\n",
    "            write_parsed(parsed_text[k][0:n_samples], fname)\n",
    "    \n",
    "    return parsed_text\n",
    "\n",
    "parsed_text = make_parsed_files(texts)"
   ]
  },
  {
   "cell_type": "markdown",
   "metadata": {},
   "source": [
    "## Produce Size Rank Distributions"
   ]
  },
  {
   "cell_type": "code",
   "execution_count": 169,
   "metadata": {},
   "outputs": [
    {
     "data": {
      "text/html": [
       "<pre style=\"white-space:pre;overflow-x:auto;line-height:normal;font-family:Menlo,'DejaVu Sans Mono',consolas,'Courier New',monospace\"></pre>\n"
      ],
      "text/plain": []
     },
     "metadata": {},
     "output_type": "display_data"
    },
    {
     "data": {
      "text/plain": [
       "\u001b[1m[\u001b[0m\u001b[32m'pride_prej'\u001b[0m, \u001b[32m'frankenstein'\u001b[0m, \u001b[32m'moby_dick'\u001b[0m\u001b[1m]\u001b[0m"
      ]
     },
     "execution_count": 169,
     "metadata": {},
     "output_type": "execute_result"
    }
   ],
   "source": [
    "def make_size_rank_dist(text, fname, limit_top_n=None, write_file=True, \n",
    "                        filepath = '../data/03_primary/gutenberg_size_rank/') -> list:\n",
    "\n",
    "    onegrams = text.split()\n",
    "    counts = Counter(onegrams)\n",
    "\n",
    "    # sort\n",
    "    if limit_top_n:\n",
    "        counts = counts.most_common(limit_top_n)\n",
    "    else:\n",
    "        counts = counts.most_common()\n",
    "\n",
    "    if write_file:\n",
    "        fpath = filepath + fname\n",
    "        with open(fpath, 'w') as file:\n",
    "            for k, v in counts:\n",
    "                file.write(\"{}\\t{}\\n\".format(k, v))\n",
    "\n",
    "    return counts\n",
    "\n",
    "\n",
    "def distributions_from_dict(text_dict, limit_top_n=None, write_file=True):\n",
    "\n",
    "    if limit_top_n:\n",
    "        file_ext = '_top_' + str(limit_top_n) + '_sizerank.txt'\n",
    "    else:\n",
    "        file_ext = \"_sizerank.txt\"\n",
    "\n",
    "    sizerank = {}\n",
    "    for k, v in text_dict.items():\n",
    "\n",
    "        fname = k + file_ext\n",
    "        sizerank[k] = make_size_rank_dist(v, fname, limit_top_n=limit_top_n,\n",
    "                                          write_file=write_file)\n",
    "    \n",
    "    return sizerank\n",
    "\n",
    "sizerank = distributions_from_dict(parsed_text, write_file=True)\n",
    "sizerank100 = distributions_from_dict(parsed_text, limit_top_n=100, write_file=True)\n",
    "list(sizerank)\n"
   ]
  },
  {
   "cell_type": "markdown",
   "metadata": {},
   "source": [
    "## Make rank-count distributions plots"
   ]
  },
  {
   "cell_type": "code",
   "execution_count": 191,
   "metadata": {},
   "outputs": [
    {
     "data": {
      "text/html": [
       "<pre style=\"white-space:pre;overflow-x:auto;line-height:normal;font-family:Menlo,'DejaVu Sans Mono',consolas,'Courier New',monospace\"></pre>\n"
      ],
      "text/plain": []
     },
     "metadata": {},
     "output_type": "display_data"
    },
    {
     "data": {
      "text/html": [
       "<div>\n",
       "<style scoped>\n",
       "    .dataframe tbody tr th:only-of-type {\n",
       "        vertical-align: middle;\n",
       "    }\n",
       "\n",
       "    .dataframe tbody tr th {\n",
       "        vertical-align: top;\n",
       "    }\n",
       "\n",
       "    .dataframe thead th {\n",
       "        text-align: right;\n",
       "    }\n",
       "</style>\n",
       "<table border=\"1\" class=\"dataframe\">\n",
       "  <thead>\n",
       "    <tr style=\"text-align: right;\">\n",
       "      <th></th>\n",
       "      <th>rank</th>\n",
       "      <th>source</th>\n",
       "      <th>ngram</th>\n",
       "      <th>count</th>\n",
       "    </tr>\n",
       "  </thead>\n",
       "  <tbody>\n",
       "    <tr>\n",
       "      <th>0</th>\n",
       "      <td>0</td>\n",
       "      <td>pride_prej</td>\n",
       "      <td>,</td>\n",
       "      <td>9492</td>\n",
       "    </tr>\n",
       "    <tr>\n",
       "      <th>1</th>\n",
       "      <td>1</td>\n",
       "      <td>pride_prej</td>\n",
       "      <td>.</td>\n",
       "      <td>5112</td>\n",
       "    </tr>\n",
       "    <tr>\n",
       "      <th>2</th>\n",
       "      <td>2</td>\n",
       "      <td>pride_prej</td>\n",
       "      <td>to</td>\n",
       "      <td>4107</td>\n",
       "    </tr>\n",
       "    <tr>\n",
       "      <th>3</th>\n",
       "      <td>3</td>\n",
       "      <td>pride_prej</td>\n",
       "      <td>the</td>\n",
       "      <td>4076</td>\n",
       "    </tr>\n",
       "    <tr>\n",
       "      <th>4</th>\n",
       "      <td>4</td>\n",
       "      <td>pride_prej</td>\n",
       "      <td>of</td>\n",
       "      <td>3618</td>\n",
       "    </tr>\n",
       "    <tr>\n",
       "      <th>...</th>\n",
       "      <td>...</td>\n",
       "      <td>...</td>\n",
       "      <td>...</td>\n",
       "      <td>...</td>\n",
       "    </tr>\n",
       "    <tr>\n",
       "      <th>21387</th>\n",
       "      <td>21387</td>\n",
       "      <td>moby_dick</td>\n",
       "      <td>padlocks</td>\n",
       "      <td>1</td>\n",
       "    </tr>\n",
       "    <tr>\n",
       "      <th>21388</th>\n",
       "      <td>21388</td>\n",
       "      <td>moby_dick</td>\n",
       "      <td>sheathed</td>\n",
       "      <td>1</td>\n",
       "    </tr>\n",
       "    <tr>\n",
       "      <th>21389</th>\n",
       "      <td>21389</td>\n",
       "      <td>moby_dick</td>\n",
       "      <td>devious-cruising</td>\n",
       "      <td>1</td>\n",
       "    </tr>\n",
       "    <tr>\n",
       "      <th>21390</th>\n",
       "      <td>21390</td>\n",
       "      <td>moby_dick</td>\n",
       "      <td>retracing</td>\n",
       "      <td>1</td>\n",
       "    </tr>\n",
       "    <tr>\n",
       "      <th>21391</th>\n",
       "      <td>21391</td>\n",
       "      <td>moby_dick</td>\n",
       "      <td>orphan</td>\n",
       "      <td>1</td>\n",
       "    </tr>\n",
       "  </tbody>\n",
       "</table>\n",
       "<p>35928 rows × 4 columns</p>\n",
       "</div>"
      ],
      "text/plain": [
       "\n",
       "        rank      source             ngram  count\n",
       "\u001b[1;36m0\u001b[0m          \u001b[1;36m0\u001b[0m  pride_prej                 ,   \u001b[1;36m9492\u001b[0m\n",
       "\u001b[1;36m1\u001b[0m          \u001b[1;36m1\u001b[0m  pride_prej                 .   \u001b[1;36m5112\u001b[0m\n",
       "\u001b[1;36m2\u001b[0m          \u001b[1;36m2\u001b[0m  pride_prej                to   \u001b[1;36m4107\u001b[0m\n",
       "\u001b[1;36m3\u001b[0m          \u001b[1;36m3\u001b[0m  pride_prej               the   \u001b[1;36m4076\u001b[0m\n",
       "\u001b[1;36m4\u001b[0m          \u001b[1;36m4\u001b[0m  pride_prej                of   \u001b[1;36m3618\u001b[0m\n",
       "\u001b[33m...\u001b[0m      \u001b[33m...\u001b[0m         \u001b[33m...\u001b[0m               \u001b[33m...\u001b[0m    \u001b[33m...\u001b[0m\n",
       "\u001b[1;36m21387\u001b[0m  \u001b[1;36m21387\u001b[0m   moby_dick          padlocks      \u001b[1;36m1\u001b[0m\n",
       "\u001b[1;36m21388\u001b[0m  \u001b[1;36m21388\u001b[0m   moby_dick          sheathed      \u001b[1;36m1\u001b[0m\n",
       "\u001b[1;36m21389\u001b[0m  \u001b[1;36m21389\u001b[0m   moby_dick  devious-cruising      \u001b[1;36m1\u001b[0m\n",
       "\u001b[1;36m21390\u001b[0m  \u001b[1;36m21390\u001b[0m   moby_dick         retracing      \u001b[1;36m1\u001b[0m\n",
       "\u001b[1;36m21391\u001b[0m  \u001b[1;36m21391\u001b[0m   moby_dick            orphan      \u001b[1;36m1\u001b[0m\n",
       "\n",
       "\u001b[1m[\u001b[0m\u001b[1;36m35928\u001b[0m rows x \u001b[1;36m4\u001b[0m columns\u001b[1m]\u001b[0m"
      ]
     },
     "execution_count": 191,
     "metadata": {},
     "output_type": "execute_result"
    }
   ],
   "source": [
    "def make_dataframe_from_sizerank(sizerank) -> pd.DataFrame:\n",
    "\n",
    "    df = pd.DataFrame()\n",
    "\n",
    "    for k, v in sizerank.items():\n",
    "        tmp = pd.DataFrame(v, columns=['ngram', 'count'])\n",
    "        tmp.insert(0, 'source', k)\n",
    "        tmp = tmp.reset_index(names = ['rank'])\n",
    "\n",
    "        df = pd.concat([df, tmp])\n",
    "    \n",
    "    return df\n",
    "\n",
    "df = make_dataframe_from_sizerank(sizerank)\n",
    "df\n"
   ]
  },
  {
   "cell_type": "code",
   "execution_count": 215,
   "metadata": {},
   "outputs": [
    {
     "data": {
      "text/html": [
       "<pre style=\"white-space:pre;overflow-x:auto;line-height:normal;font-family:Menlo,'DejaVu Sans Mono',consolas,'Courier New',monospace\"></pre>\n"
      ],
      "text/plain": []
     },
     "metadata": {},
     "output_type": "display_data"
    },
    {
     "data": {
      "image/png": "[encoded data removed]",
      "text/plain": [
       "\u001b[1m<\u001b[0m\u001b[1;95mFigure\u001b[0m\u001b[39m size 64\u001b[0m\u001b[1;36m0x480\u001b[0m\u001b[39m with \u001b[0m\u001b[1;36m1\u001b[0m\u001b[39m Axes\u001b[0m\u001b[1m>\u001b[0m"
      ]
     },
     "metadata": {},
     "output_type": "display_data"
    }
   ],
   "source": [
    "sources = pd.unique(df['source'])\n",
    "\n",
    "for source in sources:\n",
    "\n",
    "    tmp = df[df['source'] == source]\n",
    "    plt.scatter(\n",
    "        tmp['rank'], \n",
    "        tmp['count'],\n",
    "        s=1\n",
    "        )\n",
    "    \n",
    "plt.legend(sources)\n",
    "plt.xscale('log')\n",
    "plt.yscale('log')\n",
    "plt.title('Rank Count Distributions for Gutenberg Texts')\n",
    "\n",
    "plt.savefig(\n",
    "    '../data/08_reporting/assign13_gutenberg_rankcount.png', \n",
    "    dpi=300, \n",
    "    bbox_inches='tight'\n",
    "    )\n"
   ]
  },
  {
   "cell_type": "code",
   "execution_count": 204,
   "metadata": {},
   "outputs": [
    {
     "data": {
      "text/html": [
       "<pre style=\"white-space:pre;overflow-x:auto;line-height:normal;font-family:Menlo,'DejaVu Sans Mono',consolas,'Courier New',monospace\"></pre>\n"
      ],
      "text/plain": []
     },
     "metadata": {},
     "output_type": "display_data"
    },
    {
     "data": {
      "image/png": "[encoded data removed]",
      "text/plain": [
       "\u001b[1m<\u001b[0m\u001b[1;95mFigure\u001b[0m\u001b[39m size 64\u001b[0m\u001b[1;36m0x480\u001b[0m\u001b[39m with \u001b[0m\u001b[1;36m1\u001b[0m\u001b[39m Axes\u001b[0m\u001b[1m>\u001b[0m"
      ]
     },
     "metadata": {},
     "output_type": "display_data"
    }
   ],
   "source": [
    "\n"
   ]
  }
 ],
 "metadata": {
  "kernelspec": {
   "display_name": "Kedro (work)",
   "language": "python",
   "name": "kedro_work"
  },
  "language_info": {
   "codemirror_mode": {
    "name": "ipython",
    "version": 3
   },
   "file_extension": ".py",
   "mimetype": "text/x-python",
   "name": "python",
   "nbconvert_exporter": "python",
   "pygments_lexer": "ipython3",
   "version": "3.10.13"
  }
 },
 "nbformat": 4,
 "nbformat_minor": 2
}
