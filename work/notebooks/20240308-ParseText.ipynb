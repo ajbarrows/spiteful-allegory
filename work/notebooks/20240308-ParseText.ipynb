{
 "cells": [
  {
   "cell_type": "code",
   "execution_count": 2,
   "metadata": {},
   "outputs": [
    {
     "data": {
      "text/html": [
       "<pre style=\"white-space:pre;overflow-x:auto;line-height:normal;font-family:Menlo,'DejaVu Sans Mono',consolas,'Courier New',monospace\"><span style=\"color: #7fbfbf; text-decoration-color: #7fbfbf\">[03/08/24 12:53:09] </span><span style=\"color: #000080; text-decoration-color: #000080\">INFO    </span> Resolved project path as:                                              <a href=\"file:///Users/tony/anaconda3/envs/pocs/lib/python3.8/site-packages/kedro/ipython/__init__.py\" target=\"_blank\"><span style=\"color: #7f7f7f; text-decoration-color: #7f7f7f\">__init__.py</span></a><span style=\"color: #7f7f7f; text-decoration-color: #7f7f7f\">:</span><a href=\"file:///Users/tony/anaconda3/envs/pocs/lib/python3.8/site-packages/kedro/ipython/__init__.py#139\" target=\"_blank\"><span style=\"color: #7f7f7f; text-decoration-color: #7f7f7f\">139</span></a>\n",
       "<span style=\"color: #7fbfbf; text-decoration-color: #7fbfbf\">                    </span>         <span style=\"color: #800080; text-decoration-color: #800080\">/Users/tony/Documents/phd/courses/PoCS2/spiteful-allegory/</span><span style=\"color: #ff00ff; text-decoration-color: #ff00ff\">work.</span>        <span style=\"color: #7f7f7f; text-decoration-color: #7f7f7f\">               </span>\n",
       "<span style=\"color: #7fbfbf; text-decoration-color: #7fbfbf\">                    </span>         To set a different path, run <span style=\"color: #008000; text-decoration-color: #008000\">'%reload_kedro &lt;project_root&gt;'</span>            <span style=\"color: #7f7f7f; text-decoration-color: #7f7f7f\">               </span>\n",
       "</pre>\n"
      ],
      "text/plain": [
       "\u001b[2;36m[03/08/24 12:53:09]\u001b[0m\u001b[2;36m \u001b[0m\u001b[34mINFO    \u001b[0m Resolved project path as:                                              \u001b]8;id=612354;file:///Users/tony/anaconda3/envs/pocs/lib/python3.8/site-packages/kedro/ipython/__init__.py\u001b\\\u001b[2m__init__.py\u001b[0m\u001b]8;;\u001b\\\u001b[2m:\u001b[0m\u001b]8;id=491685;file:///Users/tony/anaconda3/envs/pocs/lib/python3.8/site-packages/kedro/ipython/__init__.py#139\u001b\\\u001b[2m139\u001b[0m\u001b]8;;\u001b\\\n",
       "\u001b[2;36m                    \u001b[0m         \u001b[35m/Users/tony/Documents/phd/courses/PoCS2/spiteful-allegory/\u001b[0m\u001b[95mwork.\u001b[0m        \u001b[2m               \u001b[0m\n",
       "\u001b[2;36m                    \u001b[0m         To set a different path, run \u001b[32m'%reload_kedro \u001b[0m\u001b[32m<\u001b[0m\u001b[32mproject_root\u001b[0m\u001b[32m>\u001b[0m\u001b[32m'\u001b[0m            \u001b[2m               \u001b[0m\n"
      ]
     },
     "metadata": {},
     "output_type": "display_data"
    },
    {
     "data": {
      "text/html": [
       "<pre style=\"white-space:pre;overflow-x:auto;line-height:normal;font-family:Menlo,'DejaVu Sans Mono',consolas,'Courier New',monospace\"><span style=\"color: #7fbfbf; text-decoration-color: #7fbfbf\">[03/08/24 12:53:09] </span><span style=\"color: #800000; text-decoration-color: #800000\">WARNING </span> <span style=\"color: #800080; text-decoration-color: #800080\">/Users/tony/anaconda3/envs/pocs/lib/python3.8/site-packages/kedro/fram</span> <a href=\"file:///Users/tony/anaconda3/envs/pocs/lib/python3.8/warnings.py\" target=\"_blank\"><span style=\"color: #7f7f7f; text-decoration-color: #7f7f7f\">warnings.py</span></a><span style=\"color: #7f7f7f; text-decoration-color: #7f7f7f\">:</span><a href=\"file:///Users/tony/anaconda3/envs/pocs/lib/python3.8/warnings.py#109\" target=\"_blank\"><span style=\"color: #7f7f7f; text-decoration-color: #7f7f7f\">109</span></a>\n",
       "<span style=\"color: #7fbfbf; text-decoration-color: #7fbfbf\">                    </span>         <span style=\"color: #800080; text-decoration-color: #800080\">ework/session/</span><span style=\"color: #ff00ff; text-decoration-color: #ff00ff\">session.py</span>:<span style=\"color: #008080; text-decoration-color: #008080; font-weight: bold\">267</span>: KedroDeprecationWarning: ConfigLoader    <span style=\"color: #7f7f7f; text-decoration-color: #7f7f7f\">               </span>\n",
       "<span style=\"color: #7fbfbf; text-decoration-color: #7fbfbf\">                    </span>         will be deprecated in Kedro <span style=\"color: #008080; text-decoration-color: #008080; font-weight: bold\">0.19</span>. Please use the OmegaConfigLoader     <span style=\"color: #7f7f7f; text-decoration-color: #7f7f7f\">               </span>\n",
       "<span style=\"color: #7fbfbf; text-decoration-color: #7fbfbf\">                    </span>         instead. To consult the documentation for OmegaConfigLoader, see here: <span style=\"color: #7f7f7f; text-decoration-color: #7f7f7f\">               </span>\n",
       "<span style=\"color: #7fbfbf; text-decoration-color: #7fbfbf\">                    </span>         <span style=\"color: #0000ff; text-decoration-color: #0000ff; text-decoration: underline\">https://docs.kedro.org/en/stable/configuration/advanced_configuration.</span> <span style=\"color: #7f7f7f; text-decoration-color: #7f7f7f\">               </span>\n",
       "<span style=\"color: #7fbfbf; text-decoration-color: #7fbfbf\">                    </span>         <span style=\"color: #0000ff; text-decoration-color: #0000ff; text-decoration: underline\">html#omegaconfigloader</span>                                                 <span style=\"color: #7f7f7f; text-decoration-color: #7f7f7f\">               </span>\n",
       "<span style=\"color: #7fbfbf; text-decoration-color: #7fbfbf\">                    </span>           <span style=\"color: #800080; text-decoration-color: #800080; font-weight: bold\">warnings.warn</span><span style=\"font-weight: bold\">(</span>                                                       <span style=\"color: #7f7f7f; text-decoration-color: #7f7f7f\">               </span>\n",
       "<span style=\"color: #7fbfbf; text-decoration-color: #7fbfbf\">                    </span>                                                                                <span style=\"color: #7f7f7f; text-decoration-color: #7f7f7f\">               </span>\n",
       "</pre>\n"
      ],
      "text/plain": [
       "\u001b[2;36m[03/08/24 12:53:09]\u001b[0m\u001b[2;36m \u001b[0m\u001b[31mWARNING \u001b[0m \u001b[35m/Users/tony/anaconda3/envs/pocs/lib/python3.8/site-packages/kedro/fram\u001b[0m \u001b]8;id=809674;file:///Users/tony/anaconda3/envs/pocs/lib/python3.8/warnings.py\u001b\\\u001b[2mwarnings.py\u001b[0m\u001b]8;;\u001b\\\u001b[2m:\u001b[0m\u001b]8;id=203615;file:///Users/tony/anaconda3/envs/pocs/lib/python3.8/warnings.py#109\u001b\\\u001b[2m109\u001b[0m\u001b]8;;\u001b\\\n",
       "\u001b[2;36m                    \u001b[0m         \u001b[35mework/session/\u001b[0m\u001b[95msession.py\u001b[0m:\u001b[1;36m267\u001b[0m: KedroDeprecationWarning: ConfigLoader    \u001b[2m               \u001b[0m\n",
       "\u001b[2;36m                    \u001b[0m         will be deprecated in Kedro \u001b[1;36m0.19\u001b[0m. Please use the OmegaConfigLoader     \u001b[2m               \u001b[0m\n",
       "\u001b[2;36m                    \u001b[0m         instead. To consult the documentation for OmegaConfigLoader, see here: \u001b[2m               \u001b[0m\n",
       "\u001b[2;36m                    \u001b[0m         \u001b[4;94mhttps://docs.kedro.org/en/stable/configuration/advanced_configuration.\u001b[0m \u001b[2m               \u001b[0m\n",
       "\u001b[2;36m                    \u001b[0m         \u001b[4;94mhtml#omegaconfigloader\u001b[0m                                                 \u001b[2m               \u001b[0m\n",
       "\u001b[2;36m                    \u001b[0m           \u001b[1;35mwarnings.warn\u001b[0m\u001b[1m(\u001b[0m                                                       \u001b[2m               \u001b[0m\n",
       "\u001b[2;36m                    \u001b[0m                                                                                \u001b[2m               \u001b[0m\n"
      ]
     },
     "metadata": {},
     "output_type": "display_data"
    },
    {
     "data": {
      "text/html": [
       "<pre style=\"white-space:pre;overflow-x:auto;line-height:normal;font-family:Menlo,'DejaVu Sans Mono',consolas,'Courier New',monospace\"><span style=\"color: #7fbfbf; text-decoration-color: #7fbfbf\">                    </span><span style=\"color: #800000; text-decoration-color: #800000\">WARNING </span> <span style=\"color: #800080; text-decoration-color: #800080\">/Users/tony/anaconda3/envs/pocs/lib/python3.8/site-packages/lazy_loade</span> <a href=\"file:///Users/tony/anaconda3/envs/pocs/lib/python3.8/warnings.py\" target=\"_blank\"><span style=\"color: #7f7f7f; text-decoration-color: #7f7f7f\">warnings.py</span></a><span style=\"color: #7f7f7f; text-decoration-color: #7f7f7f\">:</span><a href=\"file:///Users/tony/anaconda3/envs/pocs/lib/python3.8/warnings.py#109\" target=\"_blank\"><span style=\"color: #7f7f7f; text-decoration-color: #7f7f7f\">109</span></a>\n",
       "<span style=\"color: #7fbfbf; text-decoration-color: #7fbfbf\">                    </span>         <span style=\"color: #800080; text-decoration-color: #800080\">r/</span><span style=\"color: #ff00ff; text-decoration-color: #ff00ff\">__init__.py</span>:<span style=\"color: #008080; text-decoration-color: #008080; font-weight: bold\">78</span>: KedroDeprecationWarning: <span style=\"color: #008000; text-decoration-color: #008000\">'TextDataSet'</span> has been      <span style=\"color: #7f7f7f; text-decoration-color: #7f7f7f\">               </span>\n",
       "<span style=\"color: #7fbfbf; text-decoration-color: #7fbfbf\">                    </span>         renamed to <span style=\"color: #008000; text-decoration-color: #008000\">'TextDataset'</span>, and the alias will be removed in             <span style=\"color: #7f7f7f; text-decoration-color: #7f7f7f\">               </span>\n",
       "<span style=\"color: #7fbfbf; text-decoration-color: #7fbfbf\">                    </span>         Kedro-Datasets <span style=\"color: #008080; text-decoration-color: #008080; font-weight: bold\">2.0</span>.<span style=\"color: #008080; text-decoration-color: #008080; font-weight: bold\">0</span>                                                   <span style=\"color: #7f7f7f; text-decoration-color: #7f7f7f\">               </span>\n",
       "<span style=\"color: #7fbfbf; text-decoration-color: #7fbfbf\">                    </span>           attr = <span style=\"color: #800080; text-decoration-color: #800080; font-weight: bold\">getattr</span><span style=\"font-weight: bold\">(</span>submod, name<span style=\"font-weight: bold\">)</span>                                         <span style=\"color: #7f7f7f; text-decoration-color: #7f7f7f\">               </span>\n",
       "<span style=\"color: #7fbfbf; text-decoration-color: #7fbfbf\">                    </span>                                                                                <span style=\"color: #7f7f7f; text-decoration-color: #7f7f7f\">               </span>\n",
       "</pre>\n"
      ],
      "text/plain": [
       "\u001b[2;36m                   \u001b[0m\u001b[2;36m \u001b[0m\u001b[31mWARNING \u001b[0m \u001b[35m/Users/tony/anaconda3/envs/pocs/lib/python3.8/site-packages/lazy_loade\u001b[0m \u001b]8;id=886286;file:///Users/tony/anaconda3/envs/pocs/lib/python3.8/warnings.py\u001b\\\u001b[2mwarnings.py\u001b[0m\u001b]8;;\u001b\\\u001b[2m:\u001b[0m\u001b]8;id=519452;file:///Users/tony/anaconda3/envs/pocs/lib/python3.8/warnings.py#109\u001b\\\u001b[2m109\u001b[0m\u001b]8;;\u001b\\\n",
       "\u001b[2;36m                    \u001b[0m         \u001b[35mr/\u001b[0m\u001b[95m__init__.py\u001b[0m:\u001b[1;36m78\u001b[0m: KedroDeprecationWarning: \u001b[32m'TextDataSet'\u001b[0m has been      \u001b[2m               \u001b[0m\n",
       "\u001b[2;36m                    \u001b[0m         renamed to \u001b[32m'TextDataset'\u001b[0m, and the alias will be removed in             \u001b[2m               \u001b[0m\n",
       "\u001b[2;36m                    \u001b[0m         Kedro-Datasets \u001b[1;36m2.0\u001b[0m.\u001b[1;36m0\u001b[0m                                                   \u001b[2m               \u001b[0m\n",
       "\u001b[2;36m                    \u001b[0m           attr = \u001b[1;35mgetattr\u001b[0m\u001b[1m(\u001b[0msubmod, name\u001b[1m)\u001b[0m                                         \u001b[2m               \u001b[0m\n",
       "\u001b[2;36m                    \u001b[0m                                                                                \u001b[2m               \u001b[0m\n"
      ]
     },
     "metadata": {},
     "output_type": "display_data"
    },
    {
     "data": {
      "text/html": [
       "<pre style=\"white-space:pre;overflow-x:auto;line-height:normal;font-family:Menlo,'DejaVu Sans Mono',consolas,'Courier New',monospace\"><span style=\"color: #7fbfbf; text-decoration-color: #7fbfbf\">                    </span><span style=\"color: #800000; text-decoration-color: #800000\">WARNING </span> <span style=\"color: #800080; text-decoration-color: #800080\">/Users/tony/anaconda3/envs/pocs/lib/python3.8/site-packages/lazy_loade</span> <a href=\"file:///Users/tony/anaconda3/envs/pocs/lib/python3.8/warnings.py\" target=\"_blank\"><span style=\"color: #7f7f7f; text-decoration-color: #7f7f7f\">warnings.py</span></a><span style=\"color: #7f7f7f; text-decoration-color: #7f7f7f\">:</span><a href=\"file:///Users/tony/anaconda3/envs/pocs/lib/python3.8/warnings.py#109\" target=\"_blank\"><span style=\"color: #7f7f7f; text-decoration-color: #7f7f7f\">109</span></a>\n",
       "<span style=\"color: #7fbfbf; text-decoration-color: #7fbfbf\">                    </span>         <span style=\"color: #800080; text-decoration-color: #800080\">r/</span><span style=\"color: #ff00ff; text-decoration-color: #ff00ff\">__init__.py</span>:<span style=\"color: #008080; text-decoration-color: #008080; font-weight: bold\">78</span>: KedroDeprecationWarning: <span style=\"color: #008000; text-decoration-color: #008000\">'CSVDataSet'</span> has been       <span style=\"color: #7f7f7f; text-decoration-color: #7f7f7f\">               </span>\n",
       "<span style=\"color: #7fbfbf; text-decoration-color: #7fbfbf\">                    </span>         renamed to <span style=\"color: #008000; text-decoration-color: #008000\">'CSVDataset'</span>, and the alias will be removed in              <span style=\"color: #7f7f7f; text-decoration-color: #7f7f7f\">               </span>\n",
       "<span style=\"color: #7fbfbf; text-decoration-color: #7fbfbf\">                    </span>         Kedro-Datasets <span style=\"color: #008080; text-decoration-color: #008080; font-weight: bold\">2.0</span>.<span style=\"color: #008080; text-decoration-color: #008080; font-weight: bold\">0</span>                                                   <span style=\"color: #7f7f7f; text-decoration-color: #7f7f7f\">               </span>\n",
       "<span style=\"color: #7fbfbf; text-decoration-color: #7fbfbf\">                    </span>           attr = <span style=\"color: #800080; text-decoration-color: #800080; font-weight: bold\">getattr</span><span style=\"font-weight: bold\">(</span>submod, name<span style=\"font-weight: bold\">)</span>                                         <span style=\"color: #7f7f7f; text-decoration-color: #7f7f7f\">               </span>\n",
       "<span style=\"color: #7fbfbf; text-decoration-color: #7fbfbf\">                    </span>                                                                                <span style=\"color: #7f7f7f; text-decoration-color: #7f7f7f\">               </span>\n",
       "</pre>\n"
      ],
      "text/plain": [
       "\u001b[2;36m                   \u001b[0m\u001b[2;36m \u001b[0m\u001b[31mWARNING \u001b[0m \u001b[35m/Users/tony/anaconda3/envs/pocs/lib/python3.8/site-packages/lazy_loade\u001b[0m \u001b]8;id=242299;file:///Users/tony/anaconda3/envs/pocs/lib/python3.8/warnings.py\u001b\\\u001b[2mwarnings.py\u001b[0m\u001b]8;;\u001b\\\u001b[2m:\u001b[0m\u001b]8;id=491885;file:///Users/tony/anaconda3/envs/pocs/lib/python3.8/warnings.py#109\u001b\\\u001b[2m109\u001b[0m\u001b]8;;\u001b\\\n",
       "\u001b[2;36m                    \u001b[0m         \u001b[35mr/\u001b[0m\u001b[95m__init__.py\u001b[0m:\u001b[1;36m78\u001b[0m: KedroDeprecationWarning: \u001b[32m'CSVDataSet'\u001b[0m has been       \u001b[2m               \u001b[0m\n",
       "\u001b[2;36m                    \u001b[0m         renamed to \u001b[32m'CSVDataset'\u001b[0m, and the alias will be removed in              \u001b[2m               \u001b[0m\n",
       "\u001b[2;36m                    \u001b[0m         Kedro-Datasets \u001b[1;36m2.0\u001b[0m.\u001b[1;36m0\u001b[0m                                                   \u001b[2m               \u001b[0m\n",
       "\u001b[2;36m                    \u001b[0m           attr = \u001b[1;35mgetattr\u001b[0m\u001b[1m(\u001b[0msubmod, name\u001b[1m)\u001b[0m                                         \u001b[2m               \u001b[0m\n",
       "\u001b[2;36m                    \u001b[0m                                                                                \u001b[2m               \u001b[0m\n"
      ]
     },
     "metadata": {},
     "output_type": "display_data"
    },
    {
     "data": {
      "text/html": [
       "<pre style=\"white-space:pre;overflow-x:auto;line-height:normal;font-family:Menlo,'DejaVu Sans Mono',consolas,'Courier New',monospace\"><span style=\"color: #7fbfbf; text-decoration-color: #7fbfbf\">                    </span><span style=\"color: #000080; text-decoration-color: #000080\">INFO    </span> Kedro project work                                                     <a href=\"file:///Users/tony/anaconda3/envs/pocs/lib/python3.8/site-packages/kedro/ipython/__init__.py\" target=\"_blank\"><span style=\"color: #7f7f7f; text-decoration-color: #7f7f7f\">__init__.py</span></a><span style=\"color: #7f7f7f; text-decoration-color: #7f7f7f\">:</span><a href=\"file:///Users/tony/anaconda3/envs/pocs/lib/python3.8/site-packages/kedro/ipython/__init__.py#108\" target=\"_blank\"><span style=\"color: #7f7f7f; text-decoration-color: #7f7f7f\">108</span></a>\n",
       "</pre>\n"
      ],
      "text/plain": [
       "\u001b[2;36m                   \u001b[0m\u001b[2;36m \u001b[0m\u001b[34mINFO    \u001b[0m Kedro project work                                                     \u001b]8;id=127720;file:///Users/tony/anaconda3/envs/pocs/lib/python3.8/site-packages/kedro/ipython/__init__.py\u001b\\\u001b[2m__init__.py\u001b[0m\u001b]8;;\u001b\\\u001b[2m:\u001b[0m\u001b]8;id=23736;file:///Users/tony/anaconda3/envs/pocs/lib/python3.8/site-packages/kedro/ipython/__init__.py#108\u001b\\\u001b[2m108\u001b[0m\u001b]8;;\u001b\\\n"
      ]
     },
     "metadata": {},
     "output_type": "display_data"
    },
    {
     "data": {
      "text/html": [
       "<pre style=\"white-space:pre;overflow-x:auto;line-height:normal;font-family:Menlo,'DejaVu Sans Mono',consolas,'Courier New',monospace\"><span style=\"color: #7fbfbf; text-decoration-color: #7fbfbf\">                    </span><span style=\"color: #000080; text-decoration-color: #000080\">INFO    </span> Defined global variable <span style=\"color: #008000; text-decoration-color: #008000\">'context'</span>, <span style=\"color: #008000; text-decoration-color: #008000\">'session'</span>, <span style=\"color: #008000; text-decoration-color: #008000\">'catalog'</span> and            <a href=\"file:///Users/tony/anaconda3/envs/pocs/lib/python3.8/site-packages/kedro/ipython/__init__.py\" target=\"_blank\"><span style=\"color: #7f7f7f; text-decoration-color: #7f7f7f\">__init__.py</span></a><span style=\"color: #7f7f7f; text-decoration-color: #7f7f7f\">:</span><a href=\"file:///Users/tony/anaconda3/envs/pocs/lib/python3.8/site-packages/kedro/ipython/__init__.py#109\" target=\"_blank\"><span style=\"color: #7f7f7f; text-decoration-color: #7f7f7f\">109</span></a>\n",
       "<span style=\"color: #7fbfbf; text-decoration-color: #7fbfbf\">                    </span>         <span style=\"color: #008000; text-decoration-color: #008000\">'pipelines'</span>                                                            <span style=\"color: #7f7f7f; text-decoration-color: #7f7f7f\">               </span>\n",
       "</pre>\n"
      ],
      "text/plain": [
       "\u001b[2;36m                   \u001b[0m\u001b[2;36m \u001b[0m\u001b[34mINFO    \u001b[0m Defined global variable \u001b[32m'context'\u001b[0m, \u001b[32m'session'\u001b[0m, \u001b[32m'catalog'\u001b[0m and            \u001b]8;id=400688;file:///Users/tony/anaconda3/envs/pocs/lib/python3.8/site-packages/kedro/ipython/__init__.py\u001b\\\u001b[2m__init__.py\u001b[0m\u001b]8;;\u001b\\\u001b[2m:\u001b[0m\u001b]8;id=442453;file:///Users/tony/anaconda3/envs/pocs/lib/python3.8/site-packages/kedro/ipython/__init__.py#109\u001b\\\u001b[2m109\u001b[0m\u001b]8;;\u001b\\\n",
       "\u001b[2;36m                    \u001b[0m         \u001b[32m'pipelines'\u001b[0m                                                            \u001b[2m               \u001b[0m\n"
      ]
     },
     "metadata": {},
     "output_type": "display_data"
    }
   ],
   "source": [
    "%reload_kedro"
   ]
  },
  {
   "cell_type": "code",
   "execution_count": 23,
   "metadata": {},
   "outputs": [],
   "source": [
    "import pandas as pd\n",
    "import re\n",
    "\n",
    "import matplotlib.pyplot as plt\n",
    "\n",
    "from work.pipelines.word_helpers.nodes import make_size_rank_dist, parse_text"
   ]
  },
  {
   "cell_type": "code",
   "execution_count": 4,
   "metadata": {},
   "outputs": [
    {
     "data": {
      "text/html": [
       "<pre style=\"white-space:pre;overflow-x:auto;line-height:normal;font-family:Menlo,'DejaVu Sans Mono',consolas,'Courier New',monospace\"><span style=\"color: #7fbfbf; text-decoration-color: #7fbfbf\">                    </span><span style=\"color: #000080; text-decoration-color: #000080\">INFO    </span> Loading data from <span style=\"color: #008000; text-decoration-color: #008000\">'neurosynth_text'</span> <span style=\"font-weight: bold\">(</span>CSVDataset<span style=\"font-weight: bold\">)</span><span style=\"color: #808000; text-decoration-color: #808000\">...</span>                <a href=\"file:///Users/tony/anaconda3/envs/pocs/lib/python3.8/site-packages/kedro/io/data_catalog.py\" target=\"_blank\"><span style=\"color: #7f7f7f; text-decoration-color: #7f7f7f\">data_catalog.py</span></a><span style=\"color: #7f7f7f; text-decoration-color: #7f7f7f\">:</span><a href=\"file:///Users/tony/anaconda3/envs/pocs/lib/python3.8/site-packages/kedro/io/data_catalog.py#502\" target=\"_blank\"><span style=\"color: #7f7f7f; text-decoration-color: #7f7f7f\">502</span></a>\n",
       "</pre>\n"
      ],
      "text/plain": [
       "\u001b[2;36m                   \u001b[0m\u001b[2;36m \u001b[0m\u001b[34mINFO    \u001b[0m Loading data from \u001b[32m'neurosynth_text'\u001b[0m \u001b[1m(\u001b[0mCSVDataset\u001b[1m)\u001b[0m\u001b[33m...\u001b[0m                \u001b]8;id=943916;file:///Users/tony/anaconda3/envs/pocs/lib/python3.8/site-packages/kedro/io/data_catalog.py\u001b\\\u001b[2mdata_catalog.py\u001b[0m\u001b]8;;\u001b\\\u001b[2m:\u001b[0m\u001b]8;id=156263;file:///Users/tony/anaconda3/envs/pocs/lib/python3.8/site-packages/kedro/io/data_catalog.py#502\u001b\\\u001b[2m502\u001b[0m\u001b]8;;\u001b\\\n"
      ]
     },
     "metadata": {},
     "output_type": "display_data"
    },
    {
     "data": {
      "text/html": [
       "<pre style=\"white-space:pre;overflow-x:auto;line-height:normal;font-family:Menlo,'DejaVu Sans Mono',consolas,'Courier New',monospace\"><span style=\"color: #7fbfbf; text-decoration-color: #7fbfbf\">[03/08/24 12:53:10] </span><span style=\"color: #000080; text-decoration-color: #000080\">INFO    </span> Loading data from <span style=\"color: #008000; text-decoration-color: #008000\">'neuroquery_text'</span> <span style=\"font-weight: bold\">(</span>CSVDataset<span style=\"font-weight: bold\">)</span><span style=\"color: #808000; text-decoration-color: #808000\">...</span>                <a href=\"file:///Users/tony/anaconda3/envs/pocs/lib/python3.8/site-packages/kedro/io/data_catalog.py\" target=\"_blank\"><span style=\"color: #7f7f7f; text-decoration-color: #7f7f7f\">data_catalog.py</span></a><span style=\"color: #7f7f7f; text-decoration-color: #7f7f7f\">:</span><a href=\"file:///Users/tony/anaconda3/envs/pocs/lib/python3.8/site-packages/kedro/io/data_catalog.py#502\" target=\"_blank\"><span style=\"color: #7f7f7f; text-decoration-color: #7f7f7f\">502</span></a>\n",
       "</pre>\n"
      ],
      "text/plain": [
       "\u001b[2;36m[03/08/24 12:53:10]\u001b[0m\u001b[2;36m \u001b[0m\u001b[34mINFO    \u001b[0m Loading data from \u001b[32m'neuroquery_text'\u001b[0m \u001b[1m(\u001b[0mCSVDataset\u001b[1m)\u001b[0m\u001b[33m...\u001b[0m                \u001b]8;id=313085;file:///Users/tony/anaconda3/envs/pocs/lib/python3.8/site-packages/kedro/io/data_catalog.py\u001b\\\u001b[2mdata_catalog.py\u001b[0m\u001b]8;;\u001b\\\u001b[2m:\u001b[0m\u001b]8;id=487066;file:///Users/tony/anaconda3/envs/pocs/lib/python3.8/site-packages/kedro/io/data_catalog.py#502\u001b\\\u001b[2m502\u001b[0m\u001b]8;;\u001b\\\n"
      ]
     },
     "metadata": {},
     "output_type": "display_data"
    },
    {
     "data": {
      "text/html": [
       "<pre style=\"white-space:pre;overflow-x:auto;line-height:normal;font-family:Menlo,'DejaVu Sans Mono',consolas,'Courier New',monospace\"></pre>\n"
      ],
      "text/plain": []
     },
     "metadata": {},
     "output_type": "display_data"
    },
    {
     "data": {
      "text/html": [
       "<div>\n",
       "<style scoped>\n",
       "    .dataframe tbody tr th:only-of-type {\n",
       "        vertical-align: middle;\n",
       "    }\n",
       "\n",
       "    .dataframe tbody tr th {\n",
       "        vertical-align: top;\n",
       "    }\n",
       "\n",
       "    .dataframe thead th {\n",
       "        text-align: right;\n",
       "    }\n",
       "</style>\n",
       "<table border=\"1\" class=\"dataframe\">\n",
       "  <thead>\n",
       "    <tr style=\"text-align: right;\">\n",
       "      <th></th>\n",
       "      <th>id</th>\n",
       "      <th>study_id</th>\n",
       "      <th>contrast_id</th>\n",
       "      <th>abstract</th>\n",
       "      <th>source</th>\n",
       "    </tr>\n",
       "  </thead>\n",
       "  <tbody>\n",
       "    <tr>\n",
       "      <th>0</th>\n",
       "      <td>10022492-1</td>\n",
       "      <td>10022492</td>\n",
       "      <td>1</td>\n",
       "      <td>A fundamental characteristic of working memory...</td>\n",
       "      <td>neurosynth</td>\n",
       "    </tr>\n",
       "    <tr>\n",
       "      <th>1</th>\n",
       "      <td>10022494-1</td>\n",
       "      <td>10022494</td>\n",
       "      <td>1</td>\n",
       "      <td>Electrophysiological studies on monkeys have b...</td>\n",
       "      <td>neurosynth</td>\n",
       "    </tr>\n",
       "    <tr>\n",
       "      <th>2</th>\n",
       "      <td>10022496-1</td>\n",
       "      <td>10022496</td>\n",
       "      <td>1</td>\n",
       "      <td>Most functional imaging studies of the auditor...</td>\n",
       "      <td>neurosynth</td>\n",
       "    </tr>\n",
       "    <tr>\n",
       "      <th>3</th>\n",
       "      <td>10051677-1</td>\n",
       "      <td>10051677</td>\n",
       "      <td>1</td>\n",
       "      <td>Positron emission tomography studies were cond...</td>\n",
       "      <td>neurosynth</td>\n",
       "    </tr>\n",
       "    <tr>\n",
       "      <th>4</th>\n",
       "      <td>10191322-1</td>\n",
       "      <td>10191322</td>\n",
       "      <td>1</td>\n",
       "      <td>The cortical organization of language in bilin...</td>\n",
       "      <td>neurosynth</td>\n",
       "    </tr>\n",
       "  </tbody>\n",
       "</table>\n",
       "</div>"
      ],
      "text/plain": [
       "\n",
       "           id  study_id  contrast_id  \\\n",
       "\u001b[1;36m0\u001b[0m  \u001b[1;36m10022492\u001b[0m-\u001b[1;36m1\u001b[0m  \u001b[1;36m10022492\u001b[0m            \u001b[1;36m1\u001b[0m   \n",
       "\u001b[1;36m1\u001b[0m  \u001b[1;36m10022494\u001b[0m-\u001b[1;36m1\u001b[0m  \u001b[1;36m10022494\u001b[0m            \u001b[1;36m1\u001b[0m   \n",
       "\u001b[1;36m2\u001b[0m  \u001b[1;36m10022496\u001b[0m-\u001b[1;36m1\u001b[0m  \u001b[1;36m10022496\u001b[0m            \u001b[1;36m1\u001b[0m   \n",
       "\u001b[1;36m3\u001b[0m  \u001b[1;36m10051677\u001b[0m-\u001b[1;36m1\u001b[0m  \u001b[1;36m10051677\u001b[0m            \u001b[1;36m1\u001b[0m   \n",
       "\u001b[1;36m4\u001b[0m  \u001b[1;36m10191322\u001b[0m-\u001b[1;36m1\u001b[0m  \u001b[1;36m10191322\u001b[0m            \u001b[1;36m1\u001b[0m   \n",
       "\n",
       "                                            abstract      source  \n",
       "\u001b[1;36m0\u001b[0m  A fundamental characteristic of working memory\u001b[33m...\u001b[0m  neurosynth  \n",
       "\u001b[1;36m1\u001b[0m  Electrophysiological studies on monkeys have b\u001b[33m...\u001b[0m  neurosynth  \n",
       "\u001b[1;36m2\u001b[0m  Most functional imaging studies of the auditor\u001b[33m...\u001b[0m  neurosynth  \n",
       "\u001b[1;36m3\u001b[0m  Positron emission tomography studies were cond\u001b[33m...\u001b[0m  neurosynth  \n",
       "\u001b[1;36m4\u001b[0m  The cortical organization of language in bilin\u001b[33m...\u001b[0m  neurosynth  "
      ]
     },
     "execution_count": 4,
     "metadata": {},
     "output_type": "execute_result"
    }
   ],
   "source": [
    "neurosynth_text = catalog.load('neurosynth_text')\n",
    "neurosynth_text['source'] = 'neurosynth'\n",
    "\n",
    "neuroquery_text = catalog.load('neuroquery_text')\n",
    "neuroquery_text['source'] = 'neuroquery'\n",
    "\n",
    "text = pd.concat([neurosynth_text, neuroquery_text])\n",
    "text.head()"
   ]
  },
  {
   "cell_type": "code",
   "execution_count": 24,
   "metadata": {},
   "outputs": [
    {
     "data": {
      "text/html": [
       "<pre style=\"white-space:pre;overflow-x:auto;line-height:normal;font-family:Menlo,'DejaVu Sans Mono',consolas,'Courier New',monospace\"></pre>\n"
      ],
      "text/plain": []
     },
     "metadata": {},
     "output_type": "display_data"
    },
    {
     "data": {
      "text/html": [
       "<div>\n",
       "<style scoped>\n",
       "    .dataframe tbody tr th:only-of-type {\n",
       "        vertical-align: middle;\n",
       "    }\n",
       "\n",
       "    .dataframe tbody tr th {\n",
       "        vertical-align: top;\n",
       "    }\n",
       "\n",
       "    .dataframe thead th {\n",
       "        text-align: right;\n",
       "    }\n",
       "</style>\n",
       "<table border=\"1\" class=\"dataframe\">\n",
       "  <thead>\n",
       "    <tr style=\"text-align: right;\">\n",
       "      <th></th>\n",
       "      <th>rank</th>\n",
       "      <th>ngram</th>\n",
       "      <th>count</th>\n",
       "    </tr>\n",
       "  </thead>\n",
       "  <tbody>\n",
       "    <tr>\n",
       "      <th>0</th>\n",
       "      <td>0</td>\n",
       "      <td>,</td>\n",
       "      <td>11</td>\n",
       "    </tr>\n",
       "    <tr>\n",
       "      <th>1</th>\n",
       "      <td>1</td>\n",
       "      <td>of</td>\n",
       "      <td>9</td>\n",
       "    </tr>\n",
       "    <tr>\n",
       "      <th>2</th>\n",
       "      <td>2</td>\n",
       "      <td>.</td>\n",
       "      <td>8</td>\n",
       "    </tr>\n",
       "    <tr>\n",
       "      <th>3</th>\n",
       "      <td>3</td>\n",
       "      <td>memory</td>\n",
       "      <td>7</td>\n",
       "    </tr>\n",
       "    <tr>\n",
       "      <th>4</th>\n",
       "      <td>4</td>\n",
       "      <td>capacity</td>\n",
       "      <td>7</td>\n",
       "    </tr>\n",
       "    <tr>\n",
       "      <th>...</th>\n",
       "      <td>...</td>\n",
       "      <td>...</td>\n",
       "      <td>...</td>\n",
       "    </tr>\n",
       "    <tr>\n",
       "      <th>127</th>\n",
       "      <td>127</td>\n",
       "      <td>providing</td>\n",
       "      <td>1</td>\n",
       "    </tr>\n",
       "    <tr>\n",
       "      <th>128</th>\n",
       "      <td>128</td>\n",
       "      <td>missing</td>\n",
       "      <td>1</td>\n",
       "    </tr>\n",
       "    <tr>\n",
       "      <th>129</th>\n",
       "      <td>129</td>\n",
       "      <td>link</td>\n",
       "      <td>1</td>\n",
       "    </tr>\n",
       "    <tr>\n",
       "      <th>130</th>\n",
       "      <td>130</td>\n",
       "      <td>current</td>\n",
       "      <td>1</td>\n",
       "    </tr>\n",
       "    <tr>\n",
       "      <th>131</th>\n",
       "      <td>131</td>\n",
       "      <td>explorations</td>\n",
       "      <td>1</td>\n",
       "    </tr>\n",
       "  </tbody>\n",
       "</table>\n",
       "<p>132 rows × 3 columns</p>\n",
       "</div>"
      ],
      "text/plain": [
       "\n",
       "     rank         ngram  count\n",
       "\u001b[1;36m0\u001b[0m       \u001b[1;36m0\u001b[0m             ,     \u001b[1;36m11\u001b[0m\n",
       "\u001b[1;36m1\u001b[0m       \u001b[1;36m1\u001b[0m            of      \u001b[1;36m9\u001b[0m\n",
       "\u001b[1;36m2\u001b[0m       \u001b[1;36m2\u001b[0m             .      \u001b[1;36m8\u001b[0m\n",
       "\u001b[1;36m3\u001b[0m       \u001b[1;36m3\u001b[0m        memory      \u001b[1;36m7\u001b[0m\n",
       "\u001b[1;36m4\u001b[0m       \u001b[1;36m4\u001b[0m      capacity      \u001b[1;36m7\u001b[0m\n",
       "..    \u001b[33m...\u001b[0m           \u001b[33m...\u001b[0m    \u001b[33m...\u001b[0m\n",
       "\u001b[1;36m127\u001b[0m   \u001b[1;36m127\u001b[0m     providing      \u001b[1;36m1\u001b[0m\n",
       "\u001b[1;36m128\u001b[0m   \u001b[1;36m128\u001b[0m       missing      \u001b[1;36m1\u001b[0m\n",
       "\u001b[1;36m129\u001b[0m   \u001b[1;36m129\u001b[0m          link      \u001b[1;36m1\u001b[0m\n",
       "\u001b[1;36m130\u001b[0m   \u001b[1;36m130\u001b[0m       current      \u001b[1;36m1\u001b[0m\n",
       "\u001b[1;36m131\u001b[0m   \u001b[1;36m131\u001b[0m  explorations      \u001b[1;36m1\u001b[0m\n",
       "\n",
       "\u001b[1m[\u001b[0m\u001b[1;36m132\u001b[0m rows x \u001b[1;36m3\u001b[0m columns\u001b[1m]\u001b[0m"
      ]
     },
     "execution_count": 24,
     "metadata": {},
     "output_type": "execute_result"
    }
   ],
   "source": [
    "def make_sizerank_df(text: str) -> pd.DataFrame:\n",
    "\n",
    "    parsed = parse_text(text)\n",
    "    sizerank = make_size_rank_dist(parsed, write_file=False)\n",
    "\n",
    "    df = pd.DataFrame(sizerank, columns=['ngram', 'count'])\n",
    "    return df.reset_index(names=['rank'])\n",
    "\n",
    "sample_abstract = text['abstract'].iloc[0]\n",
    "make_sizerank_df(sample_abstract)"
   ]
  },
  {
   "cell_type": "code",
   "execution_count": 13,
   "metadata": {},
   "outputs": [
    {
     "data": {
      "text/html": [
       "<pre style=\"white-space:pre;overflow-x:auto;line-height:normal;font-family:Menlo,'DejaVu Sans Mono',consolas,'Courier New',monospace\"></pre>\n"
      ],
      "text/plain": []
     },
     "metadata": {},
     "output_type": "display_data"
    },
    {
     "data": {
      "text/plain": [
       "\u001b[32m'Most functional imaging studies of the auditory system have employed complex stimuli. We used positron emission tomography to map neural responses to 0.5 and 4.0 kHz sine-wave tones presented to the right ear at 30, 50, 70 and 90 dB HL and found activation in a complex neural network of elements traditionally associated with the auditory system as well as non-traditional sites such as the posterior cingulate cortex. Cingulate activity was maximal at low stimulus intensities, suggesting that it may function as a gain control center. In the right temporal lobe, the location of the maximal response varied with the intensity, but not with the frequency of the stimuli. In the left temporal lobe, there was evidence for tonotopic organization: a site lateral to the left primary auditory cortex was activated equally by both tones while a second site in primary auditory cortex was more responsive to the higher frequency. Infratentorial activations were contralateral to the stimulated ear and included the lateral cerebellum, the lateral pontine tegmentum, the midbrain and the medial geniculate. Contrary to predictions based on cochlear membrane mechanics, at each intensity, 4.0 kHz stimuli were more potent activators of the brain than the 0.5 kHz stimuli.'\u001b[0m"
      ]
     },
     "execution_count": 13,
     "metadata": {},
     "output_type": "execute_result"
    }
   ],
   "source": [
    "text['abstract'].iloc[2]"
   ]
  },
  {
   "cell_type": "code",
   "execution_count": 14,
   "metadata": {},
   "outputs": [
    {
     "data": {
      "text/html": [
       "<pre style=\"white-space:pre;overflow-x:auto;line-height:normal;font-family:Menlo,'DejaVu Sans Mono',consolas,'Courier New',monospace\"></pre>\n"
      ],
      "text/plain": []
     },
     "metadata": {},
     "output_type": "display_data"
    },
    {
     "data": {
      "text/plain": [
       "\n",
       "\u001b[1;36m0\u001b[0m        A fundamental characteristic of working memory\u001b[33m...\u001b[0m\n",
       "\u001b[1;36m1\u001b[0m        Electrophysiological studies on monkeys have b\u001b[33m...\u001b[0m\n",
       "\u001b[1;36m2\u001b[0m        Most functional imaging studies of the auditor\u001b[33m...\u001b[0m\n",
       "\u001b[1;36m3\u001b[0m        Positron emission tomography studies were cond\u001b[33m...\u001b[0m\n",
       "\u001b[1;36m4\u001b[0m        The cortical organization of language in bilin\u001b[33m...\u001b[0m\n",
       "                               \u001b[33m...\u001b[0m                        \n",
       "\u001b[1;36m13454\u001b[0m    Clinical empathy, which is defined as the abil\u001b[33m...\u001b[0m\n",
       "\u001b[1;36m13455\u001b[0m    Background and Purpose: Repetitive transcrania\u001b[33m...\u001b[0m\n",
       "\u001b[1;36m13456\u001b[0m    Several approaches to rehabilitation of the ha\u001b[33m...\u001b[0m\n",
       "\u001b[1;36m13457\u001b[0m    A number of neuroimaging findings have been in\u001b[33m...\u001b[0m\n",
       "\u001b[1;36m13458\u001b[0m    Visual areas of the occipitotemporal pathway a\u001b[33m...\u001b[0m\n",
       "Name: abstract, Length: \u001b[1;36m27830\u001b[0m, dtype: object"
      ]
     },
     "execution_count": 14,
     "metadata": {},
     "output_type": "execute_result"
    }
   ],
   "source": [
    "s = text['abstract']\n",
    "s"
   ]
  },
  {
   "cell_type": "code",
   "execution_count": 19,
   "metadata": {},
   "outputs": [
    {
     "data": {
      "text/html": [
       "<pre style=\"white-space:pre;overflow-x:auto;line-height:normal;font-family:Menlo,'DejaVu Sans Mono',consolas,'Courier New',monospace\"></pre>\n"
      ],
      "text/plain": []
     },
     "metadata": {},
     "output_type": "display_data"
    },
    {
     "data": {
      "text/plain": [
       "\u001b[32m\"A fundamental characteristic of working memory is that its capacity to handle information is limited. While there have been many brain mapping studies of working memory, the physiological basis of its capacity limitation has not been explained. We identified characteristics of working memory capacity using functional magnetic resonance imaging \u001b[0m\u001b[32m(\u001b[0m\u001b[32mfMRI\u001b[0m\u001b[32m)\u001b[0m\u001b[32m in healthy subjects. Working memory capacity was studied using a parametric 'n-back' working memory task involving increasing cognitive load and ultimately decreasing task performance. Loci within dorsolateral prefrontal cortex \u001b[0m\u001b[32m(\u001b[0m\u001b[32mDLPFC\u001b[0m\u001b[32m)\u001b[0m\u001b[32m evinced exclusively an 'inverted-U' shaped neurophysiological response from lowest to highest load, consistent with a capacity-constrained response. Regions outside of DLPFC, in contrast, were more heterogeneous in response and often showed early plateau or continuously increasing responses, which did not reflect capacity constraints. However, sporadic loci, including in the premotor cortex, thalamus and superior parietal lobule, also demonstrated putative capacity-constrained responses, perhaps arising as an upstream effect of DLPFC limitations or as part of a broader network-wide capacity limitation. These results demonstrate that regionally specific nodes within the working memory network are capacity-constrained in the physiological domain, providing a missing link in current explorations of the capacity characteristics of working memory.Electrophysiological studies on monkeys have been able to distinguish sensory and motor signals close in time by pseudorandomly delaying the cue that instructs the movement from the stimulus that triggers the movement. We have used a similar experimental design in functional magnetic resonance imaging \u001b[0m\u001b[32m(\u001b[0m\u001b[32mfMRI\u001b[0m\u001b[32m)\u001b[0m\u001b[32m, scanning subjects while they performed a visuomotor conditional task with instructed delays. One of four shapes was presented briefly. Two shapes instructed the subjects to flex the index finger; the other two shapes coded the flexion of the middle finger. The subjects were told to perform the movement after a tone. We have exploited a novel use of event-related fMRI. By systematically varying the interval between the visual and acoustic stimuli, it has been possible to estimate the significance of the evoked haemodynamic response \u001b[0m\u001b[32m(\u001b[0m\u001b[32mEHR\u001b[0m\u001b[32m)\u001b[0m\u001b[32m to each of the stimuli, despite their temporal proximity in relation to the time constant of the EHR. Furthermore, by varying the phase between events and image acquisition, we have been able to achieve high temporal resolution while scanning the whole brain. We dissociated sensory and motor components of the sensorimotor transformations elicited by the task, and assessed sustained activity during the instructed delays. In calcarine and occipitotemporal cortex, the responses were exclusively associated with the visual instruction cues. In temporal auditory cortex and in primary motor cortex, they were exclusively associated with the auditory trigger stimulus. In ventral prefrontal cortex there were movement-related responses preceded by preparatory activity and by signal-related activity. Finally, responses associated with the instruction cue and with sustained activity during the delay period were observed in the dorsal premotor cortex and in the dorsal posterior parietal cortex. Where the association between a visual cue and the appropriate movement is arbitrary, the underlying visuomotor transformations are not achieved exclusively through frontoparietal interactions. Rather, these processes seem to rely on the ventral visual stream, the ventral prefrontal cortex and the anterior part of the dorsal premotor cortex.Most functional imaging studies of the auditory system have employed complex stimuli. We used positron emission tomography to map neural responses to 0.5 and 4.0 kHz sine-wave tones presented to the right ear at 30, 50, 70 and 90 dB HL and found activation in a complex neural network of elements traditionally associated with the auditory system as well as non-traditional sites such as the posterior cingulate cortex. Cingulate activity was maximal at low stimulus intensities, suggesting that it may function as a gain control center. In the right temporal lobe, the location of the maximal response varied with the intensity, but not with the frequency of the stimuli. In the left temporal lobe, there was evidence for tonotopic organization: a site lateral to the left primary auditory cortex was activated equally by both tones while a second site in primary auditory cortex was more responsive to the higher frequency. Infratentorial activations were contralateral to the stimulated ear and included the lateral cerebellum, the lateral pontine tegmentum, the midbrain and the medial geniculate. Contrary to predictions based on cochlear membrane mechanics, at each intensity, 4.0 kHz stimuli were more potent activators of the brain than the 0.5 kHz stimuli.Positron emission tomography studies were conducted during genesis of moderate thirst by rapid i.v. infusion of hypertonic saline \u001b[0m\u001b[32m(\u001b[0m\u001b[32m0.51 M\u001b[0m\u001b[32m)\u001b[0m\u001b[32m and after satiation of thirst by drinking water. The correlation of regional cerebral blood flow with the change in the plasma Na concentration showed a significant group of cerebral activations in the anterior cingulate region and also a site in the middle temporal gyrus and in the periaqueductal gray. Strongest deactivations occurred in the parahippocampal and frontal gyri. The data are consistent with an important role of the anterior cingulate in the genesis of thirst.The cortical organization of language in bilinguals remains disputed. We studied 24 right-handed fluent bilinguals: 15 exposed to both Mandarin and English before the age of 6 years; and nine exposed to Mandarin in early childhood but English only after the age of 12 years. Blood oxygen level-dependent contrast functional magnetic resonance imaging was performed while subjects performed cued word generation in each language. Fixation was the control task. In both languages, activations were present in the prefrontal, temporal, and parietal regions, and the supplementary motor area. Activations in the prefrontal region were compared by \u001b[0m\u001b[32m(\u001b[0m\u001b[32m1\u001b[0m\u001b[32m)\u001b[0m\u001b[32m locating peak activations and \u001b[0m\u001b[32m(\u001b[0m\u001b[32m2\u001b[0m\u001b[32m)\u001b[0m\u001b[32m counting the number of voxels that exceeded a statistical threshold. Although there were differences in the magnitude of activation between the pair of languages, no subject showed significant differences in peak-location or hemispheric asymmetry of activations in the prefrontal language areas. Early and late bilinguals showed a similar pattern of overlapping activations. There are no significant differences in the cortical areas activated for both Mandarin and English at the single word level, irrespective of age of acquisition of either language.Sensory functional MRI was performed in seven normal volunteers at 1. 5 T using a vibratory stimulus applied to the pad of the first finger of the left hand. The data was normalized to a standard atlas, and individual and group statistical parametric maps were computed. Robust bilateral activation was demonstrated in the secondary somatosensory cortex \u001b[0m\u001b[32m(\u001b[0m\u001b[32mSII\u001b[0m\u001b[32m)\u001b[0m\u001b[32m, indicating a bilateral representation of SII in humans. Greater maxima and activation volumes were achieved in contralateral SII as compared to SI. Sensory fMRI can provide a sensitive assay for probing the nature and function of SII in vivo.Apart from being a common feature of mental illness, auditory hallucinations provide an intriguing model for the study of internally generated sensory perceptions that are attributed to external sources. Until now, the knowledge about the cortical network that supports such hallucinations has been restricted by methodological limitations. Here, we describe an experiment with paranoid schizophrenic patients whose on- and offset of auditory hallucinations could be monitored within one functional magnetic resonance imaging \u001b[0m\u001b[32m(\u001b[0m\u001b[32mfMRI\u001b[0m\u001b[32m)\u001b[0m\u001b[32m session. We demonstrate an increase of the blood oxygen level-dependent \u001b[0m\u001b[32m(\u001b[0m\u001b[32mBOLD\u001b[0m\u001b[32m)\u001b[0m\u001b[32m signal in Heschl's gyrus during the patients' hallucinations. Our results provide direct evidence of the involvement of primary auditory areas in auditory verbal hallucinations and establish novel constraints for psychopathological models.Guessing is an important component of everyday cognition. The present study examined the neural substrates of guessing using a simple card-playing task in conjunction with functional magnetic resonance imaging \u001b[0m\u001b[32m(\u001b[0m\u001b[32mfMRI\u001b[0m\u001b[32m)\u001b[0m\u001b[32m. Subjects were scanned under four conditions. In two, they were shown images of the back of a playing card and had to guess either the colour or the suit of the card. In the other two they were shown the face of a card and had to report either the colour or the suit. Guessing compared to reporting was associated with significant activations in lateral prefrontal cortex \u001b[0m\u001b[32m(\u001b[0m\u001b[32mright more than left\u001b[0m\u001b[32m)\u001b[0m\u001b[32m, right orbitofrontal cortex, anterior cingulate, bilateral inferior parietal cortex and right thalamus. Increasing the guessing demands by manipulating the number of alternative outcomes was associated with activation of the left lateral and medial orbitofrontal cortex. These data suggest that while simple two choice guessing depends on an extensive neural system including regions of the right lateral prefrontal cortex, activation of orbitofrontal cortex increases as the probabilistic contingencies become more complex. Guessing thus involves not only systems implicated in working memory processes but also depends upon orbitofrontal cortex. This region is not typically activated in working memory tasks and its activation may reflect additional requirements of dealing with uncertainty.Two studies examined the contribution of human frontal cortical areas to the programming of trains of repetitive movements. The first study compared the performance of patients with unilateral frontal excisions, unilateral temporal excisions and controls on the speed of initiation of discrete vs. sequential tapping movements to visual stimuli. The frontal group showed normal initiation\"\u001b[0m"
      ]
     },
     "execution_count": 19,
     "metadata": {},
     "output_type": "execute_result"
    }
   ],
   "source": [
    "s_cat = s.str.cat()\n",
    "s_cat[0:10000]"
   ]
  },
  {
   "cell_type": "code",
   "execution_count": 25,
   "metadata": {},
   "outputs": [
    {
     "data": {
      "text/html": [
       "<pre style=\"white-space:pre;overflow-x:auto;line-height:normal;font-family:Menlo,'DejaVu Sans Mono',consolas,'Courier New',monospace\"></pre>\n"
      ],
      "text/plain": []
     },
     "metadata": {},
     "output_type": "display_data"
    },
    {
     "data": {
      "text/html": [
       "<div>\n",
       "<style scoped>\n",
       "    .dataframe tbody tr th:only-of-type {\n",
       "        vertical-align: middle;\n",
       "    }\n",
       "\n",
       "    .dataframe tbody tr th {\n",
       "        vertical-align: top;\n",
       "    }\n",
       "\n",
       "    .dataframe thead th {\n",
       "        text-align: right;\n",
       "    }\n",
       "</style>\n",
       "<table border=\"1\" class=\"dataframe\">\n",
       "  <thead>\n",
       "    <tr style=\"text-align: right;\">\n",
       "      <th></th>\n",
       "      <th>rank</th>\n",
       "      <th>ngram</th>\n",
       "      <th>count</th>\n",
       "    </tr>\n",
       "  </thead>\n",
       "  <tbody>\n",
       "    <tr>\n",
       "      <th>0</th>\n",
       "      <td>0</td>\n",
       "      <td>the</td>\n",
       "      <td>289135</td>\n",
       "    </tr>\n",
       "    <tr>\n",
       "      <th>1</th>\n",
       "      <td>1</td>\n",
       "      <td>,</td>\n",
       "      <td>262320</td>\n",
       "    </tr>\n",
       "    <tr>\n",
       "      <th>2</th>\n",
       "      <td>2</td>\n",
       "      <td>.</td>\n",
       "      <td>229635</td>\n",
       "    </tr>\n",
       "    <tr>\n",
       "      <th>3</th>\n",
       "      <td>3</td>\n",
       "      <td>of</td>\n",
       "      <td>202212</td>\n",
       "    </tr>\n",
       "    <tr>\n",
       "      <th>4</th>\n",
       "      <td>4</td>\n",
       "      <td>and</td>\n",
       "      <td>201991</td>\n",
       "    </tr>\n",
       "    <tr>\n",
       "      <th>...</th>\n",
       "      <td>...</td>\n",
       "      <td>...</td>\n",
       "      <td>...</td>\n",
       "    </tr>\n",
       "    <tr>\n",
       "      <th>72818</th>\n",
       "      <td>72818</td>\n",
       "      <td>iS1</td>\n",
       "      <td>1</td>\n",
       "    </tr>\n",
       "    <tr>\n",
       "      <th>72819</th>\n",
       "      <td>72819</td>\n",
       "      <td>iPMv</td>\n",
       "      <td>1</td>\n",
       "    </tr>\n",
       "    <tr>\n",
       "      <th>72820</th>\n",
       "      <td>72820</td>\n",
       "      <td>Jebsen</td>\n",
       "      <td>1</td>\n",
       "    </tr>\n",
       "    <tr>\n",
       "      <th>72821</th>\n",
       "      <td>72821</td>\n",
       "      <td>RAVR-specific</td>\n",
       "      <td>1</td>\n",
       "    </tr>\n",
       "    <tr>\n",
       "      <th>72822</th>\n",
       "      <td>72822</td>\n",
       "      <td>re-lateralized</td>\n",
       "      <td>1</td>\n",
       "    </tr>\n",
       "  </tbody>\n",
       "</table>\n",
       "<p>72823 rows × 3 columns</p>\n",
       "</div>"
      ],
      "text/plain": [
       "\n",
       "        rank           ngram   count\n",
       "\u001b[1;36m0\u001b[0m          \u001b[1;36m0\u001b[0m             the  \u001b[1;36m289135\u001b[0m\n",
       "\u001b[1;36m1\u001b[0m          \u001b[1;36m1\u001b[0m               ,  \u001b[1;36m262320\u001b[0m\n",
       "\u001b[1;36m2\u001b[0m          \u001b[1;36m2\u001b[0m               .  \u001b[1;36m229635\u001b[0m\n",
       "\u001b[1;36m3\u001b[0m          \u001b[1;36m3\u001b[0m              of  \u001b[1;36m202212\u001b[0m\n",
       "\u001b[1;36m4\u001b[0m          \u001b[1;36m4\u001b[0m             and  \u001b[1;36m201991\u001b[0m\n",
       "\u001b[33m...\u001b[0m      \u001b[33m...\u001b[0m             \u001b[33m...\u001b[0m     \u001b[33m...\u001b[0m\n",
       "\u001b[1;36m72818\u001b[0m  \u001b[1;36m72818\u001b[0m             iS1       \u001b[1;36m1\u001b[0m\n",
       "\u001b[1;36m72819\u001b[0m  \u001b[1;36m72819\u001b[0m            iPMv       \u001b[1;36m1\u001b[0m\n",
       "\u001b[1;36m72820\u001b[0m  \u001b[1;36m72820\u001b[0m          Jebsen       \u001b[1;36m1\u001b[0m\n",
       "\u001b[1;36m72821\u001b[0m  \u001b[1;36m72821\u001b[0m   RAVR-specific       \u001b[1;36m1\u001b[0m\n",
       "\u001b[1;36m72822\u001b[0m  \u001b[1;36m72822\u001b[0m  re-lateralized       \u001b[1;36m1\u001b[0m\n",
       "\n",
       "\u001b[1m[\u001b[0m\u001b[1;36m72823\u001b[0m rows x \u001b[1;36m3\u001b[0m columns\u001b[1m]\u001b[0m"
      ]
     },
     "execution_count": 25,
     "metadata": {},
     "output_type": "execute_result"
    }
   ],
   "source": [
    "abstracts_parsed = make_sizerank_df(s_cat)\n",
    "abstracts_parsed"
   ]
  },
  {
   "cell_type": "code",
   "execution_count": 26,
   "metadata": {},
   "outputs": [
    {
     "data": {
      "text/html": [
       "<pre style=\"white-space:pre;overflow-x:auto;line-height:normal;font-family:Menlo,'DejaVu Sans Mono',consolas,'Courier New',monospace\"></pre>\n"
      ],
      "text/plain": []
     },
     "metadata": {},
     "output_type": "display_data"
    },
    {
     "data": {
      "text/plain": [
       "\u001b[1;35mText\u001b[0m\u001b[1m(\u001b[0m\u001b[1;36m0.5\u001b[0m, \u001b[1;36m1.0\u001b[0m, \u001b[32m'Rank Count Distributions for All Abstracts'\u001b[0m\u001b[1m)\u001b[0m"
      ]
     },
     "execution_count": 26,
     "metadata": {},
     "output_type": "execute_result"
    },
    {
     "data": {
      "text/html": [
       "<pre style=\"white-space:pre;overflow-x:auto;line-height:normal;font-family:Menlo,'DejaVu Sans Mono',consolas,'Courier New',monospace\"></pre>\n"
      ],
      "text/plain": []
     },
     "metadata": {},
     "output_type": "display_data"
    },
    {
     "data": {
      "image/png": "[encoded data removed]",
      "text/plain": [
       "\u001b[1m<\u001b[0m\u001b[1;95mFigure\u001b[0m\u001b[39m size 64\u001b[0m\u001b[1;36m0x480\u001b[0m\u001b[39m with \u001b[0m\u001b[1;36m1\u001b[0m\u001b[39m Axes\u001b[0m\u001b[1m>\u001b[0m"
      ]
     },
     "metadata": {},
     "output_type": "display_data"
    }
   ],
   "source": [
    "\n",
    "plt.scatter(\n",
    "    abstracts_parsed['rank'], \n",
    "    abstracts_parsed['count'],\n",
    "    s=1\n",
    "    )\n",
    "    \n",
    "# plt.legend(sources)\n",
    "plt.xscale('log')\n",
    "plt.yscale('log')\n",
    "plt.title('Rank Count Distributions for All Abstracts')\n",
    "\n",
    "# plt.savefig(\n",
    "#     '../data/08_reporting/assign13_gutenberg_rankcount.png', \n",
    "#     dpi=300, \n",
    "#     bbox_inches='tight'\n",
    "#     )"
   ]
  },
  {
   "cell_type": "code",
   "execution_count": null,
   "metadata": {},
   "outputs": [],
   "source": []
  },
  {
   "cell_type": "code",
   "execution_count": null,
   "metadata": {},
   "outputs": [],
   "source": []
  }
 ],
 "metadata": {
  "kernelspec": {
   "display_name": "Kedro (work)",
   "language": "python",
   "name": "kedro_work"
  },
  "language_info": {
   "codemirror_mode": {
    "name": "ipython",
    "version": 3
   },
   "file_extension": ".py",
   "mimetype": "text/x-python",
   "name": "python",
   "nbconvert_exporter": "python",
   "pygments_lexer": "ipython3",
   "version": "3.8.18"
  }
 },
 "nbformat": 4,
 "nbformat_minor": 2
}
