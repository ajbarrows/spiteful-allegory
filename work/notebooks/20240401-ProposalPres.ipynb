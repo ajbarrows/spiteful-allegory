{
 "cells": [
  {
   "cell_type": "code",
   "execution_count": 1,
   "metadata": {},
   "outputs": [
    {
     "data": {
      "text/html": [
       "<pre style=\"white-space:pre;overflow-x:auto;line-height:normal;font-family:Menlo,'DejaVu Sans Mono',consolas,'Courier New',monospace\"><span style=\"color: #7fbfbf; text-decoration-color: #7fbfbf\">[05/03/24 15:34:18] </span><span style=\"color: #000080; text-decoration-color: #000080\">INFO    </span> Resolved project path as:                                              <a href=\"file:///Users/tony/anaconda3/envs/pocs/lib/python3.8/site-packages/kedro/ipython/__init__.py\" target=\"_blank\"><span style=\"color: #7f7f7f; text-decoration-color: #7f7f7f\">__init__.py</span></a><span style=\"color: #7f7f7f; text-decoration-color: #7f7f7f\">:</span><a href=\"file:///Users/tony/anaconda3/envs/pocs/lib/python3.8/site-packages/kedro/ipython/__init__.py#139\" target=\"_blank\"><span style=\"color: #7f7f7f; text-decoration-color: #7f7f7f\">139</span></a>\n",
       "<span style=\"color: #7fbfbf; text-decoration-color: #7fbfbf\">                    </span>         <span style=\"color: #800080; text-decoration-color: #800080\">/Users/tony/Documents/phd/courses/PoCS2/spiteful-allegory/</span><span style=\"color: #ff00ff; text-decoration-color: #ff00ff\">work.</span>        <span style=\"color: #7f7f7f; text-decoration-color: #7f7f7f\">               </span>\n",
       "<span style=\"color: #7fbfbf; text-decoration-color: #7fbfbf\">                    </span>         To set a different path, run <span style=\"color: #008000; text-decoration-color: #008000\">'%reload_kedro &lt;project_root&gt;'</span>            <span style=\"color: #7f7f7f; text-decoration-color: #7f7f7f\">               </span>\n",
       "</pre>\n"
      ],
      "text/plain": [
       "\u001b[2;36m[05/03/24 15:34:18]\u001b[0m\u001b[2;36m \u001b[0m\u001b[34mINFO    \u001b[0m Resolved project path as:                                              \u001b]8;id=155345;file:///Users/tony/anaconda3/envs/pocs/lib/python3.8/site-packages/kedro/ipython/__init__.py\u001b\\\u001b[2m__init__.py\u001b[0m\u001b]8;;\u001b\\\u001b[2m:\u001b[0m\u001b]8;id=899553;file:///Users/tony/anaconda3/envs/pocs/lib/python3.8/site-packages/kedro/ipython/__init__.py#139\u001b\\\u001b[2m139\u001b[0m\u001b]8;;\u001b\\\n",
       "\u001b[2;36m                    \u001b[0m         \u001b[35m/Users/tony/Documents/phd/courses/PoCS2/spiteful-allegory/\u001b[0m\u001b[95mwork.\u001b[0m        \u001b[2m               \u001b[0m\n",
       "\u001b[2;36m                    \u001b[0m         To set a different path, run \u001b[32m'%reload_kedro \u001b[0m\u001b[32m<\u001b[0m\u001b[32mproject_root\u001b[0m\u001b[32m>\u001b[0m\u001b[32m'\u001b[0m            \u001b[2m               \u001b[0m\n"
      ]
     },
     "metadata": {},
     "output_type": "display_data"
    },
    {
     "data": {
      "text/html": [
       "<pre style=\"white-space:pre;overflow-x:auto;line-height:normal;font-family:Menlo,'DejaVu Sans Mono',consolas,'Courier New',monospace\"><span style=\"color: #7fbfbf; text-decoration-color: #7fbfbf\">[05/03/24 15:34:18] </span><span style=\"color: #800000; text-decoration-color: #800000\">WARNING </span> <span style=\"color: #800080; text-decoration-color: #800080\">/Users/tony/anaconda3/envs/pocs/lib/python3.8/site-packages/kedro/fram</span> <a href=\"file:///Users/tony/anaconda3/envs/pocs/lib/python3.8/warnings.py\" target=\"_blank\"><span style=\"color: #7f7f7f; text-decoration-color: #7f7f7f\">warnings.py</span></a><span style=\"color: #7f7f7f; text-decoration-color: #7f7f7f\">:</span><a href=\"file:///Users/tony/anaconda3/envs/pocs/lib/python3.8/warnings.py#109\" target=\"_blank\"><span style=\"color: #7f7f7f; text-decoration-color: #7f7f7f\">109</span></a>\n",
       "<span style=\"color: #7fbfbf; text-decoration-color: #7fbfbf\">                    </span>         <span style=\"color: #800080; text-decoration-color: #800080\">ework/session/</span><span style=\"color: #ff00ff; text-decoration-color: #ff00ff\">session.py</span>:<span style=\"color: #008080; text-decoration-color: #008080; font-weight: bold\">267</span>: KedroDeprecationWarning: ConfigLoader    <span style=\"color: #7f7f7f; text-decoration-color: #7f7f7f\">               </span>\n",
       "<span style=\"color: #7fbfbf; text-decoration-color: #7fbfbf\">                    </span>         will be deprecated in Kedro <span style=\"color: #008080; text-decoration-color: #008080; font-weight: bold\">0.19</span>. Please use the OmegaConfigLoader     <span style=\"color: #7f7f7f; text-decoration-color: #7f7f7f\">               </span>\n",
       "<span style=\"color: #7fbfbf; text-decoration-color: #7fbfbf\">                    </span>         instead. To consult the documentation for OmegaConfigLoader, see here: <span style=\"color: #7f7f7f; text-decoration-color: #7f7f7f\">               </span>\n",
       "<span style=\"color: #7fbfbf; text-decoration-color: #7fbfbf\">                    </span>         <span style=\"color: #0000ff; text-decoration-color: #0000ff; text-decoration: underline\">https://docs.kedro.org/en/stable/configuration/advanced_configuration.</span> <span style=\"color: #7f7f7f; text-decoration-color: #7f7f7f\">               </span>\n",
       "<span style=\"color: #7fbfbf; text-decoration-color: #7fbfbf\">                    </span>         <span style=\"color: #0000ff; text-decoration-color: #0000ff; text-decoration: underline\">html#omegaconfigloader</span>                                                 <span style=\"color: #7f7f7f; text-decoration-color: #7f7f7f\">               </span>\n",
       "<span style=\"color: #7fbfbf; text-decoration-color: #7fbfbf\">                    </span>           <span style=\"color: #800080; text-decoration-color: #800080; font-weight: bold\">warnings.warn</span><span style=\"font-weight: bold\">(</span>                                                       <span style=\"color: #7f7f7f; text-decoration-color: #7f7f7f\">               </span>\n",
       "<span style=\"color: #7fbfbf; text-decoration-color: #7fbfbf\">                    </span>                                                                                <span style=\"color: #7f7f7f; text-decoration-color: #7f7f7f\">               </span>\n",
       "</pre>\n"
      ],
      "text/plain": [
       "\u001b[2;36m[05/03/24 15:34:18]\u001b[0m\u001b[2;36m \u001b[0m\u001b[31mWARNING \u001b[0m \u001b[35m/Users/tony/anaconda3/envs/pocs/lib/python3.8/site-packages/kedro/fram\u001b[0m \u001b]8;id=964840;file:///Users/tony/anaconda3/envs/pocs/lib/python3.8/warnings.py\u001b\\\u001b[2mwarnings.py\u001b[0m\u001b]8;;\u001b\\\u001b[2m:\u001b[0m\u001b]8;id=674033;file:///Users/tony/anaconda3/envs/pocs/lib/python3.8/warnings.py#109\u001b\\\u001b[2m109\u001b[0m\u001b]8;;\u001b\\\n",
       "\u001b[2;36m                    \u001b[0m         \u001b[35mework/session/\u001b[0m\u001b[95msession.py\u001b[0m:\u001b[1;36m267\u001b[0m: KedroDeprecationWarning: ConfigLoader    \u001b[2m               \u001b[0m\n",
       "\u001b[2;36m                    \u001b[0m         will be deprecated in Kedro \u001b[1;36m0.19\u001b[0m. Please use the OmegaConfigLoader     \u001b[2m               \u001b[0m\n",
       "\u001b[2;36m                    \u001b[0m         instead. To consult the documentation for OmegaConfigLoader, see here: \u001b[2m               \u001b[0m\n",
       "\u001b[2;36m                    \u001b[0m         \u001b[4;94mhttps://docs.kedro.org/en/stable/configuration/advanced_configuration.\u001b[0m \u001b[2m               \u001b[0m\n",
       "\u001b[2;36m                    \u001b[0m         \u001b[4;94mhtml#omegaconfigloader\u001b[0m                                                 \u001b[2m               \u001b[0m\n",
       "\u001b[2;36m                    \u001b[0m           \u001b[1;35mwarnings.warn\u001b[0m\u001b[1m(\u001b[0m                                                       \u001b[2m               \u001b[0m\n",
       "\u001b[2;36m                    \u001b[0m                                                                                \u001b[2m               \u001b[0m\n"
      ]
     },
     "metadata": {},
     "output_type": "display_data"
    },
    {
     "data": {
      "text/html": [
       "<pre style=\"white-space:pre;overflow-x:auto;line-height:normal;font-family:Menlo,'DejaVu Sans Mono',consolas,'Courier New',monospace\"><span style=\"color: #7fbfbf; text-decoration-color: #7fbfbf\">                    </span><span style=\"color: #800000; text-decoration-color: #800000\">WARNING </span> <span style=\"color: #800080; text-decoration-color: #800080\">/Users/tony/anaconda3/envs/pocs/lib/python3.8/site-packages/lazy_loade</span> <a href=\"file:///Users/tony/anaconda3/envs/pocs/lib/python3.8/warnings.py\" target=\"_blank\"><span style=\"color: #7f7f7f; text-decoration-color: #7f7f7f\">warnings.py</span></a><span style=\"color: #7f7f7f; text-decoration-color: #7f7f7f\">:</span><a href=\"file:///Users/tony/anaconda3/envs/pocs/lib/python3.8/warnings.py#109\" target=\"_blank\"><span style=\"color: #7f7f7f; text-decoration-color: #7f7f7f\">109</span></a>\n",
       "<span style=\"color: #7fbfbf; text-decoration-color: #7fbfbf\">                    </span>         <span style=\"color: #800080; text-decoration-color: #800080\">r/</span><span style=\"color: #ff00ff; text-decoration-color: #ff00ff\">__init__.py</span>:<span style=\"color: #008080; text-decoration-color: #008080; font-weight: bold\">78</span>: KedroDeprecationWarning: <span style=\"color: #008000; text-decoration-color: #008000\">'TextDataSet'</span> has been      <span style=\"color: #7f7f7f; text-decoration-color: #7f7f7f\">               </span>\n",
       "<span style=\"color: #7fbfbf; text-decoration-color: #7fbfbf\">                    </span>         renamed to <span style=\"color: #008000; text-decoration-color: #008000\">'TextDataset'</span>, and the alias will be removed in             <span style=\"color: #7f7f7f; text-decoration-color: #7f7f7f\">               </span>\n",
       "<span style=\"color: #7fbfbf; text-decoration-color: #7fbfbf\">                    </span>         Kedro-Datasets <span style=\"color: #008080; text-decoration-color: #008080; font-weight: bold\">2.0</span>.<span style=\"color: #008080; text-decoration-color: #008080; font-weight: bold\">0</span>                                                   <span style=\"color: #7f7f7f; text-decoration-color: #7f7f7f\">               </span>\n",
       "<span style=\"color: #7fbfbf; text-decoration-color: #7fbfbf\">                    </span>           attr = <span style=\"color: #800080; text-decoration-color: #800080; font-weight: bold\">getattr</span><span style=\"font-weight: bold\">(</span>submod, name<span style=\"font-weight: bold\">)</span>                                         <span style=\"color: #7f7f7f; text-decoration-color: #7f7f7f\">               </span>\n",
       "<span style=\"color: #7fbfbf; text-decoration-color: #7fbfbf\">                    </span>                                                                                <span style=\"color: #7f7f7f; text-decoration-color: #7f7f7f\">               </span>\n",
       "</pre>\n"
      ],
      "text/plain": [
       "\u001b[2;36m                   \u001b[0m\u001b[2;36m \u001b[0m\u001b[31mWARNING \u001b[0m \u001b[35m/Users/tony/anaconda3/envs/pocs/lib/python3.8/site-packages/lazy_loade\u001b[0m \u001b]8;id=284522;file:///Users/tony/anaconda3/envs/pocs/lib/python3.8/warnings.py\u001b\\\u001b[2mwarnings.py\u001b[0m\u001b]8;;\u001b\\\u001b[2m:\u001b[0m\u001b]8;id=493724;file:///Users/tony/anaconda3/envs/pocs/lib/python3.8/warnings.py#109\u001b\\\u001b[2m109\u001b[0m\u001b]8;;\u001b\\\n",
       "\u001b[2;36m                    \u001b[0m         \u001b[35mr/\u001b[0m\u001b[95m__init__.py\u001b[0m:\u001b[1;36m78\u001b[0m: KedroDeprecationWarning: \u001b[32m'TextDataSet'\u001b[0m has been      \u001b[2m               \u001b[0m\n",
       "\u001b[2;36m                    \u001b[0m         renamed to \u001b[32m'TextDataset'\u001b[0m, and the alias will be removed in             \u001b[2m               \u001b[0m\n",
       "\u001b[2;36m                    \u001b[0m         Kedro-Datasets \u001b[1;36m2.0\u001b[0m.\u001b[1;36m0\u001b[0m                                                   \u001b[2m               \u001b[0m\n",
       "\u001b[2;36m                    \u001b[0m           attr = \u001b[1;35mgetattr\u001b[0m\u001b[1m(\u001b[0msubmod, name\u001b[1m)\u001b[0m                                         \u001b[2m               \u001b[0m\n",
       "\u001b[2;36m                    \u001b[0m                                                                                \u001b[2m               \u001b[0m\n"
      ]
     },
     "metadata": {},
     "output_type": "display_data"
    },
    {
     "data": {
      "text/html": [
       "<pre style=\"white-space:pre;overflow-x:auto;line-height:normal;font-family:Menlo,'DejaVu Sans Mono',consolas,'Courier New',monospace\"><span style=\"color: #7fbfbf; text-decoration-color: #7fbfbf\">                    </span><span style=\"color: #800000; text-decoration-color: #800000\">WARNING </span> <span style=\"color: #800080; text-decoration-color: #800080\">/Users/tony/anaconda3/envs/pocs/lib/python3.8/site-packages/lazy_loade</span> <a href=\"file:///Users/tony/anaconda3/envs/pocs/lib/python3.8/warnings.py\" target=\"_blank\"><span style=\"color: #7f7f7f; text-decoration-color: #7f7f7f\">warnings.py</span></a><span style=\"color: #7f7f7f; text-decoration-color: #7f7f7f\">:</span><a href=\"file:///Users/tony/anaconda3/envs/pocs/lib/python3.8/warnings.py#109\" target=\"_blank\"><span style=\"color: #7f7f7f; text-decoration-color: #7f7f7f\">109</span></a>\n",
       "<span style=\"color: #7fbfbf; text-decoration-color: #7fbfbf\">                    </span>         <span style=\"color: #800080; text-decoration-color: #800080\">r/</span><span style=\"color: #ff00ff; text-decoration-color: #ff00ff\">__init__.py</span>:<span style=\"color: #008080; text-decoration-color: #008080; font-weight: bold\">78</span>: KedroDeprecationWarning: <span style=\"color: #008000; text-decoration-color: #008000\">'CSVDataSet'</span> has been       <span style=\"color: #7f7f7f; text-decoration-color: #7f7f7f\">               </span>\n",
       "<span style=\"color: #7fbfbf; text-decoration-color: #7fbfbf\">                    </span>         renamed to <span style=\"color: #008000; text-decoration-color: #008000\">'CSVDataset'</span>, and the alias will be removed in              <span style=\"color: #7f7f7f; text-decoration-color: #7f7f7f\">               </span>\n",
       "<span style=\"color: #7fbfbf; text-decoration-color: #7fbfbf\">                    </span>         Kedro-Datasets <span style=\"color: #008080; text-decoration-color: #008080; font-weight: bold\">2.0</span>.<span style=\"color: #008080; text-decoration-color: #008080; font-weight: bold\">0</span>                                                   <span style=\"color: #7f7f7f; text-decoration-color: #7f7f7f\">               </span>\n",
       "<span style=\"color: #7fbfbf; text-decoration-color: #7fbfbf\">                    </span>           attr = <span style=\"color: #800080; text-decoration-color: #800080; font-weight: bold\">getattr</span><span style=\"font-weight: bold\">(</span>submod, name<span style=\"font-weight: bold\">)</span>                                         <span style=\"color: #7f7f7f; text-decoration-color: #7f7f7f\">               </span>\n",
       "<span style=\"color: #7fbfbf; text-decoration-color: #7fbfbf\">                    </span>                                                                                <span style=\"color: #7f7f7f; text-decoration-color: #7f7f7f\">               </span>\n",
       "</pre>\n"
      ],
      "text/plain": [
       "\u001b[2;36m                   \u001b[0m\u001b[2;36m \u001b[0m\u001b[31mWARNING \u001b[0m \u001b[35m/Users/tony/anaconda3/envs/pocs/lib/python3.8/site-packages/lazy_loade\u001b[0m \u001b]8;id=211791;file:///Users/tony/anaconda3/envs/pocs/lib/python3.8/warnings.py\u001b\\\u001b[2mwarnings.py\u001b[0m\u001b]8;;\u001b\\\u001b[2m:\u001b[0m\u001b]8;id=435314;file:///Users/tony/anaconda3/envs/pocs/lib/python3.8/warnings.py#109\u001b\\\u001b[2m109\u001b[0m\u001b]8;;\u001b\\\n",
       "\u001b[2;36m                    \u001b[0m         \u001b[35mr/\u001b[0m\u001b[95m__init__.py\u001b[0m:\u001b[1;36m78\u001b[0m: KedroDeprecationWarning: \u001b[32m'CSVDataSet'\u001b[0m has been       \u001b[2m               \u001b[0m\n",
       "\u001b[2;36m                    \u001b[0m         renamed to \u001b[32m'CSVDataset'\u001b[0m, and the alias will be removed in              \u001b[2m               \u001b[0m\n",
       "\u001b[2;36m                    \u001b[0m         Kedro-Datasets \u001b[1;36m2.0\u001b[0m.\u001b[1;36m0\u001b[0m                                                   \u001b[2m               \u001b[0m\n",
       "\u001b[2;36m                    \u001b[0m           attr = \u001b[1;35mgetattr\u001b[0m\u001b[1m(\u001b[0msubmod, name\u001b[1m)\u001b[0m                                         \u001b[2m               \u001b[0m\n",
       "\u001b[2;36m                    \u001b[0m                                                                                \u001b[2m               \u001b[0m\n"
      ]
     },
     "metadata": {},
     "output_type": "display_data"
    },
    {
     "data": {
      "text/html": [
       "<pre style=\"white-space:pre;overflow-x:auto;line-height:normal;font-family:Menlo,'DejaVu Sans Mono',consolas,'Courier New',monospace\"><span style=\"color: #7fbfbf; text-decoration-color: #7fbfbf\">                    </span><span style=\"color: #800000; text-decoration-color: #800000\">WARNING </span> <span style=\"color: #800080; text-decoration-color: #800080\">/Users/tony/anaconda3/envs/pocs/lib/python3.8/site-packages/lazy_loade</span> <a href=\"file:///Users/tony/anaconda3/envs/pocs/lib/python3.8/warnings.py\" target=\"_blank\"><span style=\"color: #7f7f7f; text-decoration-color: #7f7f7f\">warnings.py</span></a><span style=\"color: #7f7f7f; text-decoration-color: #7f7f7f\">:</span><a href=\"file:///Users/tony/anaconda3/envs/pocs/lib/python3.8/warnings.py#109\" target=\"_blank\"><span style=\"color: #7f7f7f; text-decoration-color: #7f7f7f\">109</span></a>\n",
       "<span style=\"color: #7fbfbf; text-decoration-color: #7fbfbf\">                    </span>         <span style=\"color: #800080; text-decoration-color: #800080\">r/</span><span style=\"color: #ff00ff; text-decoration-color: #ff00ff\">__init__.py</span>:<span style=\"color: #008080; text-decoration-color: #008080; font-weight: bold\">78</span>: KedroDeprecationWarning: <span style=\"color: #008000; text-decoration-color: #008000\">'PickleDataSet'</span> has been    <span style=\"color: #7f7f7f; text-decoration-color: #7f7f7f\">               </span>\n",
       "<span style=\"color: #7fbfbf; text-decoration-color: #7fbfbf\">                    </span>         renamed to <span style=\"color: #008000; text-decoration-color: #008000\">'PickleDataset'</span>, and the alias will be removed in           <span style=\"color: #7f7f7f; text-decoration-color: #7f7f7f\">               </span>\n",
       "<span style=\"color: #7fbfbf; text-decoration-color: #7fbfbf\">                    </span>         Kedro-Datasets <span style=\"color: #008080; text-decoration-color: #008080; font-weight: bold\">2.0</span>.<span style=\"color: #008080; text-decoration-color: #008080; font-weight: bold\">0</span>                                                   <span style=\"color: #7f7f7f; text-decoration-color: #7f7f7f\">               </span>\n",
       "<span style=\"color: #7fbfbf; text-decoration-color: #7fbfbf\">                    </span>           attr = <span style=\"color: #800080; text-decoration-color: #800080; font-weight: bold\">getattr</span><span style=\"font-weight: bold\">(</span>submod, name<span style=\"font-weight: bold\">)</span>                                         <span style=\"color: #7f7f7f; text-decoration-color: #7f7f7f\">               </span>\n",
       "<span style=\"color: #7fbfbf; text-decoration-color: #7fbfbf\">                    </span>                                                                                <span style=\"color: #7f7f7f; text-decoration-color: #7f7f7f\">               </span>\n",
       "</pre>\n"
      ],
      "text/plain": [
       "\u001b[2;36m                   \u001b[0m\u001b[2;36m \u001b[0m\u001b[31mWARNING \u001b[0m \u001b[35m/Users/tony/anaconda3/envs/pocs/lib/python3.8/site-packages/lazy_loade\u001b[0m \u001b]8;id=357611;file:///Users/tony/anaconda3/envs/pocs/lib/python3.8/warnings.py\u001b\\\u001b[2mwarnings.py\u001b[0m\u001b]8;;\u001b\\\u001b[2m:\u001b[0m\u001b]8;id=66327;file:///Users/tony/anaconda3/envs/pocs/lib/python3.8/warnings.py#109\u001b\\\u001b[2m109\u001b[0m\u001b]8;;\u001b\\\n",
       "\u001b[2;36m                    \u001b[0m         \u001b[35mr/\u001b[0m\u001b[95m__init__.py\u001b[0m:\u001b[1;36m78\u001b[0m: KedroDeprecationWarning: \u001b[32m'PickleDataSet'\u001b[0m has been    \u001b[2m               \u001b[0m\n",
       "\u001b[2;36m                    \u001b[0m         renamed to \u001b[32m'PickleDataset'\u001b[0m, and the alias will be removed in           \u001b[2m               \u001b[0m\n",
       "\u001b[2;36m                    \u001b[0m         Kedro-Datasets \u001b[1;36m2.0\u001b[0m.\u001b[1;36m0\u001b[0m                                                   \u001b[2m               \u001b[0m\n",
       "\u001b[2;36m                    \u001b[0m           attr = \u001b[1;35mgetattr\u001b[0m\u001b[1m(\u001b[0msubmod, name\u001b[1m)\u001b[0m                                         \u001b[2m               \u001b[0m\n",
       "\u001b[2;36m                    \u001b[0m                                                                                \u001b[2m               \u001b[0m\n"
      ]
     },
     "metadata": {},
     "output_type": "display_data"
    },
    {
     "data": {
      "text/html": [
       "<pre style=\"white-space:pre;overflow-x:auto;line-height:normal;font-family:Menlo,'DejaVu Sans Mono',consolas,'Courier New',monospace\"><span style=\"color: #7fbfbf; text-decoration-color: #7fbfbf\">                    </span><span style=\"color: #800000; text-decoration-color: #800000\">WARNING </span> <span style=\"color: #800080; text-decoration-color: #800080\">/Users/tony/anaconda3/envs/pocs/lib/python3.8/site-packages/lazy_loade</span> <a href=\"file:///Users/tony/anaconda3/envs/pocs/lib/python3.8/warnings.py\" target=\"_blank\"><span style=\"color: #7f7f7f; text-decoration-color: #7f7f7f\">warnings.py</span></a><span style=\"color: #7f7f7f; text-decoration-color: #7f7f7f\">:</span><a href=\"file:///Users/tony/anaconda3/envs/pocs/lib/python3.8/warnings.py#109\" target=\"_blank\"><span style=\"color: #7f7f7f; text-decoration-color: #7f7f7f\">109</span></a>\n",
       "<span style=\"color: #7fbfbf; text-decoration-color: #7fbfbf\">                    </span>         <span style=\"color: #800080; text-decoration-color: #800080\">r/</span><span style=\"color: #ff00ff; text-decoration-color: #ff00ff\">__init__.py</span>:<span style=\"color: #008080; text-decoration-color: #008080; font-weight: bold\">78</span>: KedroDeprecationWarning: <span style=\"color: #008000; text-decoration-color: #008000\">'ParquetDataSet'</span> has been   <span style=\"color: #7f7f7f; text-decoration-color: #7f7f7f\">               </span>\n",
       "<span style=\"color: #7fbfbf; text-decoration-color: #7fbfbf\">                    </span>         renamed to <span style=\"color: #008000; text-decoration-color: #008000\">'ParquetDataset'</span>, and the alias will be removed in          <span style=\"color: #7f7f7f; text-decoration-color: #7f7f7f\">               </span>\n",
       "<span style=\"color: #7fbfbf; text-decoration-color: #7fbfbf\">                    </span>         Kedro-Datasets <span style=\"color: #008080; text-decoration-color: #008080; font-weight: bold\">2.0</span>.<span style=\"color: #008080; text-decoration-color: #008080; font-weight: bold\">0</span>                                                   <span style=\"color: #7f7f7f; text-decoration-color: #7f7f7f\">               </span>\n",
       "<span style=\"color: #7fbfbf; text-decoration-color: #7fbfbf\">                    </span>           attr = <span style=\"color: #800080; text-decoration-color: #800080; font-weight: bold\">getattr</span><span style=\"font-weight: bold\">(</span>submod, name<span style=\"font-weight: bold\">)</span>                                         <span style=\"color: #7f7f7f; text-decoration-color: #7f7f7f\">               </span>\n",
       "<span style=\"color: #7fbfbf; text-decoration-color: #7fbfbf\">                    </span>                                                                                <span style=\"color: #7f7f7f; text-decoration-color: #7f7f7f\">               </span>\n",
       "</pre>\n"
      ],
      "text/plain": [
       "\u001b[2;36m                   \u001b[0m\u001b[2;36m \u001b[0m\u001b[31mWARNING \u001b[0m \u001b[35m/Users/tony/anaconda3/envs/pocs/lib/python3.8/site-packages/lazy_loade\u001b[0m \u001b]8;id=140802;file:///Users/tony/anaconda3/envs/pocs/lib/python3.8/warnings.py\u001b\\\u001b[2mwarnings.py\u001b[0m\u001b]8;;\u001b\\\u001b[2m:\u001b[0m\u001b]8;id=323981;file:///Users/tony/anaconda3/envs/pocs/lib/python3.8/warnings.py#109\u001b\\\u001b[2m109\u001b[0m\u001b]8;;\u001b\\\n",
       "\u001b[2;36m                    \u001b[0m         \u001b[35mr/\u001b[0m\u001b[95m__init__.py\u001b[0m:\u001b[1;36m78\u001b[0m: KedroDeprecationWarning: \u001b[32m'ParquetDataSet'\u001b[0m has been   \u001b[2m               \u001b[0m\n",
       "\u001b[2;36m                    \u001b[0m         renamed to \u001b[32m'ParquetDataset'\u001b[0m, and the alias will be removed in          \u001b[2m               \u001b[0m\n",
       "\u001b[2;36m                    \u001b[0m         Kedro-Datasets \u001b[1;36m2.0\u001b[0m.\u001b[1;36m0\u001b[0m                                                   \u001b[2m               \u001b[0m\n",
       "\u001b[2;36m                    \u001b[0m           attr = \u001b[1;35mgetattr\u001b[0m\u001b[1m(\u001b[0msubmod, name\u001b[1m)\u001b[0m                                         \u001b[2m               \u001b[0m\n",
       "\u001b[2;36m                    \u001b[0m                                                                                \u001b[2m               \u001b[0m\n"
      ]
     },
     "metadata": {},
     "output_type": "display_data"
    },
    {
     "data": {
      "text/html": [
       "<pre style=\"white-space:pre;overflow-x:auto;line-height:normal;font-family:Menlo,'DejaVu Sans Mono',consolas,'Courier New',monospace\"><span style=\"color: #7fbfbf; text-decoration-color: #7fbfbf\">[05/03/24 15:34:20] </span><span style=\"color: #000080; text-decoration-color: #000080\">INFO    </span> Kedro project work                                                     <a href=\"file:///Users/tony/anaconda3/envs/pocs/lib/python3.8/site-packages/kedro/ipython/__init__.py\" target=\"_blank\"><span style=\"color: #7f7f7f; text-decoration-color: #7f7f7f\">__init__.py</span></a><span style=\"color: #7f7f7f; text-decoration-color: #7f7f7f\">:</span><a href=\"file:///Users/tony/anaconda3/envs/pocs/lib/python3.8/site-packages/kedro/ipython/__init__.py#108\" target=\"_blank\"><span style=\"color: #7f7f7f; text-decoration-color: #7f7f7f\">108</span></a>\n",
       "</pre>\n"
      ],
      "text/plain": [
       "\u001b[2;36m[05/03/24 15:34:20]\u001b[0m\u001b[2;36m \u001b[0m\u001b[34mINFO    \u001b[0m Kedro project work                                                     \u001b]8;id=285003;file:///Users/tony/anaconda3/envs/pocs/lib/python3.8/site-packages/kedro/ipython/__init__.py\u001b\\\u001b[2m__init__.py\u001b[0m\u001b]8;;\u001b\\\u001b[2m:\u001b[0m\u001b]8;id=619369;file:///Users/tony/anaconda3/envs/pocs/lib/python3.8/site-packages/kedro/ipython/__init__.py#108\u001b\\\u001b[2m108\u001b[0m\u001b]8;;\u001b\\\n"
      ]
     },
     "metadata": {},
     "output_type": "display_data"
    },
    {
     "data": {
      "text/html": [
       "<pre style=\"white-space:pre;overflow-x:auto;line-height:normal;font-family:Menlo,'DejaVu Sans Mono',consolas,'Courier New',monospace\"><span style=\"color: #7fbfbf; text-decoration-color: #7fbfbf\">                    </span><span style=\"color: #000080; text-decoration-color: #000080\">INFO    </span> Defined global variable <span style=\"color: #008000; text-decoration-color: #008000\">'context'</span>, <span style=\"color: #008000; text-decoration-color: #008000\">'session'</span>, <span style=\"color: #008000; text-decoration-color: #008000\">'catalog'</span> and            <a href=\"file:///Users/tony/anaconda3/envs/pocs/lib/python3.8/site-packages/kedro/ipython/__init__.py\" target=\"_blank\"><span style=\"color: #7f7f7f; text-decoration-color: #7f7f7f\">__init__.py</span></a><span style=\"color: #7f7f7f; text-decoration-color: #7f7f7f\">:</span><a href=\"file:///Users/tony/anaconda3/envs/pocs/lib/python3.8/site-packages/kedro/ipython/__init__.py#109\" target=\"_blank\"><span style=\"color: #7f7f7f; text-decoration-color: #7f7f7f\">109</span></a>\n",
       "<span style=\"color: #7fbfbf; text-decoration-color: #7fbfbf\">                    </span>         <span style=\"color: #008000; text-decoration-color: #008000\">'pipelines'</span>                                                            <span style=\"color: #7f7f7f; text-decoration-color: #7f7f7f\">               </span>\n",
       "</pre>\n"
      ],
      "text/plain": [
       "\u001b[2;36m                   \u001b[0m\u001b[2;36m \u001b[0m\u001b[34mINFO    \u001b[0m Defined global variable \u001b[32m'context'\u001b[0m, \u001b[32m'session'\u001b[0m, \u001b[32m'catalog'\u001b[0m and            \u001b]8;id=141239;file:///Users/tony/anaconda3/envs/pocs/lib/python3.8/site-packages/kedro/ipython/__init__.py\u001b\\\u001b[2m__init__.py\u001b[0m\u001b]8;;\u001b\\\u001b[2m:\u001b[0m\u001b]8;id=364891;file:///Users/tony/anaconda3/envs/pocs/lib/python3.8/site-packages/kedro/ipython/__init__.py#109\u001b\\\u001b[2m109\u001b[0m\u001b]8;;\u001b\\\n",
       "\u001b[2;36m                    \u001b[0m         \u001b[32m'pipelines'\u001b[0m                                                            \u001b[2m               \u001b[0m\n"
      ]
     },
     "metadata": {},
     "output_type": "display_data"
    }
   ],
   "source": [
    "%reload_kedro"
   ]
  },
  {
   "cell_type": "code",
   "execution_count": 2,
   "metadata": {},
   "outputs": [],
   "source": [
    "import pandas as pd\n",
    "import numpy as np\n",
    "import matplotlib.pyplot as plt\n",
    "import seaborn as sns\n",
    "import re\n",
    "\n",
    "import requests\n",
    "import xmltodict"
   ]
  },
  {
   "cell_type": "code",
   "execution_count": 3,
   "metadata": {},
   "outputs": [
    {
     "data": {
      "text/html": [
       "<pre style=\"white-space:pre;overflow-x:auto;line-height:normal;font-family:Menlo,'DejaVu Sans Mono',consolas,'Courier New',monospace\"><span style=\"color: #7fbfbf; text-decoration-color: #7fbfbf\">                    </span><span style=\"color: #000080; text-decoration-color: #000080\">INFO    </span> Loading data from <span style=\"color: #008000; text-decoration-color: #008000\">'neurosynth_text'</span> <span style=\"font-weight: bold\">(</span>CSVDataset<span style=\"font-weight: bold\">)</span><span style=\"color: #808000; text-decoration-color: #808000\">...</span>                <a href=\"file:///Users/tony/anaconda3/envs/pocs/lib/python3.8/site-packages/kedro/io/data_catalog.py\" target=\"_blank\"><span style=\"color: #7f7f7f; text-decoration-color: #7f7f7f\">data_catalog.py</span></a><span style=\"color: #7f7f7f; text-decoration-color: #7f7f7f\">:</span><a href=\"file:///Users/tony/anaconda3/envs/pocs/lib/python3.8/site-packages/kedro/io/data_catalog.py#502\" target=\"_blank\"><span style=\"color: #7f7f7f; text-decoration-color: #7f7f7f\">502</span></a>\n",
       "</pre>\n"
      ],
      "text/plain": [
       "\u001b[2;36m                   \u001b[0m\u001b[2;36m \u001b[0m\u001b[34mINFO    \u001b[0m Loading data from \u001b[32m'neurosynth_text'\u001b[0m \u001b[1m(\u001b[0mCSVDataset\u001b[1m)\u001b[0m\u001b[33m...\u001b[0m                \u001b]8;id=287964;file:///Users/tony/anaconda3/envs/pocs/lib/python3.8/site-packages/kedro/io/data_catalog.py\u001b\\\u001b[2mdata_catalog.py\u001b[0m\u001b]8;;\u001b\\\u001b[2m:\u001b[0m\u001b]8;id=691463;file:///Users/tony/anaconda3/envs/pocs/lib/python3.8/site-packages/kedro/io/data_catalog.py#502\u001b\\\u001b[2m502\u001b[0m\u001b]8;;\u001b\\\n"
      ]
     },
     "metadata": {},
     "output_type": "display_data"
    },
    {
     "data": {
      "text/html": [
       "<pre style=\"white-space:pre;overflow-x:auto;line-height:normal;font-family:Menlo,'DejaVu Sans Mono',consolas,'Courier New',monospace\"><span style=\"color: #7fbfbf; text-decoration-color: #7fbfbf\">[05/03/24 15:34:21] </span><span style=\"color: #000080; text-decoration-color: #000080\">INFO    </span> Loading data from <span style=\"color: #008000; text-decoration-color: #008000\">'neuroquery_text'</span> <span style=\"font-weight: bold\">(</span>CSVDataset<span style=\"font-weight: bold\">)</span><span style=\"color: #808000; text-decoration-color: #808000\">...</span>                <a href=\"file:///Users/tony/anaconda3/envs/pocs/lib/python3.8/site-packages/kedro/io/data_catalog.py\" target=\"_blank\"><span style=\"color: #7f7f7f; text-decoration-color: #7f7f7f\">data_catalog.py</span></a><span style=\"color: #7f7f7f; text-decoration-color: #7f7f7f\">:</span><a href=\"file:///Users/tony/anaconda3/envs/pocs/lib/python3.8/site-packages/kedro/io/data_catalog.py#502\" target=\"_blank\"><span style=\"color: #7f7f7f; text-decoration-color: #7f7f7f\">502</span></a>\n",
       "</pre>\n"
      ],
      "text/plain": [
       "\u001b[2;36m[05/03/24 15:34:21]\u001b[0m\u001b[2;36m \u001b[0m\u001b[34mINFO    \u001b[0m Loading data from \u001b[32m'neuroquery_text'\u001b[0m \u001b[1m(\u001b[0mCSVDataset\u001b[1m)\u001b[0m\u001b[33m...\u001b[0m                \u001b]8;id=635878;file:///Users/tony/anaconda3/envs/pocs/lib/python3.8/site-packages/kedro/io/data_catalog.py\u001b\\\u001b[2mdata_catalog.py\u001b[0m\u001b]8;;\u001b\\\u001b[2m:\u001b[0m\u001b]8;id=621728;file:///Users/tony/anaconda3/envs/pocs/lib/python3.8/site-packages/kedro/io/data_catalog.py#502\u001b\\\u001b[2m502\u001b[0m\u001b]8;;\u001b\\\n"
      ]
     },
     "metadata": {},
     "output_type": "display_data"
    }
   ],
   "source": [
    "ns = catalog.load('neurosynth_text')\n",
    "nq = catalog.load('neuroquery_text')\n",
    "\n",
    "def drop_duplicated_neuroquery(ns, nq):\n",
    "    '''\n",
    "    Find any articles that are in both databases.\n",
    "    Drop them from neuroquery (less complete metadata)\n",
    "    '''\n",
    "    \n",
    "    nq = nq[~nq['study_id'].isin(ns['study_id'])]\n",
    "    return ns, nq"
   ]
  },
  {
   "cell_type": "code",
   "execution_count": 4,
   "metadata": {},
   "outputs": [],
   "source": [
    "# get metadata for unique neuroquery studies\n",
    "\n",
    "def get_pubmed_citations(nq):\n",
    "    '''Query NIH API. Likely request-limited. Use caution.'''\n",
    "    \n",
    "    service_root= 'https://www.ncbi.nlm.nih.gov/pmc/utils/oa/oa.fcgi'\n",
    "    texts = nq['study_id']\n",
    "\n",
    "    citations = []\n",
    "\n",
    "    for text in texts:\n",
    "\n",
    "        # compose query\n",
    "        text = 'PMC' + text\n",
    "        req = f'{service_root}?id={text}'\n",
    "\n",
    "        # parse and hault out citation\n",
    "        resp = requests.get(req)\n",
    "        pub_meta = xmltodict.parse(resp.content)\n",
    "\n",
    "        try:\n",
    "            citation = pub_meta['OA']['records']['record']['@citation']\n",
    "        except KeyError:\n",
    "            citation = np.NaN\n",
    "\n",
    "        citations.append(citation)\n",
    "\n",
    "    nq_with_citations = pd.concat([\n",
    "        nq, \n",
    "        pd.Series(citations, name='citation')], \n",
    "        axis=1)\n",
    "\n",
    "    return nq_with_citations\n",
    "\n",
    "def extract_dates_from_citations(df):\n",
    "\n",
    "    pattern='[.|,|;]'\n",
    "\n",
    "    expanded = df['citation'].str.split(pattern, regex=True, expand=True)\n",
    "    expanded = expanded.astype('str')\n",
    "\n",
    "    for c in expanded.columns:\n",
    "            \n",
    "        expanded[c] = pd.to_datetime(\n",
    "            expanded[c].str.strip(), \n",
    "            format=\"%Y %b %d\",\n",
    "            errors='coerce')\n",
    "        \n",
    "    contracted = expanded.astype('str').sum(axis=1)\n",
    "    contracted = pd.to_datetime(contracted.str.replace('NaT', ''))\n",
    "\n",
    "    df['year'] = pd.DatetimeIndex(contracted).year\n",
    "\n",
    "    return df\n",
    "\n",
    "\n",
    "\n",
    "# nq_citations = get_pubmed_citations(nq)\n",
    "# nq_cite = extract_dates_from_citations(nq)\n",
    "nq_cite = pd.read_csv('../data/02_intermediate/nq_citations.csv')\n",
    "\n",
    "nq_cite = drop_duplicated_neuroquery(ns, nq_cite)"
   ]
  },
  {
   "cell_type": "code",
   "execution_count": 5,
   "metadata": {},
   "outputs": [],
   "source": [
    "# ns"
   ]
  },
  {
   "cell_type": "code",
   "execution_count": 6,
   "metadata": {},
   "outputs": [
    {
     "data": {
      "text/html": [
       "<pre style=\"white-space:pre;overflow-x:auto;line-height:normal;font-family:Menlo,'DejaVu Sans Mono',consolas,'Courier New',monospace\"><span style=\"color: #7fbfbf; text-decoration-color: #7fbfbf\">                    </span><span style=\"color: #000080; text-decoration-color: #000080\">INFO    </span> Loading data from <span style=\"color: #008000; text-decoration-color: #008000\">'labMT'</span> <span style=\"font-weight: bold\">(</span>CSVDataset<span style=\"font-weight: bold\">)</span><span style=\"color: #808000; text-decoration-color: #808000\">...</span>                          <a href=\"file:///Users/tony/anaconda3/envs/pocs/lib/python3.8/site-packages/kedro/io/data_catalog.py\" target=\"_blank\"><span style=\"color: #7f7f7f; text-decoration-color: #7f7f7f\">data_catalog.py</span></a><span style=\"color: #7f7f7f; text-decoration-color: #7f7f7f\">:</span><a href=\"file:///Users/tony/anaconda3/envs/pocs/lib/python3.8/site-packages/kedro/io/data_catalog.py#502\" target=\"_blank\"><span style=\"color: #7f7f7f; text-decoration-color: #7f7f7f\">502</span></a>\n",
       "</pre>\n"
      ],
      "text/plain": [
       "\u001b[2;36m                   \u001b[0m\u001b[2;36m \u001b[0m\u001b[34mINFO    \u001b[0m Loading data from \u001b[32m'labMT'\u001b[0m \u001b[1m(\u001b[0mCSVDataset\u001b[1m)\u001b[0m\u001b[33m...\u001b[0m                          \u001b]8;id=111544;file:///Users/tony/anaconda3/envs/pocs/lib/python3.8/site-packages/kedro/io/data_catalog.py\u001b\\\u001b[2mdata_catalog.py\u001b[0m\u001b]8;;\u001b\\\u001b[2m:\u001b[0m\u001b]8;id=978469;file:///Users/tony/anaconda3/envs/pocs/lib/python3.8/site-packages/kedro/io/data_catalog.py#502\u001b\\\u001b[2m502\u001b[0m\u001b]8;;\u001b\\\n"
      ]
     },
     "metadata": {},
     "output_type": "display_data"
    },
    {
     "data": {
      "text/html": [
       "<pre style=\"white-space:pre;overflow-x:auto;line-height:normal;font-family:Menlo,'DejaVu Sans Mono',consolas,'Courier New',monospace\"></pre>\n"
      ],
      "text/plain": []
     },
     "metadata": {},
     "output_type": "display_data"
    },
    {
     "data": {
      "text/html": [
       "<div>\n",
       "<style scoped>\n",
       "    .dataframe tbody tr th:only-of-type {\n",
       "        vertical-align: middle;\n",
       "    }\n",
       "\n",
       "    .dataframe tbody tr th {\n",
       "        vertical-align: top;\n",
       "    }\n",
       "\n",
       "    .dataframe thead th {\n",
       "        text-align: right;\n",
       "    }\n",
       "</style>\n",
       "<table border=\"1\" class=\"dataframe\">\n",
       "  <thead>\n",
       "    <tr style=\"text-align: right;\">\n",
       "      <th></th>\n",
       "      <th>rank</th>\n",
       "      <th>ngram</th>\n",
       "      <th>english</th>\n",
       "      <th>happiness</th>\n",
       "      <th>std</th>\n",
       "    </tr>\n",
       "  </thead>\n",
       "  <tbody>\n",
       "    <tr>\n",
       "      <th>0</th>\n",
       "      <td>0</td>\n",
       "      <td>laughter</td>\n",
       "      <td>laughter</td>\n",
       "      <td>8.50</td>\n",
       "      <td>0.93</td>\n",
       "    </tr>\n",
       "    <tr>\n",
       "      <th>1</th>\n",
       "      <td>1</td>\n",
       "      <td>happiness</td>\n",
       "      <td>happiness</td>\n",
       "      <td>8.44</td>\n",
       "      <td>0.97</td>\n",
       "    </tr>\n",
       "    <tr>\n",
       "      <th>2</th>\n",
       "      <td>2</td>\n",
       "      <td>love</td>\n",
       "      <td>love</td>\n",
       "      <td>8.42</td>\n",
       "      <td>1.11</td>\n",
       "    </tr>\n",
       "    <tr>\n",
       "      <th>3</th>\n",
       "      <td>3</td>\n",
       "      <td>happy</td>\n",
       "      <td>happy</td>\n",
       "      <td>8.30</td>\n",
       "      <td>0.99</td>\n",
       "    </tr>\n",
       "    <tr>\n",
       "      <th>4</th>\n",
       "      <td>4</td>\n",
       "      <td>laughed</td>\n",
       "      <td>laughed</td>\n",
       "      <td>8.26</td>\n",
       "      <td>1.16</td>\n",
       "    </tr>\n",
       "  </tbody>\n",
       "</table>\n",
       "</div>"
      ],
      "text/plain": [
       "\n",
       "   rank      ngram    english  happiness   std\n",
       "\u001b[1;36m0\u001b[0m     \u001b[1;36m0\u001b[0m   laughter   laughter       \u001b[1;36m8.50\u001b[0m  \u001b[1;36m0.93\u001b[0m\n",
       "\u001b[1;36m1\u001b[0m     \u001b[1;36m1\u001b[0m  happiness  happiness       \u001b[1;36m8.44\u001b[0m  \u001b[1;36m0.97\u001b[0m\n",
       "\u001b[1;36m2\u001b[0m     \u001b[1;36m2\u001b[0m       love       love       \u001b[1;36m8.42\u001b[0m  \u001b[1;36m1.11\u001b[0m\n",
       "\u001b[1;36m3\u001b[0m     \u001b[1;36m3\u001b[0m      happy      happy       \u001b[1;36m8.30\u001b[0m  \u001b[1;36m0.99\u001b[0m\n",
       "\u001b[1;36m4\u001b[0m     \u001b[1;36m4\u001b[0m    laughed    laughed       \u001b[1;36m8.26\u001b[0m  \u001b[1;36m1.16\u001b[0m"
      ]
     },
     "execution_count": 6,
     "metadata": {},
     "output_type": "execute_result"
    }
   ],
   "source": [
    "# happiness?\n",
    "\n",
    "from work.pipelines.word_helpers.nodes import parse_text, generic_sizerank_df\n",
    "\n",
    "labMT = catalog.load('labMT')\n",
    "labMT = labMT.rename(columns={'word': 'ngram'})\n",
    "labMT.head()"
   ]
  },
  {
   "cell_type": "code",
   "execution_count": 7,
   "metadata": {},
   "outputs": [],
   "source": [
    "def join_happiness(df, labMT):\n",
    "    out = (df\n",
    "     .set_index('ngram')\n",
    "     .join(labMT.drop(columns='rank').set_index('ngram')))\n",
    "    \n",
    "    out = out[(out['happiness'] < 4) | (out['happiness'] > 6)]\n",
    "\n",
    "    return out"
   ]
  },
  {
   "cell_type": "code",
   "execution_count": 8,
   "metadata": {},
   "outputs": [],
   "source": [
    "abstracts_by_year = {}\n",
    "\n",
    "grouped = ns.groupby('year')\n",
    "for g in grouped.groups:\n",
    "    year_abstracts = grouped.get_group(g)\n",
    "    year_abstracts = year_abstracts['abstract'].str.cat()\n",
    "\n",
    "    year_sizerank = generic_sizerank_df(year_abstracts)\n",
    "    year_happiness = join_happiness(year_sizerank, labMT)\n",
    "\n",
    "    abstracts_by_year[g] = year_happiness"
   ]
  },
  {
   "cell_type": "code",
   "execution_count": 9,
   "metadata": {},
   "outputs": [
    {
     "data": {
      "text/html": [
       "<pre style=\"white-space:pre;overflow-x:auto;line-height:normal;font-family:Menlo,'DejaVu Sans Mono',consolas,'Courier New',monospace\"></pre>\n"
      ],
      "text/plain": []
     },
     "metadata": {},
     "output_type": "display_data"
    },
    {
     "data": {
      "text/html": [
       "<div>\n",
       "<style scoped>\n",
       "    .dataframe tbody tr th:only-of-type {\n",
       "        vertical-align: middle;\n",
       "    }\n",
       "\n",
       "    .dataframe tbody tr th {\n",
       "        vertical-align: top;\n",
       "    }\n",
       "\n",
       "    .dataframe thead th {\n",
       "        text-align: right;\n",
       "    }\n",
       "</style>\n",
       "<table border=\"1\" class=\"dataframe\">\n",
       "  <thead>\n",
       "    <tr style=\"text-align: right;\">\n",
       "      <th></th>\n",
       "      <th>year</th>\n",
       "      <th>rank</th>\n",
       "      <th>count</th>\n",
       "      <th>english</th>\n",
       "      <th>happiness</th>\n",
       "      <th>std</th>\n",
       "    </tr>\n",
       "    <tr>\n",
       "      <th>ngram</th>\n",
       "      <th></th>\n",
       "      <th></th>\n",
       "      <th></th>\n",
       "      <th></th>\n",
       "      <th></th>\n",
       "      <th></th>\n",
       "    </tr>\n",
       "  </thead>\n",
       "  <tbody>\n",
       "    <tr>\n",
       "      <th>right</th>\n",
       "      <td>1997</td>\n",
       "      <td>23</td>\n",
       "      <td>10</td>\n",
       "      <td>right</td>\n",
       "      <td>6.54</td>\n",
       "      <td>1.27</td>\n",
       "    </tr>\n",
       "    <tr>\n",
       "      <th>performance</th>\n",
       "      <td>1997</td>\n",
       "      <td>26</td>\n",
       "      <td>9</td>\n",
       "      <td>performance</td>\n",
       "      <td>6.74</td>\n",
       "      <td>1.34</td>\n",
       "    </tr>\n",
       "    <tr>\n",
       "      <th>we</th>\n",
       "      <td>1997</td>\n",
       "      <td>27</td>\n",
       "      <td>9</td>\n",
       "      <td>we</td>\n",
       "      <td>6.38</td>\n",
       "      <td>1.31</td>\n",
       "    </tr>\n",
       "    <tr>\n",
       "      <th>activity</th>\n",
       "      <td>1997</td>\n",
       "      <td>34</td>\n",
       "      <td>8</td>\n",
       "      <td>activity</td>\n",
       "      <td>6.32</td>\n",
       "      <td>1.00</td>\n",
       "    </tr>\n",
       "    <tr>\n",
       "      <th>knowledge</th>\n",
       "      <td>1997</td>\n",
       "      <td>41</td>\n",
       "      <td>6</td>\n",
       "      <td>knowledge</td>\n",
       "      <td>7.24</td>\n",
       "      <td>1.46</td>\n",
       "    </tr>\n",
       "    <tr>\n",
       "      <th>...</th>\n",
       "      <td>...</td>\n",
       "      <td>...</td>\n",
       "      <td>...</td>\n",
       "      <td>...</td>\n",
       "      <td>...</td>\n",
       "      <td>...</td>\n",
       "    </tr>\n",
       "    <tr>\n",
       "      <th>forward</th>\n",
       "      <td>2018</td>\n",
       "      <td>8778</td>\n",
       "      <td>1</td>\n",
       "      <td>forward</td>\n",
       "      <td>6.10</td>\n",
       "      <td>0.84</td>\n",
       "    </tr>\n",
       "    <tr>\n",
       "      <th>acquire</th>\n",
       "      <td>2018</td>\n",
       "      <td>8801</td>\n",
       "      <td>1</td>\n",
       "      <td>acquire</td>\n",
       "      <td>6.36</td>\n",
       "      <td>1.32</td>\n",
       "    </tr>\n",
       "    <tr>\n",
       "      <th>soundtrack</th>\n",
       "      <td>2018</td>\n",
       "      <td>8808</td>\n",
       "      <td>1</td>\n",
       "      <td>soundtrack</td>\n",
       "      <td>6.34</td>\n",
       "      <td>1.71</td>\n",
       "    </tr>\n",
       "    <tr>\n",
       "      <th>composed</th>\n",
       "      <td>2018</td>\n",
       "      <td>8811</td>\n",
       "      <td>1</td>\n",
       "      <td>composed</td>\n",
       "      <td>6.06</td>\n",
       "      <td>1.25</td>\n",
       "    </tr>\n",
       "    <tr>\n",
       "      <th>professionals</th>\n",
       "      <td>2018</td>\n",
       "      <td>8848</td>\n",
       "      <td>1</td>\n",
       "      <td>professionals</td>\n",
       "      <td>6.28</td>\n",
       "      <td>1.40</td>\n",
       "    </tr>\n",
       "  </tbody>\n",
       "</table>\n",
       "<p>20925 rows × 6 columns</p>\n",
       "</div>"
      ],
      "text/plain": [
       "\n",
       "               year  rank  count        english  happiness   std\n",
       "ngram                                                           \n",
       "right          \u001b[1;36m1997\u001b[0m    \u001b[1;36m23\u001b[0m     \u001b[1;36m10\u001b[0m          right       \u001b[1;36m6.54\u001b[0m  \u001b[1;36m1.27\u001b[0m\n",
       "performance    \u001b[1;36m1997\u001b[0m    \u001b[1;36m26\u001b[0m      \u001b[1;36m9\u001b[0m    performance       \u001b[1;36m6.74\u001b[0m  \u001b[1;36m1.34\u001b[0m\n",
       "we             \u001b[1;36m1997\u001b[0m    \u001b[1;36m27\u001b[0m      \u001b[1;36m9\u001b[0m             we       \u001b[1;36m6.38\u001b[0m  \u001b[1;36m1.31\u001b[0m\n",
       "activity       \u001b[1;36m1997\u001b[0m    \u001b[1;36m34\u001b[0m      \u001b[1;36m8\u001b[0m       activity       \u001b[1;36m6.32\u001b[0m  \u001b[1;36m1.00\u001b[0m\n",
       "knowledge      \u001b[1;36m1997\u001b[0m    \u001b[1;36m41\u001b[0m      \u001b[1;36m6\u001b[0m      knowledge       \u001b[1;36m7.24\u001b[0m  \u001b[1;36m1.46\u001b[0m\n",
       "\u001b[33m...\u001b[0m             \u001b[33m...\u001b[0m   \u001b[33m...\u001b[0m    \u001b[33m...\u001b[0m            \u001b[33m...\u001b[0m        \u001b[33m...\u001b[0m   \u001b[33m...\u001b[0m\n",
       "forward        \u001b[1;36m2018\u001b[0m  \u001b[1;36m8778\u001b[0m      \u001b[1;36m1\u001b[0m        forward       \u001b[1;36m6.10\u001b[0m  \u001b[1;36m0.84\u001b[0m\n",
       "acquire        \u001b[1;36m2018\u001b[0m  \u001b[1;36m8801\u001b[0m      \u001b[1;36m1\u001b[0m        acquire       \u001b[1;36m6.36\u001b[0m  \u001b[1;36m1.32\u001b[0m\n",
       "soundtrack     \u001b[1;36m2018\u001b[0m  \u001b[1;36m8808\u001b[0m      \u001b[1;36m1\u001b[0m     soundtrack       \u001b[1;36m6.34\u001b[0m  \u001b[1;36m1.71\u001b[0m\n",
       "composed       \u001b[1;36m2018\u001b[0m  \u001b[1;36m8811\u001b[0m      \u001b[1;36m1\u001b[0m       composed       \u001b[1;36m6.06\u001b[0m  \u001b[1;36m1.25\u001b[0m\n",
       "professionals  \u001b[1;36m2018\u001b[0m  \u001b[1;36m8848\u001b[0m      \u001b[1;36m1\u001b[0m  professionals       \u001b[1;36m6.28\u001b[0m  \u001b[1;36m1.40\u001b[0m\n",
       "\n",
       "\u001b[1m[\u001b[0m\u001b[1;36m20925\u001b[0m rows x \u001b[1;36m6\u001b[0m columns\u001b[1m]\u001b[0m"
      ]
     },
     "execution_count": 9,
     "metadata": {},
     "output_type": "execute_result"
    }
   ],
   "source": [
    "happiness = pd.DataFrame()\n",
    "tmp = pd.DataFrame()\n",
    "for k, v in abstracts_by_year.items():\n",
    "\n",
    "    tmp = v.copy()\n",
    "    tmp.insert(0, 'year', k)\n",
    "\n",
    "    happiness = pd.concat([happiness, tmp])\n",
    "happiness"
   ]
  },
  {
   "cell_type": "code",
   "execution_count": 10,
   "metadata": {},
   "outputs": [
    {
     "data": {
      "text/html": [
       "<pre style=\"white-space:pre;overflow-x:auto;line-height:normal;font-family:Menlo,'DejaVu Sans Mono',consolas,'Courier New',monospace\"></pre>\n"
      ],
      "text/plain": []
     },
     "metadata": {},
     "output_type": "display_data"
    },
    {
     "data": {
      "text/html": [
       "<div>\n",
       "<style scoped>\n",
       "    .dataframe tbody tr th:only-of-type {\n",
       "        vertical-align: middle;\n",
       "    }\n",
       "\n",
       "    .dataframe tbody tr th {\n",
       "        vertical-align: top;\n",
       "    }\n",
       "\n",
       "    .dataframe thead th {\n",
       "        text-align: right;\n",
       "    }\n",
       "</style>\n",
       "<table border=\"1\" class=\"dataframe\">\n",
       "  <thead>\n",
       "    <tr style=\"text-align: right;\">\n",
       "      <th></th>\n",
       "      <th>year</th>\n",
       "      <th>study_id</th>\n",
       "    </tr>\n",
       "  </thead>\n",
       "  <tbody>\n",
       "    <tr>\n",
       "      <th>0</th>\n",
       "      <td>1997</td>\n",
       "      <td>7</td>\n",
       "    </tr>\n",
       "    <tr>\n",
       "      <th>1</th>\n",
       "      <td>1998</td>\n",
       "      <td>16</td>\n",
       "    </tr>\n",
       "    <tr>\n",
       "      <th>2</th>\n",
       "      <td>1999</td>\n",
       "      <td>48</td>\n",
       "    </tr>\n",
       "    <tr>\n",
       "      <th>3</th>\n",
       "      <td>2000</td>\n",
       "      <td>86</td>\n",
       "    </tr>\n",
       "    <tr>\n",
       "      <th>4</th>\n",
       "      <td>2001</td>\n",
       "      <td>110</td>\n",
       "    </tr>\n",
       "    <tr>\n",
       "      <th>5</th>\n",
       "      <td>2002</td>\n",
       "      <td>163</td>\n",
       "    </tr>\n",
       "    <tr>\n",
       "      <th>6</th>\n",
       "      <td>2003</td>\n",
       "      <td>356</td>\n",
       "    </tr>\n",
       "    <tr>\n",
       "      <th>7</th>\n",
       "      <td>2004</td>\n",
       "      <td>372</td>\n",
       "    </tr>\n",
       "    <tr>\n",
       "      <th>8</th>\n",
       "      <td>2005</td>\n",
       "      <td>509</td>\n",
       "    </tr>\n",
       "    <tr>\n",
       "      <th>9</th>\n",
       "      <td>2006</td>\n",
       "      <td>628</td>\n",
       "    </tr>\n",
       "    <tr>\n",
       "      <th>10</th>\n",
       "      <td>2007</td>\n",
       "      <td>665</td>\n",
       "    </tr>\n",
       "    <tr>\n",
       "      <th>11</th>\n",
       "      <td>2008</td>\n",
       "      <td>729</td>\n",
       "    </tr>\n",
       "    <tr>\n",
       "      <th>12</th>\n",
       "      <td>2009</td>\n",
       "      <td>910</td>\n",
       "    </tr>\n",
       "    <tr>\n",
       "      <th>13</th>\n",
       "      <td>2010</td>\n",
       "      <td>1021</td>\n",
       "    </tr>\n",
       "    <tr>\n",
       "      <th>14</th>\n",
       "      <td>2011</td>\n",
       "      <td>1156</td>\n",
       "    </tr>\n",
       "    <tr>\n",
       "      <th>15</th>\n",
       "      <td>2012</td>\n",
       "      <td>1319</td>\n",
       "    </tr>\n",
       "    <tr>\n",
       "      <th>16</th>\n",
       "      <td>2013</td>\n",
       "      <td>1525</td>\n",
       "    </tr>\n",
       "    <tr>\n",
       "      <th>17</th>\n",
       "      <td>2014</td>\n",
       "      <td>1465</td>\n",
       "    </tr>\n",
       "    <tr>\n",
       "      <th>18</th>\n",
       "      <td>2015</td>\n",
       "      <td>1152</td>\n",
       "    </tr>\n",
       "    <tr>\n",
       "      <th>19</th>\n",
       "      <td>2016</td>\n",
       "      <td>825</td>\n",
       "    </tr>\n",
       "    <tr>\n",
       "      <th>20</th>\n",
       "      <td>2017</td>\n",
       "      <td>927</td>\n",
       "    </tr>\n",
       "    <tr>\n",
       "      <th>21</th>\n",
       "      <td>2018</td>\n",
       "      <td>382</td>\n",
       "    </tr>\n",
       "  </tbody>\n",
       "</table>\n",
       "</div>"
      ],
      "text/plain": [
       "\n",
       "    year  study_id\n",
       "\u001b[1;36m0\u001b[0m   \u001b[1;36m1997\u001b[0m         \u001b[1;36m7\u001b[0m\n",
       "\u001b[1;36m1\u001b[0m   \u001b[1;36m1998\u001b[0m        \u001b[1;36m16\u001b[0m\n",
       "\u001b[1;36m2\u001b[0m   \u001b[1;36m1999\u001b[0m        \u001b[1;36m48\u001b[0m\n",
       "\u001b[1;36m3\u001b[0m   \u001b[1;36m2000\u001b[0m        \u001b[1;36m86\u001b[0m\n",
       "\u001b[1;36m4\u001b[0m   \u001b[1;36m2001\u001b[0m       \u001b[1;36m110\u001b[0m\n",
       "\u001b[1;36m5\u001b[0m   \u001b[1;36m2002\u001b[0m       \u001b[1;36m163\u001b[0m\n",
       "\u001b[1;36m6\u001b[0m   \u001b[1;36m2003\u001b[0m       \u001b[1;36m356\u001b[0m\n",
       "\u001b[1;36m7\u001b[0m   \u001b[1;36m2004\u001b[0m       \u001b[1;36m372\u001b[0m\n",
       "\u001b[1;36m8\u001b[0m   \u001b[1;36m2005\u001b[0m       \u001b[1;36m509\u001b[0m\n",
       "\u001b[1;36m9\u001b[0m   \u001b[1;36m2006\u001b[0m       \u001b[1;36m628\u001b[0m\n",
       "\u001b[1;36m10\u001b[0m  \u001b[1;36m2007\u001b[0m       \u001b[1;36m665\u001b[0m\n",
       "\u001b[1;36m11\u001b[0m  \u001b[1;36m2008\u001b[0m       \u001b[1;36m729\u001b[0m\n",
       "\u001b[1;36m12\u001b[0m  \u001b[1;36m2009\u001b[0m       \u001b[1;36m910\u001b[0m\n",
       "\u001b[1;36m13\u001b[0m  \u001b[1;36m2010\u001b[0m      \u001b[1;36m1021\u001b[0m\n",
       "\u001b[1;36m14\u001b[0m  \u001b[1;36m2011\u001b[0m      \u001b[1;36m1156\u001b[0m\n",
       "\u001b[1;36m15\u001b[0m  \u001b[1;36m2012\u001b[0m      \u001b[1;36m1319\u001b[0m\n",
       "\u001b[1;36m16\u001b[0m  \u001b[1;36m2013\u001b[0m      \u001b[1;36m1525\u001b[0m\n",
       "\u001b[1;36m17\u001b[0m  \u001b[1;36m2014\u001b[0m      \u001b[1;36m1465\u001b[0m\n",
       "\u001b[1;36m18\u001b[0m  \u001b[1;36m2015\u001b[0m      \u001b[1;36m1152\u001b[0m\n",
       "\u001b[1;36m19\u001b[0m  \u001b[1;36m2016\u001b[0m       \u001b[1;36m825\u001b[0m\n",
       "\u001b[1;36m20\u001b[0m  \u001b[1;36m2017\u001b[0m       \u001b[1;36m927\u001b[0m\n",
       "\u001b[1;36m21\u001b[0m  \u001b[1;36m2018\u001b[0m       \u001b[1;36m382\u001b[0m"
      ]
     },
     "execution_count": 10,
     "metadata": {},
     "output_type": "execute_result"
    }
   ],
   "source": [
    "def _count_publications(df: pd.DataFrame):\n",
    "\n",
    "    df_agg = df.groupby('year').count()['study_id']\n",
    "    return df_agg.reset_index()\n",
    "\n",
    "_count_publications(ns)"
   ]
  },
  {
   "cell_type": "code",
   "execution_count": 11,
   "metadata": {},
   "outputs": [],
   "source": [
    "def _aggregate_happiness(df):\n",
    "\n",
    "    hp = (df[['year', 'happiness']]\n",
    "          .groupby('year')\n",
    "          .agg(['mean', 'std'])\n",
    "          .reset_index()\n",
    "        )\n",
    "    hp.columns =  hp.columns = [\"_\".join(a) for a in hp.columns.to_flat_index()]\n",
    "    hp = hp.rename(columns={'year_': 'year'})\n",
    "\n",
    "    return hp"
   ]
  },
  {
   "cell_type": "code",
   "execution_count": 12,
   "metadata": {},
   "outputs": [],
   "source": [
    "import plotly.graph_objects as go\n",
    "from plotly.subplots import make_subplots\n",
    "import kaleido\n",
    "\n",
    "import plotly.express as px\n",
    "\n",
    "def plot_pubcounts(df, title=\"Neurosynth Publication Counts\", \n",
    "                   fpath='../data/08_reporting/project/ns_pubcount.pdf'):\n",
    "\n",
    "    pubcounts = _count_publications(df)\n",
    "\n",
    "    fig = px.line(pubcounts, x='year', y='study_id')\n",
    "    fig.update_layout(\n",
    "        title=title,\n",
    "        xaxis_title='Year',\n",
    "        yaxis_title='Publications'\n",
    "    )\n",
    "    fig.write_image(fpath, width=700, height=500)\n",
    "\n",
    "\n",
    "\n",
    "plot_pubcounts(ns)\n",
    "\n",
    "# px.violin(happiness, x='year', y='happiness')"
   ]
  },
  {
   "cell_type": "code",
   "execution_count": 14,
   "metadata": {},
   "outputs": [],
   "source": [
    "import matplotlib.pyplot as plt\n",
    "import seaborn as sns\n",
    "import scienceplots\n",
    "\n",
    "plt.style.use('science')\n",
    "\n",
    "plt.rcParams[\"xtick.minor.visible\"] =  False\n",
    "plt.rcParams[\"ytick.minor.visible\"] =  False\n",
    "plt.rcParams['legend.frameon'] = True"
   ]
  },
  {
   "cell_type": "code",
   "execution_count": 22,
   "metadata": {},
   "outputs": [
    {
     "data": {
      "text/html": [
       "<pre style=\"white-space:pre;overflow-x:auto;line-height:normal;font-family:Menlo,'DejaVu Sans Mono',consolas,'Courier New',monospace\"></pre>\n"
      ],
      "text/plain": []
     },
     "metadata": {},
     "output_type": "display_data"
    },
    {
     "data": {
      "image/png": "[encoded data removed]",
      "text/plain": [
       "\u001b[1m<\u001b[0m\u001b[1;95mFigure\u001b[0m\u001b[39m size 40\u001b[0m\u001b[1;36m0x200\u001b[0m\u001b[39m with \u001b[0m\u001b[1;36m1\u001b[0m\u001b[39m Axes\u001b[0m\u001b[1m>\u001b[0m"
      ]
     },
     "metadata": {},
     "output_type": "display_data"
    }
   ],
   "source": [
    "def plot_pubcounts(df):\n",
    "\n",
    "    pubcounts = _count_publications(df)\n",
    "    fig, ax = plt.subplots(figsize=(4, 2))\n",
    "\n",
    "    ax.plot(pubcounts['year'], pubcounts['study_id'])\n",
    "    ax.set_ylabel('Publications')\n",
    "    ax.set_xlabel('Year')\n",
    "\n",
    "    plt.savefig('./data/08_reporting/project/ns_pubcount.pdf')\n",
    "\n",
    "plot_pubcounts(ns)"
   ]
  },
  {
   "cell_type": "code",
   "execution_count": 20,
   "metadata": {},
   "outputs": [
    {
     "data": {
      "text/html": [
       "<pre style=\"white-space:pre;overflow-x:auto;line-height:normal;font-family:Menlo,'DejaVu Sans Mono',consolas,'Courier New',monospace\"></pre>\n"
      ],
      "text/plain": []
     },
     "metadata": {},
     "output_type": "display_data"
    },
    {
     "data": {
      "text/plain": [
       "\n",
       "\u001b[1;36m0\u001b[0m        A fundamental characteristic of working memory\u001b[33m...\u001b[0m\n",
       "\u001b[1;36m1\u001b[0m        Electrophysiological studies on monkeys have b\u001b[33m...\u001b[0m\n",
       "\u001b[1;36m2\u001b[0m        Most functional imaging studies of the auditor\u001b[33m...\u001b[0m\n",
       "\u001b[1;36m3\u001b[0m        Positron emission tomography studies were cond\u001b[33m...\u001b[0m\n",
       "\u001b[1;36m4\u001b[0m        The cortical organization of language in bilin\u001b[33m...\u001b[0m\n",
       "                               \u001b[33m...\u001b[0m                        \n",
       "\u001b[1;36m14366\u001b[0m    The cortical processing of vestibular informat\u001b[33m...\u001b[0m\n",
       "\u001b[1;36m14367\u001b[0m    An impaired ability to recite highly automated\u001b[33m...\u001b[0m\n",
       "\u001b[1;36m14368\u001b[0m    Temporal and intensity coding of pain in human\u001b[33m...\u001b[0m\n",
       "\u001b[1;36m14369\u001b[0m    OBJECTIVES: To report on a patient with a lacu\u001b[33m...\u001b[0m\n",
       "\u001b[1;36m14370\u001b[0m    Visual areas of the occipitotemporal pathway a\u001b[33m...\u001b[0m\n",
       "Name: abstract, Length: \u001b[1;36m14369\u001b[0m, dtype: object"
      ]
     },
     "execution_count": 20,
     "metadata": {},
     "output_type": "execute_result"
    }
   ],
   "source": [
    "ns[ns['abstract']]\n",
    "ns['abstract'].dropna()"
   ]
  }
 ],
 "metadata": {
  "kernelspec": {
   "display_name": "Kedro (work)",
   "language": "python",
   "name": "kedro_work"
  },
  "language_info": {
   "codemirror_mode": {
    "name": "ipython",
    "version": 3
   },
   "file_extension": ".py",
   "mimetype": "text/x-python",
   "name": "python",
   "nbconvert_exporter": "python",
   "pygments_lexer": "ipython3",
   "version": "3.8.18"
  }
 },
 "nbformat": 4,
 "nbformat_minor": 2
}
