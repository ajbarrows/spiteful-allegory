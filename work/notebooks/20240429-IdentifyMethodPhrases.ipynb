{
 "cells": [
  {
   "cell_type": "code",
   "execution_count": 214,
   "metadata": {},
   "outputs": [
    {
     "data": {
      "text/html": [
       "<pre style=\"white-space:pre;overflow-x:auto;line-height:normal;font-family:Menlo,'DejaVu Sans Mono',consolas,'Courier New',monospace\"><span style=\"color: #7fbfbf; text-decoration-color: #7fbfbf\">[04/29/24 16:43:45] </span><span style=\"color: #000080; text-decoration-color: #000080\">INFO    </span> Resolved project path as:                                              <a href=\"file:///Users/tony/anaconda3/envs/pocs/lib/python3.8/site-packages/kedro/ipython/__init__.py\" target=\"_blank\"><span style=\"color: #7f7f7f; text-decoration-color: #7f7f7f\">__init__.py</span></a><span style=\"color: #7f7f7f; text-decoration-color: #7f7f7f\">:</span><a href=\"file:///Users/tony/anaconda3/envs/pocs/lib/python3.8/site-packages/kedro/ipython/__init__.py#139\" target=\"_blank\"><span style=\"color: #7f7f7f; text-decoration-color: #7f7f7f\">139</span></a>\n",
       "<span style=\"color: #7fbfbf; text-decoration-color: #7fbfbf\">                    </span>         <span style=\"color: #800080; text-decoration-color: #800080\">/Users/tony/Documents/phd/courses/PoCS2/spiteful-allegory/</span><span style=\"color: #ff00ff; text-decoration-color: #ff00ff\">work.</span>        <span style=\"color: #7f7f7f; text-decoration-color: #7f7f7f\">               </span>\n",
       "<span style=\"color: #7fbfbf; text-decoration-color: #7fbfbf\">                    </span>         To set a different path, run <span style=\"color: #008000; text-decoration-color: #008000\">'%reload_kedro &lt;project_root&gt;'</span>            <span style=\"color: #7f7f7f; text-decoration-color: #7f7f7f\">               </span>\n",
       "</pre>\n"
      ],
      "text/plain": [
       "\u001b[2;36m[04/29/24 16:43:45]\u001b[0m\u001b[2;36m \u001b[0m\u001b[34mINFO    \u001b[0m Resolved project path as:                                              \u001b]8;id=133637;file:///Users/tony/anaconda3/envs/pocs/lib/python3.8/site-packages/kedro/ipython/__init__.py\u001b\\\u001b[2m__init__.py\u001b[0m\u001b]8;;\u001b\\\u001b[2m:\u001b[0m\u001b]8;id=71453;file:///Users/tony/anaconda3/envs/pocs/lib/python3.8/site-packages/kedro/ipython/__init__.py#139\u001b\\\u001b[2m139\u001b[0m\u001b]8;;\u001b\\\n",
       "\u001b[2;36m                    \u001b[0m         \u001b[35m/Users/tony/Documents/phd/courses/PoCS2/spiteful-allegory/\u001b[0m\u001b[95mwork.\u001b[0m        \u001b[2m               \u001b[0m\n",
       "\u001b[2;36m                    \u001b[0m         To set a different path, run \u001b[32m'%reload_kedro \u001b[0m\u001b[32m<\u001b[0m\u001b[32mproject_root\u001b[0m\u001b[32m>\u001b[0m\u001b[32m'\u001b[0m            \u001b[2m               \u001b[0m\n"
      ]
     },
     "metadata": {},
     "output_type": "display_data"
    },
    {
     "data": {
      "text/html": [
       "<pre style=\"white-space:pre;overflow-x:auto;line-height:normal;font-family:Menlo,'DejaVu Sans Mono',consolas,'Courier New',monospace\"><span style=\"color: #7fbfbf; text-decoration-color: #7fbfbf\">[04/29/24 16:43:45] </span><span style=\"color: #800000; text-decoration-color: #800000\">WARNING </span> <span style=\"color: #800080; text-decoration-color: #800080\">/Users/tony/anaconda3/envs/pocs/lib/python3.8/site-packages/kedro/fram</span> <a href=\"file:///Users/tony/anaconda3/envs/pocs/lib/python3.8/warnings.py\" target=\"_blank\"><span style=\"color: #7f7f7f; text-decoration-color: #7f7f7f\">warnings.py</span></a><span style=\"color: #7f7f7f; text-decoration-color: #7f7f7f\">:</span><a href=\"file:///Users/tony/anaconda3/envs/pocs/lib/python3.8/warnings.py#109\" target=\"_blank\"><span style=\"color: #7f7f7f; text-decoration-color: #7f7f7f\">109</span></a>\n",
       "<span style=\"color: #7fbfbf; text-decoration-color: #7fbfbf\">                    </span>         <span style=\"color: #800080; text-decoration-color: #800080\">ework/session/</span><span style=\"color: #ff00ff; text-decoration-color: #ff00ff\">session.py</span>:<span style=\"color: #008080; text-decoration-color: #008080; font-weight: bold\">267</span>: KedroDeprecationWarning: ConfigLoader    <span style=\"color: #7f7f7f; text-decoration-color: #7f7f7f\">               </span>\n",
       "<span style=\"color: #7fbfbf; text-decoration-color: #7fbfbf\">                    </span>         will be deprecated in Kedro <span style=\"color: #008080; text-decoration-color: #008080; font-weight: bold\">0.19</span>. Please use the OmegaConfigLoader     <span style=\"color: #7f7f7f; text-decoration-color: #7f7f7f\">               </span>\n",
       "<span style=\"color: #7fbfbf; text-decoration-color: #7fbfbf\">                    </span>         instead. To consult the documentation for OmegaConfigLoader, see here: <span style=\"color: #7f7f7f; text-decoration-color: #7f7f7f\">               </span>\n",
       "<span style=\"color: #7fbfbf; text-decoration-color: #7fbfbf\">                    </span>         <span style=\"color: #0000ff; text-decoration-color: #0000ff; text-decoration: underline\">https://docs.kedro.org/en/stable/configuration/advanced_configuration.</span> <span style=\"color: #7f7f7f; text-decoration-color: #7f7f7f\">               </span>\n",
       "<span style=\"color: #7fbfbf; text-decoration-color: #7fbfbf\">                    </span>         <span style=\"color: #0000ff; text-decoration-color: #0000ff; text-decoration: underline\">html#omegaconfigloader</span>                                                 <span style=\"color: #7f7f7f; text-decoration-color: #7f7f7f\">               </span>\n",
       "<span style=\"color: #7fbfbf; text-decoration-color: #7fbfbf\">                    </span>           <span style=\"color: #800080; text-decoration-color: #800080; font-weight: bold\">warnings.warn</span><span style=\"font-weight: bold\">(</span>                                                       <span style=\"color: #7f7f7f; text-decoration-color: #7f7f7f\">               </span>\n",
       "<span style=\"color: #7fbfbf; text-decoration-color: #7fbfbf\">                    </span>                                                                                <span style=\"color: #7f7f7f; text-decoration-color: #7f7f7f\">               </span>\n",
       "</pre>\n"
      ],
      "text/plain": [
       "\u001b[2;36m[04/29/24 16:43:45]\u001b[0m\u001b[2;36m \u001b[0m\u001b[31mWARNING \u001b[0m \u001b[35m/Users/tony/anaconda3/envs/pocs/lib/python3.8/site-packages/kedro/fram\u001b[0m \u001b]8;id=419197;file:///Users/tony/anaconda3/envs/pocs/lib/python3.8/warnings.py\u001b\\\u001b[2mwarnings.py\u001b[0m\u001b]8;;\u001b\\\u001b[2m:\u001b[0m\u001b]8;id=431021;file:///Users/tony/anaconda3/envs/pocs/lib/python3.8/warnings.py#109\u001b\\\u001b[2m109\u001b[0m\u001b]8;;\u001b\\\n",
       "\u001b[2;36m                    \u001b[0m         \u001b[35mework/session/\u001b[0m\u001b[95msession.py\u001b[0m:\u001b[1;36m267\u001b[0m: KedroDeprecationWarning: ConfigLoader    \u001b[2m               \u001b[0m\n",
       "\u001b[2;36m                    \u001b[0m         will be deprecated in Kedro \u001b[1;36m0.19\u001b[0m. Please use the OmegaConfigLoader     \u001b[2m               \u001b[0m\n",
       "\u001b[2;36m                    \u001b[0m         instead. To consult the documentation for OmegaConfigLoader, see here: \u001b[2m               \u001b[0m\n",
       "\u001b[2;36m                    \u001b[0m         \u001b[4;94mhttps://docs.kedro.org/en/stable/configuration/advanced_configuration.\u001b[0m \u001b[2m               \u001b[0m\n",
       "\u001b[2;36m                    \u001b[0m         \u001b[4;94mhtml#omegaconfigloader\u001b[0m                                                 \u001b[2m               \u001b[0m\n",
       "\u001b[2;36m                    \u001b[0m           \u001b[1;35mwarnings.warn\u001b[0m\u001b[1m(\u001b[0m                                                       \u001b[2m               \u001b[0m\n",
       "\u001b[2;36m                    \u001b[0m                                                                                \u001b[2m               \u001b[0m\n"
      ]
     },
     "metadata": {},
     "output_type": "display_data"
    },
    {
     "data": {
      "text/html": [
       "<pre style=\"white-space:pre;overflow-x:auto;line-height:normal;font-family:Menlo,'DejaVu Sans Mono',consolas,'Courier New',monospace\"><span style=\"color: #7fbfbf; text-decoration-color: #7fbfbf\">                    </span><span style=\"color: #800000; text-decoration-color: #800000\">WARNING </span> <span style=\"color: #800080; text-decoration-color: #800080\">/Users/tony/anaconda3/envs/pocs/lib/python3.8/site-packages/lazy_loade</span> <a href=\"file:///Users/tony/anaconda3/envs/pocs/lib/python3.8/warnings.py\" target=\"_blank\"><span style=\"color: #7f7f7f; text-decoration-color: #7f7f7f\">warnings.py</span></a><span style=\"color: #7f7f7f; text-decoration-color: #7f7f7f\">:</span><a href=\"file:///Users/tony/anaconda3/envs/pocs/lib/python3.8/warnings.py#109\" target=\"_blank\"><span style=\"color: #7f7f7f; text-decoration-color: #7f7f7f\">109</span></a>\n",
       "<span style=\"color: #7fbfbf; text-decoration-color: #7fbfbf\">                    </span>         <span style=\"color: #800080; text-decoration-color: #800080\">r/</span><span style=\"color: #ff00ff; text-decoration-color: #ff00ff\">__init__.py</span>:<span style=\"color: #008080; text-decoration-color: #008080; font-weight: bold\">78</span>: KedroDeprecationWarning: <span style=\"color: #008000; text-decoration-color: #008000\">'TextDataSet'</span> has been      <span style=\"color: #7f7f7f; text-decoration-color: #7f7f7f\">               </span>\n",
       "<span style=\"color: #7fbfbf; text-decoration-color: #7fbfbf\">                    </span>         renamed to <span style=\"color: #008000; text-decoration-color: #008000\">'TextDataset'</span>, and the alias will be removed in             <span style=\"color: #7f7f7f; text-decoration-color: #7f7f7f\">               </span>\n",
       "<span style=\"color: #7fbfbf; text-decoration-color: #7fbfbf\">                    </span>         Kedro-Datasets <span style=\"color: #008080; text-decoration-color: #008080; font-weight: bold\">2.0</span>.<span style=\"color: #008080; text-decoration-color: #008080; font-weight: bold\">0</span>                                                   <span style=\"color: #7f7f7f; text-decoration-color: #7f7f7f\">               </span>\n",
       "<span style=\"color: #7fbfbf; text-decoration-color: #7fbfbf\">                    </span>           attr = <span style=\"color: #800080; text-decoration-color: #800080; font-weight: bold\">getattr</span><span style=\"font-weight: bold\">(</span>submod, name<span style=\"font-weight: bold\">)</span>                                         <span style=\"color: #7f7f7f; text-decoration-color: #7f7f7f\">               </span>\n",
       "<span style=\"color: #7fbfbf; text-decoration-color: #7fbfbf\">                    </span>                                                                                <span style=\"color: #7f7f7f; text-decoration-color: #7f7f7f\">               </span>\n",
       "</pre>\n"
      ],
      "text/plain": [
       "\u001b[2;36m                   \u001b[0m\u001b[2;36m \u001b[0m\u001b[31mWARNING \u001b[0m \u001b[35m/Users/tony/anaconda3/envs/pocs/lib/python3.8/site-packages/lazy_loade\u001b[0m \u001b]8;id=332706;file:///Users/tony/anaconda3/envs/pocs/lib/python3.8/warnings.py\u001b\\\u001b[2mwarnings.py\u001b[0m\u001b]8;;\u001b\\\u001b[2m:\u001b[0m\u001b]8;id=70311;file:///Users/tony/anaconda3/envs/pocs/lib/python3.8/warnings.py#109\u001b\\\u001b[2m109\u001b[0m\u001b]8;;\u001b\\\n",
       "\u001b[2;36m                    \u001b[0m         \u001b[35mr/\u001b[0m\u001b[95m__init__.py\u001b[0m:\u001b[1;36m78\u001b[0m: KedroDeprecationWarning: \u001b[32m'TextDataSet'\u001b[0m has been      \u001b[2m               \u001b[0m\n",
       "\u001b[2;36m                    \u001b[0m         renamed to \u001b[32m'TextDataset'\u001b[0m, and the alias will be removed in             \u001b[2m               \u001b[0m\n",
       "\u001b[2;36m                    \u001b[0m         Kedro-Datasets \u001b[1;36m2.0\u001b[0m.\u001b[1;36m0\u001b[0m                                                   \u001b[2m               \u001b[0m\n",
       "\u001b[2;36m                    \u001b[0m           attr = \u001b[1;35mgetattr\u001b[0m\u001b[1m(\u001b[0msubmod, name\u001b[1m)\u001b[0m                                         \u001b[2m               \u001b[0m\n",
       "\u001b[2;36m                    \u001b[0m                                                                                \u001b[2m               \u001b[0m\n"
      ]
     },
     "metadata": {},
     "output_type": "display_data"
    },
    {
     "data": {
      "text/html": [
       "<pre style=\"white-space:pre;overflow-x:auto;line-height:normal;font-family:Menlo,'DejaVu Sans Mono',consolas,'Courier New',monospace\"><span style=\"color: #7fbfbf; text-decoration-color: #7fbfbf\">                    </span><span style=\"color: #800000; text-decoration-color: #800000\">WARNING </span> <span style=\"color: #800080; text-decoration-color: #800080\">/Users/tony/anaconda3/envs/pocs/lib/python3.8/site-packages/lazy_loade</span> <a href=\"file:///Users/tony/anaconda3/envs/pocs/lib/python3.8/warnings.py\" target=\"_blank\"><span style=\"color: #7f7f7f; text-decoration-color: #7f7f7f\">warnings.py</span></a><span style=\"color: #7f7f7f; text-decoration-color: #7f7f7f\">:</span><a href=\"file:///Users/tony/anaconda3/envs/pocs/lib/python3.8/warnings.py#109\" target=\"_blank\"><span style=\"color: #7f7f7f; text-decoration-color: #7f7f7f\">109</span></a>\n",
       "<span style=\"color: #7fbfbf; text-decoration-color: #7fbfbf\">                    </span>         <span style=\"color: #800080; text-decoration-color: #800080\">r/</span><span style=\"color: #ff00ff; text-decoration-color: #ff00ff\">__init__.py</span>:<span style=\"color: #008080; text-decoration-color: #008080; font-weight: bold\">78</span>: KedroDeprecationWarning: <span style=\"color: #008000; text-decoration-color: #008000\">'CSVDataSet'</span> has been       <span style=\"color: #7f7f7f; text-decoration-color: #7f7f7f\">               </span>\n",
       "<span style=\"color: #7fbfbf; text-decoration-color: #7fbfbf\">                    </span>         renamed to <span style=\"color: #008000; text-decoration-color: #008000\">'CSVDataset'</span>, and the alias will be removed in              <span style=\"color: #7f7f7f; text-decoration-color: #7f7f7f\">               </span>\n",
       "<span style=\"color: #7fbfbf; text-decoration-color: #7fbfbf\">                    </span>         Kedro-Datasets <span style=\"color: #008080; text-decoration-color: #008080; font-weight: bold\">2.0</span>.<span style=\"color: #008080; text-decoration-color: #008080; font-weight: bold\">0</span>                                                   <span style=\"color: #7f7f7f; text-decoration-color: #7f7f7f\">               </span>\n",
       "<span style=\"color: #7fbfbf; text-decoration-color: #7fbfbf\">                    </span>           attr = <span style=\"color: #800080; text-decoration-color: #800080; font-weight: bold\">getattr</span><span style=\"font-weight: bold\">(</span>submod, name<span style=\"font-weight: bold\">)</span>                                         <span style=\"color: #7f7f7f; text-decoration-color: #7f7f7f\">               </span>\n",
       "<span style=\"color: #7fbfbf; text-decoration-color: #7fbfbf\">                    </span>                                                                                <span style=\"color: #7f7f7f; text-decoration-color: #7f7f7f\">               </span>\n",
       "</pre>\n"
      ],
      "text/plain": [
       "\u001b[2;36m                   \u001b[0m\u001b[2;36m \u001b[0m\u001b[31mWARNING \u001b[0m \u001b[35m/Users/tony/anaconda3/envs/pocs/lib/python3.8/site-packages/lazy_loade\u001b[0m \u001b]8;id=488548;file:///Users/tony/anaconda3/envs/pocs/lib/python3.8/warnings.py\u001b\\\u001b[2mwarnings.py\u001b[0m\u001b]8;;\u001b\\\u001b[2m:\u001b[0m\u001b]8;id=605543;file:///Users/tony/anaconda3/envs/pocs/lib/python3.8/warnings.py#109\u001b\\\u001b[2m109\u001b[0m\u001b]8;;\u001b\\\n",
       "\u001b[2;36m                    \u001b[0m         \u001b[35mr/\u001b[0m\u001b[95m__init__.py\u001b[0m:\u001b[1;36m78\u001b[0m: KedroDeprecationWarning: \u001b[32m'CSVDataSet'\u001b[0m has been       \u001b[2m               \u001b[0m\n",
       "\u001b[2;36m                    \u001b[0m         renamed to \u001b[32m'CSVDataset'\u001b[0m, and the alias will be removed in              \u001b[2m               \u001b[0m\n",
       "\u001b[2;36m                    \u001b[0m         Kedro-Datasets \u001b[1;36m2.0\u001b[0m.\u001b[1;36m0\u001b[0m                                                   \u001b[2m               \u001b[0m\n",
       "\u001b[2;36m                    \u001b[0m           attr = \u001b[1;35mgetattr\u001b[0m\u001b[1m(\u001b[0msubmod, name\u001b[1m)\u001b[0m                                         \u001b[2m               \u001b[0m\n",
       "\u001b[2;36m                    \u001b[0m                                                                                \u001b[2m               \u001b[0m\n"
      ]
     },
     "metadata": {},
     "output_type": "display_data"
    },
    {
     "data": {
      "text/html": [
       "<pre style=\"white-space:pre;overflow-x:auto;line-height:normal;font-family:Menlo,'DejaVu Sans Mono',consolas,'Courier New',monospace\"><span style=\"color: #7fbfbf; text-decoration-color: #7fbfbf\">                    </span><span style=\"color: #800000; text-decoration-color: #800000\">WARNING </span> <span style=\"color: #800080; text-decoration-color: #800080\">/Users/tony/anaconda3/envs/pocs/lib/python3.8/site-packages/lazy_loade</span> <a href=\"file:///Users/tony/anaconda3/envs/pocs/lib/python3.8/warnings.py\" target=\"_blank\"><span style=\"color: #7f7f7f; text-decoration-color: #7f7f7f\">warnings.py</span></a><span style=\"color: #7f7f7f; text-decoration-color: #7f7f7f\">:</span><a href=\"file:///Users/tony/anaconda3/envs/pocs/lib/python3.8/warnings.py#109\" target=\"_blank\"><span style=\"color: #7f7f7f; text-decoration-color: #7f7f7f\">109</span></a>\n",
       "<span style=\"color: #7fbfbf; text-decoration-color: #7fbfbf\">                    </span>         <span style=\"color: #800080; text-decoration-color: #800080\">r/</span><span style=\"color: #ff00ff; text-decoration-color: #ff00ff\">__init__.py</span>:<span style=\"color: #008080; text-decoration-color: #008080; font-weight: bold\">78</span>: KedroDeprecationWarning: <span style=\"color: #008000; text-decoration-color: #008000\">'PickleDataSet'</span> has been    <span style=\"color: #7f7f7f; text-decoration-color: #7f7f7f\">               </span>\n",
       "<span style=\"color: #7fbfbf; text-decoration-color: #7fbfbf\">                    </span>         renamed to <span style=\"color: #008000; text-decoration-color: #008000\">'PickleDataset'</span>, and the alias will be removed in           <span style=\"color: #7f7f7f; text-decoration-color: #7f7f7f\">               </span>\n",
       "<span style=\"color: #7fbfbf; text-decoration-color: #7fbfbf\">                    </span>         Kedro-Datasets <span style=\"color: #008080; text-decoration-color: #008080; font-weight: bold\">2.0</span>.<span style=\"color: #008080; text-decoration-color: #008080; font-weight: bold\">0</span>                                                   <span style=\"color: #7f7f7f; text-decoration-color: #7f7f7f\">               </span>\n",
       "<span style=\"color: #7fbfbf; text-decoration-color: #7fbfbf\">                    </span>           attr = <span style=\"color: #800080; text-decoration-color: #800080; font-weight: bold\">getattr</span><span style=\"font-weight: bold\">(</span>submod, name<span style=\"font-weight: bold\">)</span>                                         <span style=\"color: #7f7f7f; text-decoration-color: #7f7f7f\">               </span>\n",
       "<span style=\"color: #7fbfbf; text-decoration-color: #7fbfbf\">                    </span>                                                                                <span style=\"color: #7f7f7f; text-decoration-color: #7f7f7f\">               </span>\n",
       "</pre>\n"
      ],
      "text/plain": [
       "\u001b[2;36m                   \u001b[0m\u001b[2;36m \u001b[0m\u001b[31mWARNING \u001b[0m \u001b[35m/Users/tony/anaconda3/envs/pocs/lib/python3.8/site-packages/lazy_loade\u001b[0m \u001b]8;id=336599;file:///Users/tony/anaconda3/envs/pocs/lib/python3.8/warnings.py\u001b\\\u001b[2mwarnings.py\u001b[0m\u001b]8;;\u001b\\\u001b[2m:\u001b[0m\u001b]8;id=613955;file:///Users/tony/anaconda3/envs/pocs/lib/python3.8/warnings.py#109\u001b\\\u001b[2m109\u001b[0m\u001b]8;;\u001b\\\n",
       "\u001b[2;36m                    \u001b[0m         \u001b[35mr/\u001b[0m\u001b[95m__init__.py\u001b[0m:\u001b[1;36m78\u001b[0m: KedroDeprecationWarning: \u001b[32m'PickleDataSet'\u001b[0m has been    \u001b[2m               \u001b[0m\n",
       "\u001b[2;36m                    \u001b[0m         renamed to \u001b[32m'PickleDataset'\u001b[0m, and the alias will be removed in           \u001b[2m               \u001b[0m\n",
       "\u001b[2;36m                    \u001b[0m         Kedro-Datasets \u001b[1;36m2.0\u001b[0m.\u001b[1;36m0\u001b[0m                                                   \u001b[2m               \u001b[0m\n",
       "\u001b[2;36m                    \u001b[0m           attr = \u001b[1;35mgetattr\u001b[0m\u001b[1m(\u001b[0msubmod, name\u001b[1m)\u001b[0m                                         \u001b[2m               \u001b[0m\n",
       "\u001b[2;36m                    \u001b[0m                                                                                \u001b[2m               \u001b[0m\n"
      ]
     },
     "metadata": {},
     "output_type": "display_data"
    },
    {
     "data": {
      "text/html": [
       "<pre style=\"white-space:pre;overflow-x:auto;line-height:normal;font-family:Menlo,'DejaVu Sans Mono',consolas,'Courier New',monospace\"><span style=\"color: #7fbfbf; text-decoration-color: #7fbfbf\">                    </span><span style=\"color: #800000; text-decoration-color: #800000\">WARNING </span> <span style=\"color: #800080; text-decoration-color: #800080\">/Users/tony/anaconda3/envs/pocs/lib/python3.8/site-packages/lazy_loade</span> <a href=\"file:///Users/tony/anaconda3/envs/pocs/lib/python3.8/warnings.py\" target=\"_blank\"><span style=\"color: #7f7f7f; text-decoration-color: #7f7f7f\">warnings.py</span></a><span style=\"color: #7f7f7f; text-decoration-color: #7f7f7f\">:</span><a href=\"file:///Users/tony/anaconda3/envs/pocs/lib/python3.8/warnings.py#109\" target=\"_blank\"><span style=\"color: #7f7f7f; text-decoration-color: #7f7f7f\">109</span></a>\n",
       "<span style=\"color: #7fbfbf; text-decoration-color: #7fbfbf\">                    </span>         <span style=\"color: #800080; text-decoration-color: #800080\">r/</span><span style=\"color: #ff00ff; text-decoration-color: #ff00ff\">__init__.py</span>:<span style=\"color: #008080; text-decoration-color: #008080; font-weight: bold\">78</span>: KedroDeprecationWarning: <span style=\"color: #008000; text-decoration-color: #008000\">'ParquetDataSet'</span> has been   <span style=\"color: #7f7f7f; text-decoration-color: #7f7f7f\">               </span>\n",
       "<span style=\"color: #7fbfbf; text-decoration-color: #7fbfbf\">                    </span>         renamed to <span style=\"color: #008000; text-decoration-color: #008000\">'ParquetDataset'</span>, and the alias will be removed in          <span style=\"color: #7f7f7f; text-decoration-color: #7f7f7f\">               </span>\n",
       "<span style=\"color: #7fbfbf; text-decoration-color: #7fbfbf\">                    </span>         Kedro-Datasets <span style=\"color: #008080; text-decoration-color: #008080; font-weight: bold\">2.0</span>.<span style=\"color: #008080; text-decoration-color: #008080; font-weight: bold\">0</span>                                                   <span style=\"color: #7f7f7f; text-decoration-color: #7f7f7f\">               </span>\n",
       "<span style=\"color: #7fbfbf; text-decoration-color: #7fbfbf\">                    </span>           attr = <span style=\"color: #800080; text-decoration-color: #800080; font-weight: bold\">getattr</span><span style=\"font-weight: bold\">(</span>submod, name<span style=\"font-weight: bold\">)</span>                                         <span style=\"color: #7f7f7f; text-decoration-color: #7f7f7f\">               </span>\n",
       "<span style=\"color: #7fbfbf; text-decoration-color: #7fbfbf\">                    </span>                                                                                <span style=\"color: #7f7f7f; text-decoration-color: #7f7f7f\">               </span>\n",
       "</pre>\n"
      ],
      "text/plain": [
       "\u001b[2;36m                   \u001b[0m\u001b[2;36m \u001b[0m\u001b[31mWARNING \u001b[0m \u001b[35m/Users/tony/anaconda3/envs/pocs/lib/python3.8/site-packages/lazy_loade\u001b[0m \u001b]8;id=495406;file:///Users/tony/anaconda3/envs/pocs/lib/python3.8/warnings.py\u001b\\\u001b[2mwarnings.py\u001b[0m\u001b]8;;\u001b\\\u001b[2m:\u001b[0m\u001b]8;id=660991;file:///Users/tony/anaconda3/envs/pocs/lib/python3.8/warnings.py#109\u001b\\\u001b[2m109\u001b[0m\u001b]8;;\u001b\\\n",
       "\u001b[2;36m                    \u001b[0m         \u001b[35mr/\u001b[0m\u001b[95m__init__.py\u001b[0m:\u001b[1;36m78\u001b[0m: KedroDeprecationWarning: \u001b[32m'ParquetDataSet'\u001b[0m has been   \u001b[2m               \u001b[0m\n",
       "\u001b[2;36m                    \u001b[0m         renamed to \u001b[32m'ParquetDataset'\u001b[0m, and the alias will be removed in          \u001b[2m               \u001b[0m\n",
       "\u001b[2;36m                    \u001b[0m         Kedro-Datasets \u001b[1;36m2.0\u001b[0m.\u001b[1;36m0\u001b[0m                                                   \u001b[2m               \u001b[0m\n",
       "\u001b[2;36m                    \u001b[0m           attr = \u001b[1;35mgetattr\u001b[0m\u001b[1m(\u001b[0msubmod, name\u001b[1m)\u001b[0m                                         \u001b[2m               \u001b[0m\n",
       "\u001b[2;36m                    \u001b[0m                                                                                \u001b[2m               \u001b[0m\n"
      ]
     },
     "metadata": {},
     "output_type": "display_data"
    },
    {
     "data": {
      "text/html": [
       "<pre style=\"white-space:pre;overflow-x:auto;line-height:normal;font-family:Menlo,'DejaVu Sans Mono',consolas,'Courier New',monospace\"><span style=\"color: #7fbfbf; text-decoration-color: #7fbfbf\">                    </span><span style=\"color: #000080; text-decoration-color: #000080\">INFO    </span> Kedro project work                                                     <a href=\"file:///Users/tony/anaconda3/envs/pocs/lib/python3.8/site-packages/kedro/ipython/__init__.py\" target=\"_blank\"><span style=\"color: #7f7f7f; text-decoration-color: #7f7f7f\">__init__.py</span></a><span style=\"color: #7f7f7f; text-decoration-color: #7f7f7f\">:</span><a href=\"file:///Users/tony/anaconda3/envs/pocs/lib/python3.8/site-packages/kedro/ipython/__init__.py#108\" target=\"_blank\"><span style=\"color: #7f7f7f; text-decoration-color: #7f7f7f\">108</span></a>\n",
       "</pre>\n"
      ],
      "text/plain": [
       "\u001b[2;36m                   \u001b[0m\u001b[2;36m \u001b[0m\u001b[34mINFO    \u001b[0m Kedro project work                                                     \u001b]8;id=431643;file:///Users/tony/anaconda3/envs/pocs/lib/python3.8/site-packages/kedro/ipython/__init__.py\u001b\\\u001b[2m__init__.py\u001b[0m\u001b]8;;\u001b\\\u001b[2m:\u001b[0m\u001b]8;id=661857;file:///Users/tony/anaconda3/envs/pocs/lib/python3.8/site-packages/kedro/ipython/__init__.py#108\u001b\\\u001b[2m108\u001b[0m\u001b]8;;\u001b\\\n"
      ]
     },
     "metadata": {},
     "output_type": "display_data"
    },
    {
     "data": {
      "text/html": [
       "<pre style=\"white-space:pre;overflow-x:auto;line-height:normal;font-family:Menlo,'DejaVu Sans Mono',consolas,'Courier New',monospace\"><span style=\"color: #7fbfbf; text-decoration-color: #7fbfbf\">                    </span><span style=\"color: #000080; text-decoration-color: #000080\">INFO    </span> Defined global variable <span style=\"color: #008000; text-decoration-color: #008000\">'context'</span>, <span style=\"color: #008000; text-decoration-color: #008000\">'session'</span>, <span style=\"color: #008000; text-decoration-color: #008000\">'catalog'</span> and            <a href=\"file:///Users/tony/anaconda3/envs/pocs/lib/python3.8/site-packages/kedro/ipython/__init__.py\" target=\"_blank\"><span style=\"color: #7f7f7f; text-decoration-color: #7f7f7f\">__init__.py</span></a><span style=\"color: #7f7f7f; text-decoration-color: #7f7f7f\">:</span><a href=\"file:///Users/tony/anaconda3/envs/pocs/lib/python3.8/site-packages/kedro/ipython/__init__.py#109\" target=\"_blank\"><span style=\"color: #7f7f7f; text-decoration-color: #7f7f7f\">109</span></a>\n",
       "<span style=\"color: #7fbfbf; text-decoration-color: #7fbfbf\">                    </span>         <span style=\"color: #008000; text-decoration-color: #008000\">'pipelines'</span>                                                            <span style=\"color: #7f7f7f; text-decoration-color: #7f7f7f\">               </span>\n",
       "</pre>\n"
      ],
      "text/plain": [
       "\u001b[2;36m                   \u001b[0m\u001b[2;36m \u001b[0m\u001b[34mINFO    \u001b[0m Defined global variable \u001b[32m'context'\u001b[0m, \u001b[32m'session'\u001b[0m, \u001b[32m'catalog'\u001b[0m and            \u001b]8;id=148368;file:///Users/tony/anaconda3/envs/pocs/lib/python3.8/site-packages/kedro/ipython/__init__.py\u001b\\\u001b[2m__init__.py\u001b[0m\u001b]8;;\u001b\\\u001b[2m:\u001b[0m\u001b]8;id=500660;file:///Users/tony/anaconda3/envs/pocs/lib/python3.8/site-packages/kedro/ipython/__init__.py#109\u001b\\\u001b[2m109\u001b[0m\u001b]8;;\u001b\\\n",
       "\u001b[2;36m                    \u001b[0m         \u001b[32m'pipelines'\u001b[0m                                                            \u001b[2m               \u001b[0m\n"
      ]
     },
     "metadata": {},
     "output_type": "display_data"
    }
   ],
   "source": [
    "%reload_kedro"
   ]
  },
  {
   "cell_type": "code",
   "execution_count": 200,
   "metadata": {},
   "outputs": [],
   "source": [
    "import pandas as pd\n",
    "import nltk\n",
    "\n",
    "from joblib import Parallel, delayed, cpu_count\n",
    "\n",
    "from work.pipelines.word_helpers.nodes import parse_text\n",
    "\n",
    "from nltk.stem import PorterStemmer"
   ]
  },
  {
   "cell_type": "code",
   "execution_count": 6,
   "metadata": {},
   "outputs": [
    {
     "data": {
      "text/html": [
       "<pre style=\"white-space:pre;overflow-x:auto;line-height:normal;font-family:Menlo,'DejaVu Sans Mono',consolas,'Courier New',monospace\"><span style=\"color: #7fbfbf; text-decoration-color: #7fbfbf\">[04/29/24 13:20:11] </span><span style=\"color: #000080; text-decoration-color: #000080\">INFO    </span> Loading data from <span style=\"color: #008000; text-decoration-color: #008000\">'rankcount_pos'</span> <span style=\"font-weight: bold\">(</span>ParquetDataset<span style=\"font-weight: bold\">)</span><span style=\"color: #808000; text-decoration-color: #808000\">...</span>              <a href=\"file:///Users/tony/anaconda3/envs/pocs/lib/python3.8/site-packages/kedro/io/data_catalog.py\" target=\"_blank\"><span style=\"color: #7f7f7f; text-decoration-color: #7f7f7f\">data_catalog.py</span></a><span style=\"color: #7f7f7f; text-decoration-color: #7f7f7f\">:</span><a href=\"file:///Users/tony/anaconda3/envs/pocs/lib/python3.8/site-packages/kedro/io/data_catalog.py#502\" target=\"_blank\"><span style=\"color: #7f7f7f; text-decoration-color: #7f7f7f\">502</span></a>\n",
       "</pre>\n"
      ],
      "text/plain": [
       "\u001b[2;36m[04/29/24 13:20:11]\u001b[0m\u001b[2;36m \u001b[0m\u001b[34mINFO    \u001b[0m Loading data from \u001b[32m'rankcount_pos'\u001b[0m \u001b[1m(\u001b[0mParquetDataset\u001b[1m)\u001b[0m\u001b[33m...\u001b[0m              \u001b]8;id=688421;file:///Users/tony/anaconda3/envs/pocs/lib/python3.8/site-packages/kedro/io/data_catalog.py\u001b\\\u001b[2mdata_catalog.py\u001b[0m\u001b]8;;\u001b\\\u001b[2m:\u001b[0m\u001b]8;id=780632;file:///Users/tony/anaconda3/envs/pocs/lib/python3.8/site-packages/kedro/io/data_catalog.py#502\u001b\\\u001b[2m502\u001b[0m\u001b]8;;\u001b\\\n"
      ]
     },
     "metadata": {},
     "output_type": "display_data"
    }
   ],
   "source": [
    "rc = catalog.load('rankcount_pos')\n",
    "# df[df['pos'] == \"VERB\"].head(50)"
   ]
  },
  {
   "cell_type": "code",
   "execution_count": 15,
   "metadata": {},
   "outputs": [
    {
     "data": {
      "text/html": [
       "<pre style=\"white-space:pre;overflow-x:auto;line-height:normal;font-family:Menlo,'DejaVu Sans Mono',consolas,'Courier New',monospace\"><span style=\"color: #7fbfbf; text-decoration-color: #7fbfbf\">[04/29/24 13:23:35] </span><span style=\"color: #000080; text-decoration-color: #000080\">INFO    </span> Loading data from <span style=\"color: #008000; text-decoration-color: #008000\">'neurosynth_text'</span> <span style=\"font-weight: bold\">(</span>CSVDataset<span style=\"font-weight: bold\">)</span><span style=\"color: #808000; text-decoration-color: #808000\">...</span>                <a href=\"file:///Users/tony/anaconda3/envs/pocs/lib/python3.8/site-packages/kedro/io/data_catalog.py\" target=\"_blank\"><span style=\"color: #7f7f7f; text-decoration-color: #7f7f7f\">data_catalog.py</span></a><span style=\"color: #7f7f7f; text-decoration-color: #7f7f7f\">:</span><a href=\"file:///Users/tony/anaconda3/envs/pocs/lib/python3.8/site-packages/kedro/io/data_catalog.py#502\" target=\"_blank\"><span style=\"color: #7f7f7f; text-decoration-color: #7f7f7f\">502</span></a>\n",
       "</pre>\n"
      ],
      "text/plain": [
       "\u001b[2;36m[04/29/24 13:23:35]\u001b[0m\u001b[2;36m \u001b[0m\u001b[34mINFO    \u001b[0m Loading data from \u001b[32m'neurosynth_text'\u001b[0m \u001b[1m(\u001b[0mCSVDataset\u001b[1m)\u001b[0m\u001b[33m...\u001b[0m                \u001b]8;id=146994;file:///Users/tony/anaconda3/envs/pocs/lib/python3.8/site-packages/kedro/io/data_catalog.py\u001b\\\u001b[2mdata_catalog.py\u001b[0m\u001b]8;;\u001b\\\u001b[2m:\u001b[0m\u001b]8;id=826963;file:///Users/tony/anaconda3/envs/pocs/lib/python3.8/site-packages/kedro/io/data_catalog.py#502\u001b\\\u001b[2m502\u001b[0m\u001b]8;;\u001b\\\n"
      ]
     },
     "metadata": {},
     "output_type": "display_data"
    },
    {
     "data": {
      "text/html": [
       "<pre style=\"white-space:pre;overflow-x:auto;line-height:normal;font-family:Menlo,'DejaVu Sans Mono',consolas,'Courier New',monospace\"></pre>\n"
      ],
      "text/plain": []
     },
     "metadata": {},
     "output_type": "display_data"
    },
    {
     "data": {
      "text/html": [
       "<div>\n",
       "<style scoped>\n",
       "    .dataframe tbody tr th:only-of-type {\n",
       "        vertical-align: middle;\n",
       "    }\n",
       "\n",
       "    .dataframe tbody tr th {\n",
       "        vertical-align: top;\n",
       "    }\n",
       "\n",
       "    .dataframe thead th {\n",
       "        text-align: right;\n",
       "    }\n",
       "</style>\n",
       "<table border=\"1\" class=\"dataframe\">\n",
       "  <thead>\n",
       "    <tr style=\"text-align: right;\">\n",
       "      <th></th>\n",
       "      <th>id</th>\n",
       "      <th>study_id</th>\n",
       "      <th>contrast_id</th>\n",
       "      <th>abstract</th>\n",
       "      <th>authors</th>\n",
       "      <th>journal</th>\n",
       "      <th>year</th>\n",
       "      <th>title</th>\n",
       "    </tr>\n",
       "  </thead>\n",
       "  <tbody>\n",
       "    <tr>\n",
       "      <th>0</th>\n",
       "      <td>10022492-1</td>\n",
       "      <td>10022492</td>\n",
       "      <td>1</td>\n",
       "      <td>A fundamental characteristic of working memory...</td>\n",
       "      <td>Callicott JH, Mattay VS, Bertolino A, Finn K, ...</td>\n",
       "      <td>Cerebral cortex (New York, N.Y. : 1991)</td>\n",
       "      <td>1999</td>\n",
       "      <td>Physiological characteristics of capacity cons...</td>\n",
       "    </tr>\n",
       "    <tr>\n",
       "      <th>1</th>\n",
       "      <td>10022494-1</td>\n",
       "      <td>10022494</td>\n",
       "      <td>1</td>\n",
       "      <td>Electrophysiological studies on monkeys have b...</td>\n",
       "      <td>Toni I, Schluter ND, Josephs O, Friston K, Pas...</td>\n",
       "      <td>Cerebral cortex (New York, N.Y. : 1991)</td>\n",
       "      <td>1999</td>\n",
       "      <td>Signal-, set- and movement-related activity in...</td>\n",
       "    </tr>\n",
       "    <tr>\n",
       "      <th>2</th>\n",
       "      <td>10022496-1</td>\n",
       "      <td>10022496</td>\n",
       "      <td>1</td>\n",
       "      <td>Most functional imaging studies of the auditor...</td>\n",
       "      <td>Lockwood AH, Salvi RJ, Coad ML, Arnold SA, Wac...</td>\n",
       "      <td>Cerebral cortex (New York, N.Y. : 1991)</td>\n",
       "      <td>1999</td>\n",
       "      <td>The functional anatomy of the normal human aud...</td>\n",
       "    </tr>\n",
       "    <tr>\n",
       "      <th>3</th>\n",
       "      <td>10051677-1</td>\n",
       "      <td>10051677</td>\n",
       "      <td>1</td>\n",
       "      <td>Positron emission tomography studies were cond...</td>\n",
       "      <td>Denton D, Shade R, Zamarippa F, Egan G, Blair-...</td>\n",
       "      <td>Proceedings of the National Academy of Science...</td>\n",
       "      <td>1999</td>\n",
       "      <td>Correlation of regional cerebral blood flow an...</td>\n",
       "    </tr>\n",
       "    <tr>\n",
       "      <th>4</th>\n",
       "      <td>10191322-1</td>\n",
       "      <td>10191322</td>\n",
       "      <td>1</td>\n",
       "      <td>The cortical organization of language in bilin...</td>\n",
       "      <td>Chee MW, Tan EW, Thiel T</td>\n",
       "      <td>The Journal of neuroscience : the official jou...</td>\n",
       "      <td>1999</td>\n",
       "      <td>Mandarin and English single word processing st...</td>\n",
       "    </tr>\n",
       "  </tbody>\n",
       "</table>\n",
       "</div>"
      ],
      "text/plain": [
       "\n",
       "           id  study_id  contrast_id  \\\n",
       "\u001b[1;36m0\u001b[0m  \u001b[1;36m10022492\u001b[0m-\u001b[1;36m1\u001b[0m  \u001b[1;36m10022492\u001b[0m            \u001b[1;36m1\u001b[0m   \n",
       "\u001b[1;36m1\u001b[0m  \u001b[1;36m10022494\u001b[0m-\u001b[1;36m1\u001b[0m  \u001b[1;36m10022494\u001b[0m            \u001b[1;36m1\u001b[0m   \n",
       "\u001b[1;36m2\u001b[0m  \u001b[1;36m10022496\u001b[0m-\u001b[1;36m1\u001b[0m  \u001b[1;36m10022496\u001b[0m            \u001b[1;36m1\u001b[0m   \n",
       "\u001b[1;36m3\u001b[0m  \u001b[1;36m10051677\u001b[0m-\u001b[1;36m1\u001b[0m  \u001b[1;36m10051677\u001b[0m            \u001b[1;36m1\u001b[0m   \n",
       "\u001b[1;36m4\u001b[0m  \u001b[1;36m10191322\u001b[0m-\u001b[1;36m1\u001b[0m  \u001b[1;36m10191322\u001b[0m            \u001b[1;36m1\u001b[0m   \n",
       "\n",
       "                                            abstract  \\\n",
       "\u001b[1;36m0\u001b[0m  A fundamental characteristic of working memory\u001b[33m...\u001b[0m   \n",
       "\u001b[1;36m1\u001b[0m  Electrophysiological studies on monkeys have b\u001b[33m...\u001b[0m   \n",
       "\u001b[1;36m2\u001b[0m  Most functional imaging studies of the auditor\u001b[33m...\u001b[0m   \n",
       "\u001b[1;36m3\u001b[0m  Positron emission tomography studies were cond\u001b[33m...\u001b[0m   \n",
       "\u001b[1;36m4\u001b[0m  The cortical organization of language in bilin\u001b[33m...\u001b[0m   \n",
       "\n",
       "                                             authors  \\\n",
       "\u001b[1;36m0\u001b[0m  Callicott JH, Mattay VS, Bertolino A, Finn K, \u001b[33m...\u001b[0m   \n",
       "\u001b[1;36m1\u001b[0m  Toni I, Schluter ND, Josephs O, Friston K, Pas\u001b[33m...\u001b[0m   \n",
       "\u001b[1;36m2\u001b[0m  Lockwood AH, Salvi RJ, Coad ML, Arnold SA, Wac\u001b[33m...\u001b[0m   \n",
       "\u001b[1;36m3\u001b[0m  Denton D, Shade R, Zamarippa F, Egan G, Blair-\u001b[33m...\u001b[0m   \n",
       "\u001b[1;36m4\u001b[0m                           Chee MW, Tan EW, Thiel T   \n",
       "\n",
       "                                             journal  year  \\\n",
       "\u001b[1;36m0\u001b[0m            Cerebral cortex \u001b[1m(\u001b[0mNew York, N.Y. : \u001b[1;36m1991\u001b[0m\u001b[1m)\u001b[0m  \u001b[1;36m1999\u001b[0m   \n",
       "\u001b[1;36m1\u001b[0m            Cerebral cortex \u001b[1m(\u001b[0mNew York, N.Y. : \u001b[1;36m1991\u001b[0m\u001b[1m)\u001b[0m  \u001b[1;36m1999\u001b[0m   \n",
       "\u001b[1;36m2\u001b[0m            Cerebral cortex \u001b[1m(\u001b[0mNew York, N.Y. : \u001b[1;36m1991\u001b[0m\u001b[1m)\u001b[0m  \u001b[1;36m1999\u001b[0m   \n",
       "\u001b[1;36m3\u001b[0m  Proceedings of the National Academy of Science\u001b[33m...\u001b[0m  \u001b[1;36m1999\u001b[0m   \n",
       "\u001b[1;36m4\u001b[0m  The Journal of neuroscience : the official jou\u001b[33m...\u001b[0m  \u001b[1;36m1999\u001b[0m   \n",
       "\n",
       "                                               title  \n",
       "\u001b[1;36m0\u001b[0m  Physiological characteristics of capacity cons\u001b[33m...\u001b[0m  \n",
       "\u001b[1;36m1\u001b[0m  Signal-, set- and movement-related activity in\u001b[33m...\u001b[0m  \n",
       "\u001b[1;36m2\u001b[0m  The functional anatomy of the normal human aud\u001b[33m...\u001b[0m  \n",
       "\u001b[1;36m3\u001b[0m  Correlation of regional cerebral blood flow an\u001b[33m...\u001b[0m  \n",
       "\u001b[1;36m4\u001b[0m  Mandarin and English single word processing st\u001b[33m...\u001b[0m  "
      ]
     },
     "execution_count": 15,
     "metadata": {},
     "output_type": "execute_result"
    }
   ],
   "source": [
    "df = catalog.load('neurosynth_text')\n",
    "df.head()"
   ]
  },
  {
   "cell_type": "code",
   "execution_count": null,
   "metadata": {},
   "outputs": [],
   "source": []
  },
  {
   "cell_type": "markdown",
   "metadata": {},
   "source": [
    "Identify a randomly-selected subset of abstracts to review for methods-related words. Use a stemming algorithm to identify the roots of each word (both in the methods corpus and the abstracts), iterate through the abstracts, pull out the methods-related sentences, and assign them to a data structure associated with the paper."
   ]
  },
  {
   "cell_type": "code",
   "execution_count": 49,
   "metadata": {},
   "outputs": [],
   "source": [
    "def select_random_abstracts(df, n_random=50, random_state=42):\n",
    "    rnd = df.sample(n=n_random, random_state=random_state)\n",
    "    return rnd[['study_id', 'abstract']]\n",
    "\n",
    "ra = select_random_abstracts(df)\n"
   ]
  },
  {
   "cell_type": "code",
   "execution_count": 38,
   "metadata": {},
   "outputs": [
    {
     "data": {
      "text/html": [
       "<pre style=\"white-space:pre;overflow-x:auto;line-height:normal;font-family:Menlo,'DejaVu Sans Mono',consolas,'Courier New',monospace\"></pre>\n"
      ],
      "text/plain": []
     },
     "metadata": {},
     "output_type": "display_data"
    },
    {
     "data": {
      "text/plain": [
       "\n",
       "\u001b[1m[\u001b[0m\n",
       "    \u001b[32m'Functional magnetic resonance imaging was used to examine the neural correlates of two linguistic tasks in schizophrenia.'\u001b[0m,\n",
       "    \u001b[32m'METHOD: Five dextral male schizophrenic patients and five volunteers matched for demographic variables and task performance participated.'\u001b[0m,\n",
       "    \u001b[32m\"Echoplanar images were acquired over 5 min at 1.5 T while subjects performed two paced, covert tasks; \u001b[0m\u001b[32m(\u001b[0m\u001b[32m1\u001b[0m\u001b[32m)\u001b[0m\u001b[32m verbal fluency: silent generation of words beginning with an aurally presented cue letter, contrasted with silent repetition of the aurally presented word 'rest'; \u001b[0m\u001b[32m(\u001b[0m\u001b[32m2\u001b[0m\u001b[32m)\u001b[0m\u001b[32m semantic decision: deciding whether a visually presented cue word was 'living or non-living' and silently articulating the response, contrasted with rest.\"\u001b[0m,\n",
       "    \u001b[32m'Both tasks entailed language processing; only verbal fluency requires the intrinsic generation of verbal material.'\u001b[0m,\n",
       "    \u001b[32m'Between-group differences in the mean power of experimental response to the semantic decision task were identified by a one-way analysis of covariance \u001b[0m\u001b[32m(\u001b[0m\u001b[32mANCOVA\u001b[0m\u001b[32m)\u001b[0m\u001b[32m, with a measure of stimulus-correlated motion as a covariate.'\u001b[0m,\n",
       "    \u001b[32m'Voxels demonstrating a significant interaction between task and group were identified using a two-way ANCOVA.'\u001b[0m,\n",
       "    \u001b[32m'RESULTS: In controls, both tasks were associated with activation of prefrontal cortex.'\u001b[0m,\n",
       "    \u001b[32m'In patients with schizophrenia there was a significantly reduced power of response in several prefrontal regions during verbal fluency relative to controls, a difference that was not evident for the semantic decision task.'\u001b[0m,\n",
       "    \u001b[32m'There was a significant group x task interaction in the left inferior frontal gyrus, left dorsolateral prefrontal cortex and the supplementary motor area at voxel and regional levels of analysis.'\u001b[0m,\n",
       "    \u001b[32m'CONCLUSIONS: Attenuation of frontal activation during cognitive task performance in schizophrenia does not represent a fixed deficit in frontal function, but may depend on the specific cognitive demands of the experimental task employed.'\u001b[0m\n",
       "\u001b[1m]\u001b[0m"
      ]
     },
     "execution_count": 38,
     "metadata": {},
     "output_type": "execute_result"
    }
   ],
   "source": [
    "ex_abs = df.iloc[10, :]['abstract']\n",
    "nltk.sent_tokenize(ex_abs)"
   ]
  },
  {
   "cell_type": "code",
   "execution_count": 117,
   "metadata": {},
   "outputs": [
    {
     "data": {
      "text/html": [
       "<pre style=\"white-space:pre;overflow-x:auto;line-height:normal;font-family:Menlo,'DejaVu Sans Mono',consolas,'Courier New',monospace\"><span style=\"color: #7fbfbf; text-decoration-color: #7fbfbf\">[04/29/24 15:35:00] </span><span style=\"color: #000080; text-decoration-color: #000080\">INFO    </span> Loading data from <span style=\"color: #008000; text-decoration-color: #008000\">'methods_corpus'</span> <span style=\"font-weight: bold\">(</span>TextDataset<span style=\"font-weight: bold\">)</span><span style=\"color: #808000; text-decoration-color: #808000\">...</span>                <a href=\"file:///Users/tony/anaconda3/envs/pocs/lib/python3.8/site-packages/kedro/io/data_catalog.py\" target=\"_blank\"><span style=\"color: #7f7f7f; text-decoration-color: #7f7f7f\">data_catalog.py</span></a><span style=\"color: #7f7f7f; text-decoration-color: #7f7f7f\">:</span><a href=\"file:///Users/tony/anaconda3/envs/pocs/lib/python3.8/site-packages/kedro/io/data_catalog.py#502\" target=\"_blank\"><span style=\"color: #7f7f7f; text-decoration-color: #7f7f7f\">502</span></a>\n",
       "</pre>\n"
      ],
      "text/plain": [
       "\u001b[2;36m[04/29/24 15:35:00]\u001b[0m\u001b[2;36m \u001b[0m\u001b[34mINFO    \u001b[0m Loading data from \u001b[32m'methods_corpus'\u001b[0m \u001b[1m(\u001b[0mTextDataset\u001b[1m)\u001b[0m\u001b[33m...\u001b[0m                \u001b]8;id=859168;file:///Users/tony/anaconda3/envs/pocs/lib/python3.8/site-packages/kedro/io/data_catalog.py\u001b\\\u001b[2mdata_catalog.py\u001b[0m\u001b]8;;\u001b\\\u001b[2m:\u001b[0m\u001b]8;id=875262;file:///Users/tony/anaconda3/envs/pocs/lib/python3.8/site-packages/kedro/io/data_catalog.py#502\u001b\\\u001b[2m502\u001b[0m\u001b]8;;\u001b\\\n"
      ]
     },
     "metadata": {},
     "output_type": "display_data"
    },
    {
     "data": {
      "text/html": [
       "<pre style=\"white-space:pre;overflow-x:auto;line-height:normal;font-family:Menlo,'DejaVu Sans Mono',consolas,'Courier New',monospace\"></pre>\n"
      ],
      "text/plain": []
     },
     "metadata": {},
     "output_type": "display_data"
    },
    {
     "data": {
      "text/plain": [
       "\n",
       "\u001b[1m{\u001b[0m\n",
       "    \u001b[32m'connectivity'\u001b[0m: \u001b[32m'connect'\u001b[0m,\n",
       "    \u001b[32m'FC'\u001b[0m: \u001b[32m'fc'\u001b[0m,\n",
       "    \u001b[32m'test'\u001b[0m: \u001b[32m'test'\u001b[0m,\n",
       "    \u001b[32m'measure'\u001b[0m: \u001b[32m'measur'\u001b[0m,\n",
       "    \u001b[32m'method'\u001b[0m: \u001b[32m'method'\u001b[0m,\n",
       "    \u001b[32m'no-go'\u001b[0m: \u001b[32m'no-go'\u001b[0m,\n",
       "    \u001b[32m'SST'\u001b[0m: \u001b[32m'sst'\u001b[0m,\n",
       "    \u001b[32m'MID'\u001b[0m: \u001b[32m'mid'\u001b[0m,\n",
       "    \u001b[32m'response'\u001b[0m: \u001b[32m'respons'\u001b[0m,\n",
       "    \u001b[32m'inference'\u001b[0m: \u001b[32m'infer'\u001b[0m,\n",
       "    \u001b[32m'morphometry'\u001b[0m: \u001b[32m'morphometri'\u001b[0m,\n",
       "    \u001b[32m'density'\u001b[0m: \u001b[32m'densiti'\u001b[0m,\n",
       "    \u001b[32m'structural'\u001b[0m: \u001b[32m'structur'\u001b[0m,\n",
       "    \u001b[32m'regressor'\u001b[0m: \u001b[32m'regressor'\u001b[0m,\n",
       "    \u001b[32m'linear'\u001b[0m: \u001b[32m'linear'\u001b[0m,\n",
       "    \u001b[32m'paradigm'\u001b[0m: \u001b[32m'paradigm'\u001b[0m,\n",
       "    \u001b[32m'experiment'\u001b[0m: \u001b[32m'experi'\u001b[0m,\n",
       "    \u001b[32m'network'\u001b[0m: \u001b[32m'network'\u001b[0m,\n",
       "    \u001b[32m'diffusion'\u001b[0m: \u001b[32m'diffus'\u001b[0m,\n",
       "    \u001b[32m'tensor'\u001b[0m: \u001b[32m'tensor'\u001b[0m,\n",
       "    \u001b[32m'microstructural'\u001b[0m: \u001b[32m'microstructur'\u001b[0m,\n",
       "    \u001b[32m'anatomical'\u001b[0m: \u001b[32m'anatom'\u001b[0m,\n",
       "    \u001b[32m'clinical'\u001b[0m: \u001b[32m'clinic'\u001b[0m,\n",
       "    \u001b[32m'fractional'\u001b[0m: \u001b[32m'fraction'\u001b[0m,\n",
       "    \u001b[32m'anisotropy'\u001b[0m: \u001b[32m'anisotropi'\u001b[0m,\n",
       "    \u001b[32m'seed-based'\u001b[0m: \u001b[32m'seed-bas'\u001b[0m,\n",
       "    \u001b[32m'whole brain'\u001b[0m: \u001b[32m'whole brain'\u001b[0m,\n",
       "    \u001b[32m'resting-state'\u001b[0m: \u001b[32m'resting-st'\u001b[0m,\n",
       "    \u001b[32m'event'\u001b[0m: \u001b[32m'event'\u001b[0m,\n",
       "    \u001b[32m'contrast'\u001b[0m: \u001b[32m'contrast'\u001b[0m,\n",
       "    \u001b[32m'BOLD'\u001b[0m: \u001b[32m'bold'\u001b[0m,\n",
       "    \u001b[32m'galvanic'\u001b[0m: \u001b[32m'galvan'\u001b[0m,\n",
       "    \u001b[32m'amplitude'\u001b[0m: \u001b[32m'amplitud'\u001b[0m,\n",
       "    \u001b[32m'correlation'\u001b[0m: \u001b[32m'correl'\u001b[0m,\n",
       "    \u001b[32m'projected'\u001b[0m: \u001b[32m'project'\u001b[0m,\n",
       "    \u001b[32m'one-back'\u001b[0m: \u001b[32m'one-back'\u001b[0m,\n",
       "    \u001b[32m'dot-probe'\u001b[0m: \u001b[32m'dot-prob'\u001b[0m,\n",
       "    \u001b[32m'sensitivity'\u001b[0m: \u001b[32m'sensit'\u001b[0m,\n",
       "    \u001b[32m'specificity'\u001b[0m: \u001b[32m'specif'\u001b[0m,\n",
       "    \u001b[32m'voxel-wise'\u001b[0m: \u001b[32m'voxel-wis'\u001b[0m,\n",
       "    \u001b[32m'bivariate'\u001b[0m: \u001b[32m'bivari'\u001b[0m,\n",
       "    \u001b[32m'ROI'\u001b[0m: \u001b[32m'roi'\u001b[0m,\n",
       "    \u001b[32m'GLM'\u001b[0m: \u001b[32m'glm'\u001b[0m,\n",
       "    \u001b[32m'analysis'\u001b[0m: \u001b[32m'analysi'\u001b[0m,\n",
       "    \u001b[32m'ANOVA'\u001b[0m: \u001b[32m'anova'\u001b[0m,\n",
       "    \u001b[32m'ANCOVA'\u001b[0m: \u001b[32m'ancova'\u001b[0m,\n",
       "    \u001b[32m'mixed effects'\u001b[0m: \u001b[32m'mixed effect'\u001b[0m,\n",
       "    \u001b[32m'machine learning'\u001b[0m: \u001b[32m'machine learn'\u001b[0m,\n",
       "    \u001b[32m'ML'\u001b[0m: \u001b[32m'ml'\u001b[0m,\n",
       "    \u001b[32m'regularized'\u001b[0m: \u001b[32m'regular'\u001b[0m,\n",
       "    \u001b[32m'mean'\u001b[0m: \u001b[32m'mean'\u001b[0m\n",
       "\u001b[1m}\u001b[0m"
      ]
     },
     "execution_count": 117,
     "metadata": {},
     "output_type": "execute_result"
    }
   ],
   "source": [
    "def load_methods_corpus(text):\n",
    "    ps = PorterStemmer()\n",
    "    corpus = text.split('\\n')\n",
    "    stems = [ps.stem(word) for word in corpus]\n",
    "   \n",
    "    return  dict(zip(corpus, stems))\n",
    "\n",
    "methods_corpus = load_methods_corpus(catalog.load(\"methods_corpus\"))\n",
    "methods_corpus"
   ]
  },
  {
   "cell_type": "code",
   "execution_count": 132,
   "metadata": {},
   "outputs": [
    {
     "data": {
      "text/html": [
       "<pre style=\"white-space:pre;overflow-x:auto;line-height:normal;font-family:Menlo,'DejaVu Sans Mono',consolas,'Courier New',monospace\"><span style=\"color: #7fbfbf; text-decoration-color: #7fbfbf\">[04/29/24 15:47:17] </span><span style=\"color: #000080; text-decoration-color: #000080\">INFO    </span> Loading data from <span style=\"color: #008000; text-decoration-color: #008000\">'params:skip_words'</span> <span style=\"font-weight: bold\">(</span>MemoryDataset<span style=\"font-weight: bold\">)</span><span style=\"color: #808000; text-decoration-color: #808000\">...</span>           <a href=\"file:///Users/tony/anaconda3/envs/pocs/lib/python3.8/site-packages/kedro/io/data_catalog.py\" target=\"_blank\"><span style=\"color: #7f7f7f; text-decoration-color: #7f7f7f\">data_catalog.py</span></a><span style=\"color: #7f7f7f; text-decoration-color: #7f7f7f\">:</span><a href=\"file:///Users/tony/anaconda3/envs/pocs/lib/python3.8/site-packages/kedro/io/data_catalog.py#502\" target=\"_blank\"><span style=\"color: #7f7f7f; text-decoration-color: #7f7f7f\">502</span></a>\n",
       "</pre>\n"
      ],
      "text/plain": [
       "\u001b[2;36m[04/29/24 15:47:17]\u001b[0m\u001b[2;36m \u001b[0m\u001b[34mINFO    \u001b[0m Loading data from \u001b[32m'params:skip_words'\u001b[0m \u001b[1m(\u001b[0mMemoryDataset\u001b[1m)\u001b[0m\u001b[33m...\u001b[0m           \u001b]8;id=444009;file:///Users/tony/anaconda3/envs/pocs/lib/python3.8/site-packages/kedro/io/data_catalog.py\u001b\\\u001b[2mdata_catalog.py\u001b[0m\u001b]8;;\u001b\\\u001b[2m:\u001b[0m\u001b]8;id=628096;file:///Users/tony/anaconda3/envs/pocs/lib/python3.8/site-packages/kedro/io/data_catalog.py#502\u001b\\\u001b[2m502\u001b[0m\u001b]8;;\u001b\\\n"
      ]
     },
     "metadata": {},
     "output_type": "display_data"
    },
    {
     "data": {
      "text/html": [
       "<pre style=\"white-space:pre;overflow-x:auto;line-height:normal;font-family:Menlo,'DejaVu Sans Mono',consolas,'Courier New',monospace\"></pre>\n"
      ],
      "text/plain": []
     },
     "metadata": {},
     "output_type": "display_data"
    },
    {
     "data": {
      "text/plain": [
       "\u001b[1m{\u001b[0m\u001b[32m'significance stat'\u001b[0m, \u001b[32m'conclus'\u001b[0m, \u001b[32m'result'\u001b[0m\u001b[1m}\u001b[0m"
      ]
     },
     "execution_count": 132,
     "metadata": {},
     "output_type": "execute_result"
    }
   ],
   "source": [
    "def load_skip_words(skip_words: list):\n",
    "    ps = PorterStemmer()\n",
    "    skip = set(ps.stem(s) for s in skip_words)\n",
    "\n",
    "    return skip\n",
    "\n",
    "skip_words = load_skip_words(catalog.load('params:skip_words'))\n",
    "skip_words"
   ]
  },
  {
   "cell_type": "code",
   "execution_count": 139,
   "metadata": {},
   "outputs": [
    {
     "data": {
      "text/html": [
       "<pre style=\"white-space:pre;overflow-x:auto;line-height:normal;font-family:Menlo,'DejaVu Sans Mono',consolas,'Courier New',monospace\"></pre>\n"
      ],
      "text/plain": []
     },
     "metadata": {},
     "output_type": "display_data"
    },
    {
     "data": {
      "text/plain": [
       "\n",
       "\u001b[1m{\u001b[0m\n",
       "    \u001b[1;36m10022492\u001b[0m: \u001b[32m\"A fundamental characteristic of working memory is that its capacity to handle information is limited. While there have been many brain mapping studies of working memory, the physiological basis of its capacity limitation has not been explained. We identified characteristics of working memory capacity using functional magnetic resonance imaging \u001b[0m\u001b[32m(\u001b[0m\u001b[32mfMRI\u001b[0m\u001b[32m)\u001b[0m\u001b[32m in healthy subjects. Working memory capacity was studied using a parametric 'n-back' working memory task involving increasing cognitive load and ultimately decreasing task performance. Loci within dorsolateral prefrontal cortex \u001b[0m\u001b[32m(\u001b[0m\u001b[32mDLPFC\u001b[0m\u001b[32m)\u001b[0m\u001b[32m evinced exclusively an 'inverted-U' shaped neurophysiological response from lowest to highest load, consistent with a capacity-constrained response. Regions outside of DLPFC, in contrast, were more heterogeneous in response and often showed early plateau or continuously increasing responses, which did not reflect capacity constraints. However, sporadic loci, including in the premotor cortex, thalamus and superior parietal lobule, also demonstrated putative capacity-constrained responses, perhaps arising as an upstream effect of DLPFC limitations or as part of a broader network-wide capacity limitation. These results demonstrate that regionally specific nodes within the working memory network are capacity-constrained in the physiological domain, providing a missing link in current explorations of the capacity characteristics of working memory.\"\u001b[0m,\n",
       "    \u001b[1;36m10022494\u001b[0m: \u001b[32m'Electrophysiological studies on monkeys have been able to distinguish sensory and motor signals close in time by pseudorandomly delaying the cue that instructs the movement from the stimulus that triggers the movement. We have used a similar experimental design in functional magnetic resonance imaging \u001b[0m\u001b[32m(\u001b[0m\u001b[32mfMRI\u001b[0m\u001b[32m)\u001b[0m\u001b[32m, scanning subjects while they performed a visuomotor conditional task with instructed delays. One of four shapes was presented briefly. Two shapes instructed the subjects to flex the index finger; the other two shapes coded the flexion of the middle finger. The subjects were told to perform the movement after a tone. We have exploited a novel use of event-related fMRI. By systematically varying the interval between the visual and acoustic stimuli, it has been possible to estimate the significance of the evoked haemodynamic response \u001b[0m\u001b[32m(\u001b[0m\u001b[32mEHR\u001b[0m\u001b[32m)\u001b[0m\u001b[32m to each of the stimuli, despite their temporal proximity in relation to the time constant of the EHR. Furthermore, by varying the phase between events and image acquisition, we have been able to achieve high temporal resolution while scanning the whole brain. We dissociated sensory and motor components of the sensorimotor transformations elicited by the task, and assessed sustained activity during the instructed delays. In calcarine and occipitotemporal cortex, the responses were exclusively associated with the visual instruction cues. In temporal auditory cortex and in primary motor cortex, they were exclusively associated with the auditory trigger stimulus. In ventral prefrontal cortex there were movement-related responses preceded by preparatory activity and by signal-related activity. Finally, responses associated with the instruction cue and with sustained activity during the delay period were observed in the dorsal premotor cortex and in the dorsal posterior parietal cortex. Where the association between a visual cue and the appropriate movement is arbitrary, the underlying visuomotor transformations are not achieved exclusively through frontoparietal interactions. Rather, these processes seem to rely on the ventral visual stream, the ventral prefrontal cortex and the anterior part of the dorsal premotor cortex.'\u001b[0m,\n",
       "    \u001b[1;36m10022496\u001b[0m: \u001b[32m'Most functional imaging studies of the auditory system have employed complex stimuli. We used positron emission tomography to map neural responses to 0.5 and 4.0 kHz sine-wave tones presented to the right ear at 30, 50, 70 and 90 dB HL and found activation in a complex neural network of elements traditionally associated with the auditory system as well as non-traditional sites such as the posterior cingulate cortex. Cingulate activity was maximal at low stimulus intensities, suggesting that it may function as a gain control center. In the right temporal lobe, the location of the maximal response varied with the intensity, but not with the frequency of the stimuli. In the left temporal lobe, there was evidence for tonotopic organization: a site lateral to the left primary auditory cortex was activated equally by both tones while a second site in primary auditory cortex was more responsive to the higher frequency. Infratentorial activations were contralateral to the stimulated ear and included the lateral cerebellum, the lateral pontine tegmentum, the midbrain and the medial geniculate. Contrary to predictions based on cochlear membrane mechanics, at each intensity, 4.0 kHz stimuli were more potent activators of the brain than the 0.5 kHz stimuli.'\u001b[0m,\n",
       "    \u001b[1;36m10051677\u001b[0m: \u001b[32m'Positron emission tomography studies were conducted during genesis of moderate thirst by rapid i.v. infusion of hypertonic saline \u001b[0m\u001b[32m(\u001b[0m\u001b[32m0.51 M\u001b[0m\u001b[32m)\u001b[0m\u001b[32m and after satiation of thirst by drinking water. The correlation of regional cerebral blood flow with the change in the plasma Na concentration showed a significant group of cerebral activations in the anterior cingulate region and also a site in the middle temporal gyrus and in the periaqueductal gray. Strongest deactivations occurred in the parahippocampal and frontal gyri. The data are consistent with an important role of the anterior cingulate in the genesis of thirst.'\u001b[0m,\n",
       "    \u001b[1;36m10191322\u001b[0m: \u001b[32m'The cortical organization of language in bilinguals remains disputed. We studied 24 right-handed fluent bilinguals: 15 exposed to both Mandarin and English before the age of 6 years; and nine exposed to Mandarin in early childhood but English only after the age of 12 years. Blood oxygen level-dependent contrast functional magnetic resonance imaging was performed while subjects performed cued word generation in each language. Fixation was the control task. In both languages, activations were present in the prefrontal, temporal, and parietal regions, and the supplementary motor area. Activations in the prefrontal region were compared by \u001b[0m\u001b[32m(\u001b[0m\u001b[32m1\u001b[0m\u001b[32m)\u001b[0m\u001b[32m locating peak activations and \u001b[0m\u001b[32m(\u001b[0m\u001b[32m2\u001b[0m\u001b[32m)\u001b[0m\u001b[32m counting the number of voxels that exceeded a statistical threshold. Although there were differences in the magnitude of activation between the pair of languages, no subject showed significant differences in peak-location or hemispheric asymmetry of activations in the prefrontal language areas. Early and late bilinguals showed a similar pattern of overlapping activations. There are no significant differences in the cortical areas activated for both Mandarin and English at the single word level, irrespective of age of acquisition of either language.'\u001b[0m,\n",
       "    \u001b[1;36m10196461\u001b[0m: \u001b[32m'Sensory functional MRI was performed in seven normal volunteers at 1. 5 T using a vibratory stimulus applied to the pad of the first finger of the left hand. The data was normalized to a standard atlas, and individual and group statistical parametric maps were computed. Robust bilateral activation was demonstrated in the secondary somatosensory cortex \u001b[0m\u001b[32m(\u001b[0m\u001b[32mSII\u001b[0m\u001b[32m)\u001b[0m\u001b[32m, indicating a bilateral representation of SII in humans. Greater maxima and activation volumes were achieved in contralateral SII as compared to SI. Sensory fMRI can provide a sensitive assay for probing the nature and function of SII in vivo.'\u001b[0m,\n",
       "    \u001b[1;36m10197540\u001b[0m: \u001b[32m\"Apart from being a common feature of mental illness, auditory hallucinations provide an intriguing model for the study of internally generated sensory perceptions that are attributed to external sources. Until now, the knowledge about the cortical network that supports such hallucinations has been restricted by methodological limitations. Here, we describe an experiment with paranoid schizophrenic patients whose on- and offset of auditory hallucinations could be monitored within one functional magnetic resonance imaging \u001b[0m\u001b[32m(\u001b[0m\u001b[32mfMRI\u001b[0m\u001b[32m)\u001b[0m\u001b[32m session. We demonstrate an increase of the blood oxygen level-dependent \u001b[0m\u001b[32m(\u001b[0m\u001b[32mBOLD\u001b[0m\u001b[32m)\u001b[0m\u001b[32m signal in Heschl's gyrus during the patients' hallucinations. Our results provide direct evidence of the involvement of primary auditory areas in auditory verbal hallucinations and establish novel constraints for psychopathological models.\"\u001b[0m,\n",
       "    \u001b[1;36m10215087\u001b[0m: \u001b[32m'Guessing is an important component of everyday cognition. The present study examined the neural substrates of guessing using a simple card-playing task in conjunction with functional magnetic resonance imaging \u001b[0m\u001b[32m(\u001b[0m\u001b[32mfMRI\u001b[0m\u001b[32m)\u001b[0m\u001b[32m. Subjects were scanned under four conditions. In two, they were shown images of the back of a playing card and had to guess either the colour or the suit of the card. In the other two they were shown the face of a card and had to report either the colour or the suit. Guessing compared to reporting was associated with significant activations in lateral prefrontal cortex \u001b[0m\u001b[32m(\u001b[0m\u001b[32mright more than left\u001b[0m\u001b[32m)\u001b[0m\u001b[32m, right orbitofrontal cortex, anterior cingulate, bilateral inferior parietal cortex and right thalamus. Increasing the guessing demands by manipulating the number of alternative outcomes was associated with activation of the left lateral and medial orbitofrontal cortex. These data suggest that while simple two choice guessing depends on an extensive neural system including regions of the right lateral prefrontal cortex, activation of orbitofrontal cortex increases as the probabilistic contingencies become more complex. Guessing thus involves not only systems implicated in working memory processes but also depends upon orbitofrontal cortex. This region is not typically activated in working memory tasks and its activation may reflect additional requirements of dealing with uncertainty.'\u001b[0m,\n",
       "    \u001b[1;36m10216270\u001b[0m: \u001b[32m'Two studies examined the contribution of human frontal cortical areas to the programming of trains of repetitive movements. The first study compared the performance of patients with unilateral frontal excisions, unilateral temporal excisions and controls on the speed of initiation of discrete vs. sequential tapping movements to visual stimuli. The frontal group showed normal initiation times in single taps and a normal execution \u001b[0m\u001b[32m(\u001b[0m\u001b[32mpace and accuracy\u001b[0m\u001b[32m)\u001b[0m\u001b[32m in sequential taps but they were slower than the other groups at initiating sequential taps indicating a sequence programming problem for repetitions of a single response. A second study examined the functional anatomy of single and sequential taps in eight control subjects using fMRI. Subjects performed flexion/extension movements of the right thumb at either 1 movement/s or as trains of four closely spaced movements at a rate of 1 train/4 s. Statistical analyses revealed that primary sensorimotor cortex and a dorsolateral premotor cortex region were activated in both conditions. Medial frontal activation was not significant in discrete movements but was clearly present in sequential movements and involved SMA and cingulate regions bilaterally. In addition, two other dorsolateral premotor foci of activation were observed in the sequential taps condition. Results from these two experiments converge toward establishing a significant role of dorsolateral and medial premotor regions in the programming of trains of repetitive responses.'\u001b[0m,\n",
       "    \u001b[1;36m10220229\u001b[0m: \u001b[32m'We assessed time-dependent neuronal activity accompanying learning using functional magnetic resonance imaging \u001b[0m\u001b[32m(\u001b[0m\u001b[32mfMRI\u001b[0m\u001b[32m)\u001b[0m\u001b[32m. An artificial grammar learning paradigm enabled us to dissociate activations associated with individual item learning from those involved in learning the underlying grammar system. We show that a localized region of right prefrontal cortex \u001b[0m\u001b[32m(\u001b[0m\u001b[32mPFC\u001b[0m\u001b[32m)\u001b[0m\u001b[32m is preferentially sensitive to individual item learning during the early stages of the experiment, while the left PFC region is sensitive to grammar learning which occurred across the entire course of the experiment. In addition to dissociating these two types of learning, we were able to characterize the effect of rule acquisition on neuronal responses associated with explicit learning of individual items. This effect was expressed as modulation of the time-dependent right PFC activations such that the early increase in activation associated with item learning was attenuated as the experiment progressed. In a further analysis we used structural equation modelling to explore time-dependent changes in inter-regional connectivity as a function of both item and grammar rule learning. Although there were no significant effects of item learning on the measured path strengths, rule learning was associated with a decrease in right fronto-parietal connectivity and an increase in connectivity between left and right PFC. Further fronto-parietal path strengths were observed to change, with an increase in left fronto-parietal and a decrease in right fronto-parietal connectivity path strength from right PFC to left parietal cortex. We interpret our findings in terms of a left frontal system mediating the semantic analysis of study items and directly influencing a right fronto-parietal system associated with episodic memory retrieval.'\u001b[0m\n",
       "\u001b[1m}\u001b[0m"
      ]
     },
     "execution_count": 139,
     "metadata": {},
     "output_type": "execute_result"
    }
   ],
   "source": [
    "def text_to_dict(df):\n",
    "    return dict(zip(df['study_id'], df['abstract']))\n",
    "\n",
    "# subset = df.iloc[0:10, :][['study_id', 'abstract']]\n",
    "# subset\n",
    "\n",
    "subset = text_to_dict(df.iloc[0:10, :])\n",
    "subset"
   ]
  },
  {
   "cell_type": "code",
   "execution_count": 188,
   "metadata": {},
   "outputs": [],
   "source": [
    "def detect_corpus_in_sentences(text: tuple, corpus: dict, skip_words: set):\n",
    "\n",
    "    study_id = text[0]\n",
    "    abstract = text[1]\n",
    "\n",
    "    ps = PorterStemmer()\n",
    "\n",
    "    # turn abstract into sentences\n",
    "    sentences = nltk.sent_tokenize(abstract)\n",
    "\n",
    "    # drop first and last sentence (!!)\n",
    "    sentences = sentences[1:-1]\n",
    "\n",
    "    corp = set(corpus.values())\n",
    "\n",
    "    detected = []\n",
    "    for sentence in sentences:\n",
    "\n",
    "        # turn sentences into tokens\n",
    "        parsed = parse_text(sentence)\n",
    "        tokens = parsed.split()\n",
    "\n",
    "        # turn tokens into stems\n",
    "        stems = set([ps.stem(t) for t in tokens])\n",
    "        \n",
    "        # stop if a break word comes up\n",
    "        if any(s in skip_words for s in stems):\n",
    "            break\n",
    "        \n",
    "        # detect corpus words in sentence\n",
    "        overlap = stems.intersection(corp)\n",
    "\n",
    "        if len(overlap) > 0:\n",
    "\n",
    "            # keywords = []\n",
    "            # for word in overlap:\n",
    "            #     for k, v in corpus.items():\n",
    "            #         if v == word:\n",
    "            #             keywords.append(k)\n",
    "            \n",
    "            # detected[sentence] = keywords\n",
    "            detected.append(sentence)\n",
    "\n",
    "    return {study_id: \"\".join(detected)}\n",
    "    \n"
   ]
  },
  {
   "cell_type": "code",
   "execution_count": 208,
   "metadata": {},
   "outputs": [],
   "source": [
    "def run_detect_parallel(abstract_dict, methods_corpus, skip_words):\n",
    "\n",
    "    n_cpus = cpu_count()\n",
    "\n",
    "    r = Parallel(n_jobs=n_cpus)(\n",
    "        delayed(detect_corpus_in_sentences)(item, methods_corpus, skip_words) for item in abstract_dict.items()\n",
    "    )\n",
    "\n",
    "    return r"
   ]
  },
  {
   "cell_type": "code",
   "execution_count": 213,
   "metadata": {},
   "outputs": [
    {
     "data": {
      "text/html": [
       "<pre style=\"white-space:pre;overflow-x:auto;line-height:normal;font-family:Menlo,'DejaVu Sans Mono',consolas,'Courier New',monospace\"></pre>\n"
      ],
      "text/plain": []
     },
     "metadata": {},
     "output_type": "display_data"
    },
    {
     "data": {
      "text/html": [
       "<div>\n",
       "<style scoped>\n",
       "    .dataframe tbody tr th:only-of-type {\n",
       "        vertical-align: middle;\n",
       "    }\n",
       "\n",
       "    .dataframe tbody tr th {\n",
       "        vertical-align: top;\n",
       "    }\n",
       "\n",
       "    .dataframe thead th {\n",
       "        text-align: right;\n",
       "    }\n",
       "</style>\n",
       "<table border=\"1\" class=\"dataframe\">\n",
       "  <thead>\n",
       "    <tr style=\"text-align: right;\">\n",
       "      <th></th>\n",
       "      <th>study_id</th>\n",
       "      <th>id</th>\n",
       "      <th>contrast_id</th>\n",
       "      <th>abstract</th>\n",
       "      <th>authors</th>\n",
       "      <th>journal</th>\n",
       "      <th>year</th>\n",
       "      <th>title</th>\n",
       "      <th>det_sentences</th>\n",
       "    </tr>\n",
       "  </thead>\n",
       "  <tbody>\n",
       "    <tr>\n",
       "      <th>0</th>\n",
       "      <td>10022492</td>\n",
       "      <td>10022492-1</td>\n",
       "      <td>1</td>\n",
       "      <td>A fundamental characteristic of working memory...</td>\n",
       "      <td>Callicott JH, Mattay VS, Bertolino A, Finn K, ...</td>\n",
       "      <td>Cerebral cortex (New York, N.Y. : 1991)</td>\n",
       "      <td>1999</td>\n",
       "      <td>Physiological characteristics of capacity cons...</td>\n",
       "      <td>Loci within dorsolateral prefrontal cortex (DL...</td>\n",
       "    </tr>\n",
       "    <tr>\n",
       "      <th>1</th>\n",
       "      <td>10022494</td>\n",
       "      <td>10022494-1</td>\n",
       "      <td>1</td>\n",
       "      <td>Electrophysiological studies on monkeys have b...</td>\n",
       "      <td>Toni I, Schluter ND, Josephs O, Friston K, Pas...</td>\n",
       "      <td>Cerebral cortex (New York, N.Y. : 1991)</td>\n",
       "      <td>1999</td>\n",
       "      <td>Signal-, set- and movement-related activity in...</td>\n",
       "      <td>By systematically varying the interval between...</td>\n",
       "    </tr>\n",
       "    <tr>\n",
       "      <th>2</th>\n",
       "      <td>10022496</td>\n",
       "      <td>10022496-1</td>\n",
       "      <td>1</td>\n",
       "      <td>Most functional imaging studies of the auditor...</td>\n",
       "      <td>Lockwood AH, Salvi RJ, Coad ML, Arnold SA, Wac...</td>\n",
       "      <td>Cerebral cortex (New York, N.Y. : 1991)</td>\n",
       "      <td>1999</td>\n",
       "      <td>The functional anatomy of the normal human aud...</td>\n",
       "      <td>We used positron emission tomography to map ne...</td>\n",
       "    </tr>\n",
       "    <tr>\n",
       "      <th>3</th>\n",
       "      <td>10051677</td>\n",
       "      <td>10051677-1</td>\n",
       "      <td>1</td>\n",
       "      <td>Positron emission tomography studies were cond...</td>\n",
       "      <td>Denton D, Shade R, Zamarippa F, Egan G, Blair-...</td>\n",
       "      <td>Proceedings of the National Academy of Science...</td>\n",
       "      <td>1999</td>\n",
       "      <td>Correlation of regional cerebral blood flow an...</td>\n",
       "      <td>The correlation of regional cerebral blood flo...</td>\n",
       "    </tr>\n",
       "    <tr>\n",
       "      <th>4</th>\n",
       "      <td>10191322</td>\n",
       "      <td>10191322-1</td>\n",
       "      <td>1</td>\n",
       "      <td>The cortical organization of language in bilin...</td>\n",
       "      <td>Chee MW, Tan EW, Thiel T</td>\n",
       "      <td>The Journal of neuroscience : the official jou...</td>\n",
       "      <td>1999</td>\n",
       "      <td>Mandarin and English single word processing st...</td>\n",
       "      <td>Blood oxygen level-dependent contrast function...</td>\n",
       "    </tr>\n",
       "    <tr>\n",
       "      <th>5</th>\n",
       "      <td>10196461</td>\n",
       "      <td>10196461-1</td>\n",
       "      <td>1</td>\n",
       "      <td>Sensory functional MRI was performed in seven ...</td>\n",
       "      <td>Maldjian JA, Gottschalk A, Patel RS, Pincus D,...</td>\n",
       "      <td>Brain research</td>\n",
       "      <td>1999</td>\n",
       "      <td>Mapping of secondary somatosensory cortex acti...</td>\n",
       "      <td></td>\n",
       "    </tr>\n",
       "    <tr>\n",
       "      <th>6</th>\n",
       "      <td>10197540</td>\n",
       "      <td>10197540-1</td>\n",
       "      <td>1</td>\n",
       "      <td>Apart from being a common feature of mental il...</td>\n",
       "      <td>Dierks T, Linden DE, Jandl M, Formisano E, Goe...</td>\n",
       "      <td>Neuron</td>\n",
       "      <td>1999</td>\n",
       "      <td>Activation of Heschl's gyrus during auditory h...</td>\n",
       "      <td>Until now, the knowledge about the cortical ne...</td>\n",
       "    </tr>\n",
       "    <tr>\n",
       "      <th>7</th>\n",
       "      <td>10215087</td>\n",
       "      <td>10215087-1</td>\n",
       "      <td>1</td>\n",
       "      <td>Guessing is an important component of everyday...</td>\n",
       "      <td>Elliott R, Rees G, Dolan RJ</td>\n",
       "      <td>Neuropsychologia</td>\n",
       "      <td>1999</td>\n",
       "      <td>Ventromedial prefrontal cortex mediates guessing.</td>\n",
       "      <td></td>\n",
       "    </tr>\n",
       "    <tr>\n",
       "      <th>8</th>\n",
       "      <td>10216270</td>\n",
       "      <td>10216270-1</td>\n",
       "      <td>1</td>\n",
       "      <td>Two studies examined the contribution of human...</td>\n",
       "      <td>Lepage M, Beaudoin G, Boulet C, O'Brien I, Mar...</td>\n",
       "      <td>Brain research. Cognitive brain research</td>\n",
       "      <td>1999</td>\n",
       "      <td>Frontal cortex and the programming of repetiti...</td>\n",
       "      <td>The frontal group showed normal initiation tim...</td>\n",
       "    </tr>\n",
       "    <tr>\n",
       "      <th>9</th>\n",
       "      <td>10220229</td>\n",
       "      <td>10220229-1</td>\n",
       "      <td>1</td>\n",
       "      <td>We assessed time-dependent neuronal activity a...</td>\n",
       "      <td>Fletcher P, Buchel C, Josephs O, Friston K, Do...</td>\n",
       "      <td>Cerebral cortex (New York, N.Y. : 1991)</td>\n",
       "      <td>1999</td>\n",
       "      <td>Learning-related neuronal responses in prefron...</td>\n",
       "      <td>An artificial grammar learning paradigm enable...</td>\n",
       "    </tr>\n",
       "  </tbody>\n",
       "</table>\n",
       "</div>"
      ],
      "text/plain": [
       "\n",
       "   study_id          id  contrast_id  \\\n",
       "\u001b[1;36m0\u001b[0m  \u001b[1;36m10022492\u001b[0m  \u001b[1;36m10022492\u001b[0m-\u001b[1;36m1\u001b[0m            \u001b[1;36m1\u001b[0m   \n",
       "\u001b[1;36m1\u001b[0m  \u001b[1;36m10022494\u001b[0m  \u001b[1;36m10022494\u001b[0m-\u001b[1;36m1\u001b[0m            \u001b[1;36m1\u001b[0m   \n",
       "\u001b[1;36m2\u001b[0m  \u001b[1;36m10022496\u001b[0m  \u001b[1;36m10022496\u001b[0m-\u001b[1;36m1\u001b[0m            \u001b[1;36m1\u001b[0m   \n",
       "\u001b[1;36m3\u001b[0m  \u001b[1;36m10051677\u001b[0m  \u001b[1;36m10051677\u001b[0m-\u001b[1;36m1\u001b[0m            \u001b[1;36m1\u001b[0m   \n",
       "\u001b[1;36m4\u001b[0m  \u001b[1;36m10191322\u001b[0m  \u001b[1;36m10191322\u001b[0m-\u001b[1;36m1\u001b[0m            \u001b[1;36m1\u001b[0m   \n",
       "\u001b[1;36m5\u001b[0m  \u001b[1;36m10196461\u001b[0m  \u001b[1;36m10196461\u001b[0m-\u001b[1;36m1\u001b[0m            \u001b[1;36m1\u001b[0m   \n",
       "\u001b[1;36m6\u001b[0m  \u001b[1;36m10197540\u001b[0m  \u001b[1;36m10197540\u001b[0m-\u001b[1;36m1\u001b[0m            \u001b[1;36m1\u001b[0m   \n",
       "\u001b[1;36m7\u001b[0m  \u001b[1;36m10215087\u001b[0m  \u001b[1;36m10215087\u001b[0m-\u001b[1;36m1\u001b[0m            \u001b[1;36m1\u001b[0m   \n",
       "\u001b[1;36m8\u001b[0m  \u001b[1;36m10216270\u001b[0m  \u001b[1;36m10216270\u001b[0m-\u001b[1;36m1\u001b[0m            \u001b[1;36m1\u001b[0m   \n",
       "\u001b[1;36m9\u001b[0m  \u001b[1;36m10220229\u001b[0m  \u001b[1;36m10220229\u001b[0m-\u001b[1;36m1\u001b[0m            \u001b[1;36m1\u001b[0m   \n",
       "\n",
       "                                            abstract  \\\n",
       "\u001b[1;36m0\u001b[0m  A fundamental characteristic of working memory\u001b[33m...\u001b[0m   \n",
       "\u001b[1;36m1\u001b[0m  Electrophysiological studies on monkeys have b\u001b[33m...\u001b[0m   \n",
       "\u001b[1;36m2\u001b[0m  Most functional imaging studies of the auditor\u001b[33m...\u001b[0m   \n",
       "\u001b[1;36m3\u001b[0m  Positron emission tomography studies were cond\u001b[33m...\u001b[0m   \n",
       "\u001b[1;36m4\u001b[0m  The cortical organization of language in bilin\u001b[33m...\u001b[0m   \n",
       "\u001b[1;36m5\u001b[0m  Sensory functional MRI was performed in seven \u001b[33m...\u001b[0m   \n",
       "\u001b[1;36m6\u001b[0m  Apart from being a common feature of mental il\u001b[33m...\u001b[0m   \n",
       "\u001b[1;36m7\u001b[0m  Guessing is an important component of everyday\u001b[33m...\u001b[0m   \n",
       "\u001b[1;36m8\u001b[0m  Two studies examined the contribution of human\u001b[33m...\u001b[0m   \n",
       "\u001b[1;36m9\u001b[0m  We assessed time-dependent neuronal activity a\u001b[33m...\u001b[0m   \n",
       "\n",
       "                                             authors  \\\n",
       "\u001b[1;36m0\u001b[0m  Callicott JH, Mattay VS, Bertolino A, Finn K, \u001b[33m...\u001b[0m   \n",
       "\u001b[1;36m1\u001b[0m  Toni I, Schluter ND, Josephs O, Friston K, Pas\u001b[33m...\u001b[0m   \n",
       "\u001b[1;36m2\u001b[0m  Lockwood AH, Salvi RJ, Coad ML, Arnold SA, Wac\u001b[33m...\u001b[0m   \n",
       "\u001b[1;36m3\u001b[0m  Denton D, Shade R, Zamarippa F, Egan G, Blair-\u001b[33m...\u001b[0m   \n",
       "\u001b[1;36m4\u001b[0m                           Chee MW, Tan EW, Thiel T   \n",
       "\u001b[1;36m5\u001b[0m  Maldjian JA, Gottschalk A, Patel RS, Pincus D,\u001b[33m...\u001b[0m   \n",
       "\u001b[1;36m6\u001b[0m  Dierks T, Linden DE, Jandl M, Formisano E, Goe\u001b[33m...\u001b[0m   \n",
       "\u001b[1;36m7\u001b[0m                        Elliott R, Rees G, Dolan RJ   \n",
       "\u001b[1;36m8\u001b[0m  Lepage M, Beaudoin G, Boulet C, O'Brien I, Mar\u001b[33m...\u001b[0m   \n",
       "\u001b[1;36m9\u001b[0m  Fletcher P, Buchel C, Josephs O, Friston K, Do\u001b[33m...\u001b[0m   \n",
       "\n",
       "                                             journal  year  \\\n",
       "\u001b[1;36m0\u001b[0m            Cerebral cortex \u001b[1m(\u001b[0mNew York, N.Y. : \u001b[1;36m1991\u001b[0m\u001b[1m)\u001b[0m  \u001b[1;36m1999\u001b[0m   \n",
       "\u001b[1;36m1\u001b[0m            Cerebral cortex \u001b[1m(\u001b[0mNew York, N.Y. : \u001b[1;36m1991\u001b[0m\u001b[1m)\u001b[0m  \u001b[1;36m1999\u001b[0m   \n",
       "\u001b[1;36m2\u001b[0m            Cerebral cortex \u001b[1m(\u001b[0mNew York, N.Y. : \u001b[1;36m1991\u001b[0m\u001b[1m)\u001b[0m  \u001b[1;36m1999\u001b[0m   \n",
       "\u001b[1;36m3\u001b[0m  Proceedings of the National Academy of Science\u001b[33m...\u001b[0m  \u001b[1;36m1999\u001b[0m   \n",
       "\u001b[1;36m4\u001b[0m  The Journal of neuroscience : the official jou\u001b[33m...\u001b[0m  \u001b[1;36m1999\u001b[0m   \n",
       "\u001b[1;36m5\u001b[0m                                     Brain research  \u001b[1;36m1999\u001b[0m   \n",
       "\u001b[1;36m6\u001b[0m                                             Neuron  \u001b[1;36m1999\u001b[0m   \n",
       "\u001b[1;36m7\u001b[0m                                   Neuropsychologia  \u001b[1;36m1999\u001b[0m   \n",
       "\u001b[1;36m8\u001b[0m           Brain research. Cognitive brain research  \u001b[1;36m1999\u001b[0m   \n",
       "\u001b[1;36m9\u001b[0m            Cerebral cortex \u001b[1m(\u001b[0mNew York, N.Y. : \u001b[1;36m1991\u001b[0m\u001b[1m)\u001b[0m  \u001b[1;36m1999\u001b[0m   \n",
       "\n",
       "                                               title  \\\n",
       "\u001b[1;36m0\u001b[0m  Physiological characteristics of capacity cons\u001b[33m...\u001b[0m   \n",
       "\u001b[1;36m1\u001b[0m  Signal-, set- and movement-related activity in\u001b[33m...\u001b[0m   \n",
       "\u001b[1;36m2\u001b[0m  The functional anatomy of the normal human aud\u001b[33m...\u001b[0m   \n",
       "\u001b[1;36m3\u001b[0m  Correlation of regional cerebral blood flow an\u001b[33m...\u001b[0m   \n",
       "\u001b[1;36m4\u001b[0m  Mandarin and English single word processing st\u001b[33m...\u001b[0m   \n",
       "\u001b[1;36m5\u001b[0m  Mapping of secondary somatosensory cortex acti\u001b[33m...\u001b[0m   \n",
       "\u001b[1;36m6\u001b[0m  Activation of Heschl's gyrus during auditory h\u001b[33m...\u001b[0m   \n",
       "\u001b[1;36m7\u001b[0m  Ventromedial prefrontal cortex mediates guessing.   \n",
       "\u001b[1;36m8\u001b[0m  Frontal cortex and the programming of repetiti\u001b[33m...\u001b[0m   \n",
       "\u001b[1;36m9\u001b[0m  Learning-related neuronal responses in prefron\u001b[33m...\u001b[0m   \n",
       "\n",
       "                                       det_sentences  \n",
       "\u001b[1;36m0\u001b[0m  Loci within dorsolateral prefrontal cortex \u001b[1m(\u001b[0mDL\u001b[33m...\u001b[0m  \n",
       "\u001b[1;36m1\u001b[0m  By systematically varying the interval between\u001b[33m...\u001b[0m  \n",
       "\u001b[1;36m2\u001b[0m  We used positron emission tomography to map ne\u001b[33m...\u001b[0m  \n",
       "\u001b[1;36m3\u001b[0m  The correlation of regional cerebral blood flo\u001b[33m...\u001b[0m  \n",
       "\u001b[1;36m4\u001b[0m  Blood oxygen level-dependent contrast function\u001b[33m...\u001b[0m  \n",
       "\u001b[1;36m5\u001b[0m                                                     \n",
       "\u001b[1;36m6\u001b[0m  Until now, the knowledge about the cortical ne\u001b[33m...\u001b[0m  \n",
       "\u001b[1;36m7\u001b[0m                                                     \n",
       "\u001b[1;36m8\u001b[0m  The frontal group showed normal initiation tim\u001b[33m...\u001b[0m  \n",
       "\u001b[1;36m9\u001b[0m  An artificial grammar learning paradigm enable\u001b[33m...\u001b[0m  "
      ]
     },
     "execution_count": 213,
     "metadata": {},
     "output_type": "execute_result"
    }
   ],
   "source": [
    "def gather_detected_output(df: pd.DataFrame, res: list):\n",
    "\n",
    "    out = {k: v for d in res for k, v in d.items()}\n",
    "\n",
    "    detected = pd.DataFrame()\n",
    "\n",
    "    detected['study_id'] = out.keys()\n",
    "    detected['det_sentences'] = out.values()\n",
    "\n",
    "    df = (df\n",
    "          .set_index('study_id')\n",
    "          .join(detected.set_index('study_id'))\n",
    "          .reset_index()\n",
    "          )\n",
    "\n",
    "    return df\n",
    "\n",
    "\n",
    "gather_detected_output(df.iloc[0:10, :], r)\n",
    "# gather_detected_output(df.iloc[0:10, :], out)"
   ]
  },
  {
   "cell_type": "code",
   "execution_count": 215,
   "metadata": {},
   "outputs": [
    {
     "data": {
      "text/html": [
       "<pre style=\"white-space:pre;overflow-x:auto;line-height:normal;font-family:Menlo,'DejaVu Sans Mono',consolas,'Courier New',monospace\"><span style=\"color: #7fbfbf; text-decoration-color: #7fbfbf\">[04/29/24 16:43:52] </span><span style=\"color: #000080; text-decoration-color: #000080\">INFO    </span> Loading data from <span style=\"color: #008000; text-decoration-color: #008000\">'detected_text'</span> <span style=\"font-weight: bold\">(</span>ParquetDataset<span style=\"font-weight: bold\">)</span><span style=\"color: #808000; text-decoration-color: #808000\">...</span>              <a href=\"file:///Users/tony/anaconda3/envs/pocs/lib/python3.8/site-packages/kedro/io/data_catalog.py\" target=\"_blank\"><span style=\"color: #7f7f7f; text-decoration-color: #7f7f7f\">data_catalog.py</span></a><span style=\"color: #7f7f7f; text-decoration-color: #7f7f7f\">:</span><a href=\"file:///Users/tony/anaconda3/envs/pocs/lib/python3.8/site-packages/kedro/io/data_catalog.py#502\" target=\"_blank\"><span style=\"color: #7f7f7f; text-decoration-color: #7f7f7f\">502</span></a>\n",
       "</pre>\n"
      ],
      "text/plain": [
       "\u001b[2;36m[04/29/24 16:43:52]\u001b[0m\u001b[2;36m \u001b[0m\u001b[34mINFO    \u001b[0m Loading data from \u001b[32m'detected_text'\u001b[0m \u001b[1m(\u001b[0mParquetDataset\u001b[1m)\u001b[0m\u001b[33m...\u001b[0m              \u001b]8;id=351047;file:///Users/tony/anaconda3/envs/pocs/lib/python3.8/site-packages/kedro/io/data_catalog.py\u001b\\\u001b[2mdata_catalog.py\u001b[0m\u001b]8;;\u001b\\\u001b[2m:\u001b[0m\u001b]8;id=877861;file:///Users/tony/anaconda3/envs/pocs/lib/python3.8/site-packages/kedro/io/data_catalog.py#502\u001b\\\u001b[2m502\u001b[0m\u001b]8;;\u001b\\\n"
      ]
     },
     "metadata": {},
     "output_type": "display_data"
    },
    {
     "data": {
      "text/html": [
       "<pre style=\"white-space:pre;overflow-x:auto;line-height:normal;font-family:Menlo,'DejaVu Sans Mono',consolas,'Courier New',monospace\"></pre>\n"
      ],
      "text/plain": []
     },
     "metadata": {},
     "output_type": "display_data"
    },
    {
     "data": {
      "text/html": [
       "<div>\n",
       "<style scoped>\n",
       "    .dataframe tbody tr th:only-of-type {\n",
       "        vertical-align: middle;\n",
       "    }\n",
       "\n",
       "    .dataframe tbody tr th {\n",
       "        vertical-align: top;\n",
       "    }\n",
       "\n",
       "    .dataframe thead th {\n",
       "        text-align: right;\n",
       "    }\n",
       "</style>\n",
       "<table border=\"1\" class=\"dataframe\">\n",
       "  <thead>\n",
       "    <tr style=\"text-align: right;\">\n",
       "      <th></th>\n",
       "      <th>study_id</th>\n",
       "      <th>id</th>\n",
       "      <th>contrast_id</th>\n",
       "      <th>abstract</th>\n",
       "      <th>authors</th>\n",
       "      <th>journal</th>\n",
       "      <th>year</th>\n",
       "      <th>title</th>\n",
       "      <th>det_sentences</th>\n",
       "    </tr>\n",
       "  </thead>\n",
       "  <tbody>\n",
       "    <tr>\n",
       "      <th>0</th>\n",
       "      <td>10022492</td>\n",
       "      <td>10022492-1</td>\n",
       "      <td>1</td>\n",
       "      <td>A fundamental characteristic of working memory...</td>\n",
       "      <td>Callicott JH, Mattay VS, Bertolino A, Finn K, ...</td>\n",
       "      <td>Cerebral cortex (New York, N.Y. : 1991)</td>\n",
       "      <td>1999</td>\n",
       "      <td>Physiological characteristics of capacity cons...</td>\n",
       "      <td>Loci within dorsolateral prefrontal cortex (DL...</td>\n",
       "    </tr>\n",
       "    <tr>\n",
       "      <th>1</th>\n",
       "      <td>10022494</td>\n",
       "      <td>10022494-1</td>\n",
       "      <td>1</td>\n",
       "      <td>Electrophysiological studies on monkeys have b...</td>\n",
       "      <td>Toni I, Schluter ND, Josephs O, Friston K, Pas...</td>\n",
       "      <td>Cerebral cortex (New York, N.Y. : 1991)</td>\n",
       "      <td>1999</td>\n",
       "      <td>Signal-, set- and movement-related activity in...</td>\n",
       "      <td>By systematically varying the interval between...</td>\n",
       "    </tr>\n",
       "    <tr>\n",
       "      <th>2</th>\n",
       "      <td>10022496</td>\n",
       "      <td>10022496-1</td>\n",
       "      <td>1</td>\n",
       "      <td>Most functional imaging studies of the auditor...</td>\n",
       "      <td>Lockwood AH, Salvi RJ, Coad ML, Arnold SA, Wac...</td>\n",
       "      <td>Cerebral cortex (New York, N.Y. : 1991)</td>\n",
       "      <td>1999</td>\n",
       "      <td>The functional anatomy of the normal human aud...</td>\n",
       "      <td>We used positron emission tomography to map ne...</td>\n",
       "    </tr>\n",
       "    <tr>\n",
       "      <th>3</th>\n",
       "      <td>10051677</td>\n",
       "      <td>10051677-1</td>\n",
       "      <td>1</td>\n",
       "      <td>Positron emission tomography studies were cond...</td>\n",
       "      <td>Denton D, Shade R, Zamarippa F, Egan G, Blair-...</td>\n",
       "      <td>Proceedings of the National Academy of Science...</td>\n",
       "      <td>1999</td>\n",
       "      <td>Correlation of regional cerebral blood flow an...</td>\n",
       "      <td>The correlation of regional cerebral blood flo...</td>\n",
       "    </tr>\n",
       "    <tr>\n",
       "      <th>4</th>\n",
       "      <td>10191322</td>\n",
       "      <td>10191322-1</td>\n",
       "      <td>1</td>\n",
       "      <td>The cortical organization of language in bilin...</td>\n",
       "      <td>Chee MW, Tan EW, Thiel T</td>\n",
       "      <td>The Journal of neuroscience : the official jou...</td>\n",
       "      <td>1999</td>\n",
       "      <td>Mandarin and English single word processing st...</td>\n",
       "      <td>Blood oxygen level-dependent contrast function...</td>\n",
       "    </tr>\n",
       "    <tr>\n",
       "      <th>...</th>\n",
       "      <td>...</td>\n",
       "      <td>...</td>\n",
       "      <td>...</td>\n",
       "      <td>...</td>\n",
       "      <td>...</td>\n",
       "      <td>...</td>\n",
       "      <td>...</td>\n",
       "      <td>...</td>\n",
       "      <td>...</td>\n",
       "    </tr>\n",
       "    <tr>\n",
       "      <th>14366</th>\n",
       "      <td>9819274</td>\n",
       "      <td>9819274-1</td>\n",
       "      <td>1</td>\n",
       "      <td>The cortical processing of vestibular informat...</td>\n",
       "      <td>Lobel E, Kleine JF, Bihan DL, Leroy-Willig A, ...</td>\n",
       "      <td>Journal of neurophysiology</td>\n",
       "      <td>1998</td>\n",
       "      <td>Functional MRI of galvanic vestibular stimulat...</td>\n",
       "      <td>None</td>\n",
       "    </tr>\n",
       "    <tr>\n",
       "      <th>14367</th>\n",
       "      <td>9838166</td>\n",
       "      <td>9838166-1</td>\n",
       "      <td>1</td>\n",
       "      <td>An impaired ability to recite highly automated...</td>\n",
       "      <td>Wildgruber D, Kischka U, Ackermann H, Klose U,...</td>\n",
       "      <td>Brain research. Cognitive brain research</td>\n",
       "      <td>1999</td>\n",
       "      <td>Dynamic pattern of brain activation during seq...</td>\n",
       "      <td>None</td>\n",
       "    </tr>\n",
       "    <tr>\n",
       "      <th>14368</th>\n",
       "      <td>9862924</td>\n",
       "      <td>9862924-1</td>\n",
       "      <td>1</td>\n",
       "      <td>Temporal and intensity coding of pain in human...</td>\n",
       "      <td>Porro CA, Cettolo V, Francescato MP, Baraldi P</td>\n",
       "      <td>Journal of neurophysiology</td>\n",
       "      <td>1998</td>\n",
       "      <td>Temporal and intensity coding of pain in human...</td>\n",
       "      <td>None</td>\n",
       "    </tr>\n",
       "    <tr>\n",
       "      <th>14369</th>\n",
       "      <td>9886448</td>\n",
       "      <td>9886448-1</td>\n",
       "      <td>1</td>\n",
       "      <td>OBJECTIVES: To report on a patient with a lacu...</td>\n",
       "      <td>Van Der Werf YD, Weerts JG, Jolles J, Witter M...</td>\n",
       "      <td>Journal of neurology, neurosurgery, and psychi...</td>\n",
       "      <td>1999</td>\n",
       "      <td>Neuropsychological correlates of a right unila...</td>\n",
       "      <td>None</td>\n",
       "    </tr>\n",
       "    <tr>\n",
       "      <th>14370</th>\n",
       "      <td>9990082</td>\n",
       "      <td>9990082-1</td>\n",
       "      <td>1</td>\n",
       "      <td>Visual areas of the occipitotemporal pathway a...</td>\n",
       "      <td>Lumer ED, Rees G</td>\n",
       "      <td>Proceedings of the National Academy of Science...</td>\n",
       "      <td>1999</td>\n",
       "      <td>Covariation of activity in visual and prefront...</td>\n",
       "      <td>None</td>\n",
       "    </tr>\n",
       "  </tbody>\n",
       "</table>\n",
       "<p>14371 rows × 9 columns</p>\n",
       "</div>"
      ],
      "text/plain": [
       "\n",
       "       study_id          id  contrast_id  \\\n",
       "\u001b[1;36m0\u001b[0m      \u001b[1;36m10022492\u001b[0m  \u001b[1;36m10022492\u001b[0m-\u001b[1;36m1\u001b[0m            \u001b[1;36m1\u001b[0m   \n",
       "\u001b[1;36m1\u001b[0m      \u001b[1;36m10022494\u001b[0m  \u001b[1;36m10022494\u001b[0m-\u001b[1;36m1\u001b[0m            \u001b[1;36m1\u001b[0m   \n",
       "\u001b[1;36m2\u001b[0m      \u001b[1;36m10022496\u001b[0m  \u001b[1;36m10022496\u001b[0m-\u001b[1;36m1\u001b[0m            \u001b[1;36m1\u001b[0m   \n",
       "\u001b[1;36m3\u001b[0m      \u001b[1;36m10051677\u001b[0m  \u001b[1;36m10051677\u001b[0m-\u001b[1;36m1\u001b[0m            \u001b[1;36m1\u001b[0m   \n",
       "\u001b[1;36m4\u001b[0m      \u001b[1;36m10191322\u001b[0m  \u001b[1;36m10191322\u001b[0m-\u001b[1;36m1\u001b[0m            \u001b[1;36m1\u001b[0m   \n",
       "\u001b[33m...\u001b[0m         \u001b[33m...\u001b[0m         \u001b[33m...\u001b[0m          \u001b[33m...\u001b[0m   \n",
       "\u001b[1;36m14366\u001b[0m   \u001b[1;36m9819274\u001b[0m   \u001b[1;36m9819274\u001b[0m-\u001b[1;36m1\u001b[0m            \u001b[1;36m1\u001b[0m   \n",
       "\u001b[1;36m14367\u001b[0m   \u001b[1;36m9838166\u001b[0m   \u001b[1;36m9838166\u001b[0m-\u001b[1;36m1\u001b[0m            \u001b[1;36m1\u001b[0m   \n",
       "\u001b[1;36m14368\u001b[0m   \u001b[1;36m9862924\u001b[0m   \u001b[1;36m9862924\u001b[0m-\u001b[1;36m1\u001b[0m            \u001b[1;36m1\u001b[0m   \n",
       "\u001b[1;36m14369\u001b[0m   \u001b[1;36m9886448\u001b[0m   \u001b[1;36m9886448\u001b[0m-\u001b[1;36m1\u001b[0m            \u001b[1;36m1\u001b[0m   \n",
       "\u001b[1;36m14370\u001b[0m   \u001b[1;36m9990082\u001b[0m   \u001b[1;36m9990082\u001b[0m-\u001b[1;36m1\u001b[0m            \u001b[1;36m1\u001b[0m   \n",
       "\n",
       "                                                abstract  \\\n",
       "\u001b[1;36m0\u001b[0m      A fundamental characteristic of working memory\u001b[33m...\u001b[0m   \n",
       "\u001b[1;36m1\u001b[0m      Electrophysiological studies on monkeys have b\u001b[33m...\u001b[0m   \n",
       "\u001b[1;36m2\u001b[0m      Most functional imaging studies of the auditor\u001b[33m...\u001b[0m   \n",
       "\u001b[1;36m3\u001b[0m      Positron emission tomography studies were cond\u001b[33m...\u001b[0m   \n",
       "\u001b[1;36m4\u001b[0m      The cortical organization of language in bilin\u001b[33m...\u001b[0m   \n",
       "\u001b[33m...\u001b[0m                                                  \u001b[33m...\u001b[0m   \n",
       "\u001b[1;36m14366\u001b[0m  The cortical processing of vestibular informat\u001b[33m...\u001b[0m   \n",
       "\u001b[1;36m14367\u001b[0m  An impaired ability to recite highly automated\u001b[33m...\u001b[0m   \n",
       "\u001b[1;36m14368\u001b[0m  Temporal and intensity coding of pain in human\u001b[33m...\u001b[0m   \n",
       "\u001b[1;36m14369\u001b[0m  OBJECTIVES: To report on a patient with a lacu\u001b[33m...\u001b[0m   \n",
       "\u001b[1;36m14370\u001b[0m  Visual areas of the occipitotemporal pathway a\u001b[33m...\u001b[0m   \n",
       "\n",
       "                                                 authors  \\\n",
       "\u001b[1;36m0\u001b[0m      Callicott JH, Mattay VS, Bertolino A, Finn K, \u001b[33m...\u001b[0m   \n",
       "\u001b[1;36m1\u001b[0m      Toni I, Schluter ND, Josephs O, Friston K, Pas\u001b[33m...\u001b[0m   \n",
       "\u001b[1;36m2\u001b[0m      Lockwood AH, Salvi RJ, Coad ML, Arnold SA, Wac\u001b[33m...\u001b[0m   \n",
       "\u001b[1;36m3\u001b[0m      Denton D, Shade R, Zamarippa F, Egan G, Blair-\u001b[33m...\u001b[0m   \n",
       "\u001b[1;36m4\u001b[0m                               Chee MW, Tan EW, Thiel T   \n",
       "\u001b[33m...\u001b[0m                                                  \u001b[33m...\u001b[0m   \n",
       "\u001b[1;36m14366\u001b[0m  Lobel E, Kleine JF, Bihan DL, Leroy-Willig A, \u001b[33m...\u001b[0m   \n",
       "\u001b[1;36m14367\u001b[0m  Wildgruber D, Kischka U, Ackermann H, Klose U,\u001b[33m...\u001b[0m   \n",
       "\u001b[1;36m14368\u001b[0m     Porro CA, Cettolo V, Francescato MP, Baraldi P   \n",
       "\u001b[1;36m14369\u001b[0m  Van Der Werf YD, Weerts JG, Jolles J, Witter M\u001b[33m...\u001b[0m   \n",
       "\u001b[1;36m14370\u001b[0m                                   Lumer ED, Rees G   \n",
       "\n",
       "                                                 journal  year  \\\n",
       "\u001b[1;36m0\u001b[0m                Cerebral cortex \u001b[1m(\u001b[0mNew York, N.Y. : \u001b[1;36m1991\u001b[0m\u001b[1m)\u001b[0m  \u001b[1;36m1999\u001b[0m   \n",
       "\u001b[1;36m1\u001b[0m                Cerebral cortex \u001b[1m(\u001b[0mNew York, N.Y. : \u001b[1;36m1991\u001b[0m\u001b[1m)\u001b[0m  \u001b[1;36m1999\u001b[0m   \n",
       "\u001b[1;36m2\u001b[0m                Cerebral cortex \u001b[1m(\u001b[0mNew York, N.Y. : \u001b[1;36m1991\u001b[0m\u001b[1m)\u001b[0m  \u001b[1;36m1999\u001b[0m   \n",
       "\u001b[1;36m3\u001b[0m      Proceedings of the National Academy of Science\u001b[33m...\u001b[0m  \u001b[1;36m1999\u001b[0m   \n",
       "\u001b[1;36m4\u001b[0m      The Journal of neuroscience : the official jou\u001b[33m...\u001b[0m  \u001b[1;36m1999\u001b[0m   \n",
       "\u001b[33m...\u001b[0m                                                  \u001b[33m...\u001b[0m   \u001b[33m...\u001b[0m   \n",
       "\u001b[1;36m14366\u001b[0m                         Journal of neurophysiology  \u001b[1;36m1998\u001b[0m   \n",
       "\u001b[1;36m14367\u001b[0m           Brain research. Cognitive brain research  \u001b[1;36m1999\u001b[0m   \n",
       "\u001b[1;36m14368\u001b[0m                         Journal of neurophysiology  \u001b[1;36m1998\u001b[0m   \n",
       "\u001b[1;36m14369\u001b[0m  Journal of neurology, neurosurgery, and psychi\u001b[33m...\u001b[0m  \u001b[1;36m1999\u001b[0m   \n",
       "\u001b[1;36m14370\u001b[0m  Proceedings of the National Academy of Science\u001b[33m...\u001b[0m  \u001b[1;36m1999\u001b[0m   \n",
       "\n",
       "                                                   title  \\\n",
       "\u001b[1;36m0\u001b[0m      Physiological characteristics of capacity cons\u001b[33m...\u001b[0m   \n",
       "\u001b[1;36m1\u001b[0m      Signal-, set- and movement-related activity in\u001b[33m...\u001b[0m   \n",
       "\u001b[1;36m2\u001b[0m      The functional anatomy of the normal human aud\u001b[33m...\u001b[0m   \n",
       "\u001b[1;36m3\u001b[0m      Correlation of regional cerebral blood flow an\u001b[33m...\u001b[0m   \n",
       "\u001b[1;36m4\u001b[0m      Mandarin and English single word processing st\u001b[33m...\u001b[0m   \n",
       "\u001b[33m...\u001b[0m                                                  \u001b[33m...\u001b[0m   \n",
       "\u001b[1;36m14366\u001b[0m  Functional MRI of galvanic vestibular stimulat\u001b[33m...\u001b[0m   \n",
       "\u001b[1;36m14367\u001b[0m  Dynamic pattern of brain activation during seq\u001b[33m...\u001b[0m   \n",
       "\u001b[1;36m14368\u001b[0m  Temporal and intensity coding of pain in human\u001b[33m...\u001b[0m   \n",
       "\u001b[1;36m14369\u001b[0m  Neuropsychological correlates of a right unila\u001b[33m...\u001b[0m   \n",
       "\u001b[1;36m14370\u001b[0m  Covariation of activity in visual and prefront\u001b[33m...\u001b[0m   \n",
       "\n",
       "                                           det_sentences  \n",
       "\u001b[1;36m0\u001b[0m      Loci within dorsolateral prefrontal cortex \u001b[1m(\u001b[0mDL\u001b[33m...\u001b[0m  \n",
       "\u001b[1;36m1\u001b[0m      By systematically varying the interval between\u001b[33m...\u001b[0m  \n",
       "\u001b[1;36m2\u001b[0m      We used positron emission tomography to map ne\u001b[33m...\u001b[0m  \n",
       "\u001b[1;36m3\u001b[0m      The correlation of regional cerebral blood flo\u001b[33m...\u001b[0m  \n",
       "\u001b[1;36m4\u001b[0m      Blood oxygen level-dependent contrast function\u001b[33m...\u001b[0m  \n",
       "\u001b[33m...\u001b[0m                                                  \u001b[33m...\u001b[0m  \n",
       "\u001b[1;36m14366\u001b[0m                                               \u001b[3;35mNone\u001b[0m  \n",
       "\u001b[1;36m14367\u001b[0m                                               \u001b[3;35mNone\u001b[0m  \n",
       "\u001b[1;36m14368\u001b[0m                                               \u001b[3;35mNone\u001b[0m  \n",
       "\u001b[1;36m14369\u001b[0m                                               \u001b[3;35mNone\u001b[0m  \n",
       "\u001b[1;36m14370\u001b[0m                                               \u001b[3;35mNone\u001b[0m  \n",
       "\n",
       "\u001b[1m[\u001b[0m\u001b[1;36m14371\u001b[0m rows x \u001b[1;36m9\u001b[0m columns\u001b[1m]\u001b[0m"
      ]
     },
     "execution_count": 215,
     "metadata": {},
     "output_type": "execute_result"
    }
   ],
   "source": [
    "catalog.load('detected_text')"
   ]
  }
 ],
 "metadata": {
  "kernelspec": {
   "display_name": "Kedro (work)",
   "language": "python",
   "name": "kedro_work"
  },
  "language_info": {
   "codemirror_mode": {
    "name": "ipython",
    "version": 3
   },
   "file_extension": ".py",
   "mimetype": "text/x-python",
   "name": "python",
   "nbconvert_exporter": "python",
   "pygments_lexer": "ipython3",
   "version": "3.8.18"
  }
 },
 "nbformat": 4,
 "nbformat_minor": 2
}
